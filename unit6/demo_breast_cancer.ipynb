{
  "nbformat": 4,
  "nbformat_minor": 0,
  "metadata": {
    "anaconda-cloud": {},
    "kernelspec": {
      "display_name": "Python 3",
      "language": "python",
      "name": "python3"
    },
    "language_info": {
      "codemirror_mode": {
        "name": "ipython",
        "version": 3
      },
      "file_extension": ".py",
      "mimetype": "text/x-python",
      "name": "python",
      "nbconvert_exporter": "python",
      "pygments_lexer": "ipython3",
      "version": "3.7.4"
    },
    "colab": {
      "name": "demo_breast_cancer.ipynb",
      "provenance": [],
      "include_colab_link": true
    }
  },
  "cells": [
    {
      "cell_type": "markdown",
      "metadata": {
        "id": "view-in-github",
        "colab_type": "text"
      },
      "source": [
        "<a href=\"https://colab.research.google.com/github/siddharthchd/introml/blob/master/unit6/demo_breast_cancer.ipynb\" target=\"_parent\"><img src=\"https://colab.research.google.com/assets/colab-badge.svg\" alt=\"Open In Colab\"/></a>"
      ]
    },
    {
      "cell_type": "markdown",
      "metadata": {
        "id": "3e_tRpIkH-V2"
      },
      "source": [
        "#  Breast Cancer Diagnosis via Logistic Regression"
      ]
    },
    {
      "cell_type": "markdown",
      "metadata": {
        "id": "IvPtYruVH-V3"
      },
      "source": [
        "In this demo, we will see how to visualize training data for classification, plot the logistic function and perform logistic regression.  As an example, we will use the widely-used breast cancer data set.  This data set is described here:\n",
        "\n",
        "https://archive.ics.uci.edu/ml/machine-learning-databases/breast-cancer-wisconsin\n",
        "\n",
        "Each sample is a collection of features that were manually recorded by a physician upon inspecting a sample of cells from fine needle aspiration.  The goal is to detect if the cells are benign or malignant.  In going through this demo, you will learn to:\n",
        "\n",
        "* Use a colored scatter plot to visualize data to be classified\n",
        "* Mathematically describe logistic classification rules\n",
        "* Fit logistic classifiers using `sklearn`\n",
        "* Measure the accuracy of the classifers\n",
        "* Visualize the output probabilities\n",
        "* Measure TPR, FPR and plot a ROC curve"
      ]
    },
    {
      "cell_type": "markdown",
      "metadata": {
        "id": "lR2rM0M3H-V3"
      },
      "source": [
        "## Loading and Visualizing the Data\n",
        "\n",
        "We first load the packages as usual."
      ]
    },
    {
      "cell_type": "code",
      "metadata": {
        "id": "Hn1RS9jDH-V4"
      },
      "source": [
        "import numpy as np\n",
        "import matplotlib\n",
        "import matplotlib.pyplot as plt\n",
        "import pandas as pd\n",
        "from sklearn import datasets, linear_model, preprocessing"
      ],
      "execution_count": null,
      "outputs": []
    },
    {
      "cell_type": "markdown",
      "metadata": {
        "id": "1zXp1ESxH-V8"
      },
      "source": [
        "Next, we load the data from the UCI site.  It is important to remove the missing values."
      ]
    },
    {
      "cell_type": "code",
      "metadata": {
        "id": "vOi17-RxH-V8",
        "outputId": "4232de11-15d6-4195-a81a-1c02a3ebffc3",
        "colab": {
          "base_uri": "https://localhost:8080/",
          "height": 225
        }
      },
      "source": [
        "names = ['id','thick','size_unif','shape_unif','marg','cell_size','bare',\n",
        "         'chrom','normal','mit','class']\n",
        "df = pd.read_csv('https://archive.ics.uci.edu/ml/machine-learning-databases/' +\n",
        "                 'breast-cancer-wisconsin/breast-cancer-wisconsin.data',\n",
        "                names=names,na_values='?',header=None)\n",
        "df = df.dropna()\n",
        "df.head(6)"
      ],
      "execution_count": null,
      "outputs": [
        {
          "output_type": "execute_result",
          "data": {
            "text/html": [
              "<div>\n",
              "<style scoped>\n",
              "    .dataframe tbody tr th:only-of-type {\n",
              "        vertical-align: middle;\n",
              "    }\n",
              "\n",
              "    .dataframe tbody tr th {\n",
              "        vertical-align: top;\n",
              "    }\n",
              "\n",
              "    .dataframe thead th {\n",
              "        text-align: right;\n",
              "    }\n",
              "</style>\n",
              "<table border=\"1\" class=\"dataframe\">\n",
              "  <thead>\n",
              "    <tr style=\"text-align: right;\">\n",
              "      <th></th>\n",
              "      <th>id</th>\n",
              "      <th>thick</th>\n",
              "      <th>size_unif</th>\n",
              "      <th>shape_unif</th>\n",
              "      <th>marg</th>\n",
              "      <th>cell_size</th>\n",
              "      <th>bare</th>\n",
              "      <th>chrom</th>\n",
              "      <th>normal</th>\n",
              "      <th>mit</th>\n",
              "      <th>class</th>\n",
              "    </tr>\n",
              "  </thead>\n",
              "  <tbody>\n",
              "    <tr>\n",
              "      <th>0</th>\n",
              "      <td>1000025</td>\n",
              "      <td>5</td>\n",
              "      <td>1</td>\n",
              "      <td>1</td>\n",
              "      <td>1</td>\n",
              "      <td>2</td>\n",
              "      <td>1.0</td>\n",
              "      <td>3</td>\n",
              "      <td>1</td>\n",
              "      <td>1</td>\n",
              "      <td>2</td>\n",
              "    </tr>\n",
              "    <tr>\n",
              "      <th>1</th>\n",
              "      <td>1002945</td>\n",
              "      <td>5</td>\n",
              "      <td>4</td>\n",
              "      <td>4</td>\n",
              "      <td>5</td>\n",
              "      <td>7</td>\n",
              "      <td>10.0</td>\n",
              "      <td>3</td>\n",
              "      <td>2</td>\n",
              "      <td>1</td>\n",
              "      <td>2</td>\n",
              "    </tr>\n",
              "    <tr>\n",
              "      <th>2</th>\n",
              "      <td>1015425</td>\n",
              "      <td>3</td>\n",
              "      <td>1</td>\n",
              "      <td>1</td>\n",
              "      <td>1</td>\n",
              "      <td>2</td>\n",
              "      <td>2.0</td>\n",
              "      <td>3</td>\n",
              "      <td>1</td>\n",
              "      <td>1</td>\n",
              "      <td>2</td>\n",
              "    </tr>\n",
              "    <tr>\n",
              "      <th>3</th>\n",
              "      <td>1016277</td>\n",
              "      <td>6</td>\n",
              "      <td>8</td>\n",
              "      <td>8</td>\n",
              "      <td>1</td>\n",
              "      <td>3</td>\n",
              "      <td>4.0</td>\n",
              "      <td>3</td>\n",
              "      <td>7</td>\n",
              "      <td>1</td>\n",
              "      <td>2</td>\n",
              "    </tr>\n",
              "    <tr>\n",
              "      <th>4</th>\n",
              "      <td>1017023</td>\n",
              "      <td>4</td>\n",
              "      <td>1</td>\n",
              "      <td>1</td>\n",
              "      <td>3</td>\n",
              "      <td>2</td>\n",
              "      <td>1.0</td>\n",
              "      <td>3</td>\n",
              "      <td>1</td>\n",
              "      <td>1</td>\n",
              "      <td>2</td>\n",
              "    </tr>\n",
              "    <tr>\n",
              "      <th>5</th>\n",
              "      <td>1017122</td>\n",
              "      <td>8</td>\n",
              "      <td>10</td>\n",
              "      <td>10</td>\n",
              "      <td>8</td>\n",
              "      <td>7</td>\n",
              "      <td>10.0</td>\n",
              "      <td>9</td>\n",
              "      <td>7</td>\n",
              "      <td>1</td>\n",
              "      <td>4</td>\n",
              "    </tr>\n",
              "  </tbody>\n",
              "</table>\n",
              "</div>"
            ],
            "text/plain": [
              "        id  thick  size_unif  shape_unif  marg  ...  bare  chrom  normal  mit  class\n",
              "0  1000025      5          1           1     1  ...   1.0      3       1    1      2\n",
              "1  1002945      5          4           4     5  ...  10.0      3       2    1      2\n",
              "2  1015425      3          1           1     1  ...   2.0      3       1    1      2\n",
              "3  1016277      6          8           8     1  ...   4.0      3       7    1      2\n",
              "4  1017023      4          1           1     3  ...   1.0      3       1    1      2\n",
              "5  1017122      8         10          10     8  ...  10.0      9       7    1      4\n",
              "\n",
              "[6 rows x 11 columns]"
            ]
          },
          "metadata": {
            "tags": []
          },
          "execution_count": 2
        }
      ]
    },
    {
      "cell_type": "markdown",
      "metadata": {
        "id": "su4-f49yH-WA"
      },
      "source": [
        "After loading the data, we can create a scatter plot of the data labeling the class values with different colors.  We will pick two of the features.  "
      ]
    },
    {
      "cell_type": "code",
      "metadata": {
        "scrolled": true,
        "id": "Hf3WX0PBH-WA",
        "outputId": "0fbdce99-3b38-4ec5-da03-e746d51f97a9",
        "colab": {
          "base_uri": "https://localhost:8080/",
          "height": 308
        }
      },
      "source": [
        "# Get the response. Convert to a zero-one indicator\n",
        "yraw = np.array(df['class'])\n",
        "BEN_VAL = 2   # value in the 'class' label for benign samples\n",
        "MAL_VAL = 4   # value in the 'class' label for malignant samples\n",
        "y = (yraw == MAL_VAL).astype(int)\n",
        "Iben = (y == 0)\n",
        "Imal = (y == 1)\n",
        "\n",
        "# Get two predictors\n",
        "xnames = ['size_unif', 'marg'] \n",
        "X = np.array(df[xnames])\n",
        "\n",
        "# Create the scatter plot\n",
        "plt.plot(X[Imal,0], X[Imal,1], 'r.')\n",
        "plt.plot(X[Iben,0], X[Iben,1], 'g.')\n",
        "plt.xlabel(xnames[0], fontsize = 16)\n",
        "plt.ylabel(xnames[1], fontsize = 16)\n",
        "plt.ylim(0, 14)\n",
        "plt.legend(['malign', 'benign'], loc = 'upper right')"
      ],
      "execution_count": null,
      "outputs": [
        {
          "output_type": "execute_result",
          "data": {
            "text/plain": [
              "<matplotlib.legend.Legend at 0x7fefba425eb8>"
            ]
          },
          "metadata": {
            "tags": []
          },
          "execution_count": 6
        },
        {
          "output_type": "display_data",
          "data": {
            "image/png": "[encoded data removed]",
            "text/plain": [
              "<Figure size 432x288 with 1 Axes>"
            ]
          },
          "metadata": {
            "tags": [],
            "needs_background": "light"
          }
        }
      ]
    },
    {
      "cell_type": "markdown",
      "metadata": {
        "id": "Akz7iIjWH-WD"
      },
      "source": [
        "The above plot is not informative, since many of the points are on top of one another.  Thus, we cannot see the relative frequency of points.  \n",
        "\n",
        "One way to improve the plot is to draw circles on each point whose size is proportional to the count of samples at that point.  We will re-use this code, so we define a function. "
      ]
    },
    {
      "cell_type": "code",
      "metadata": {
        "scrolled": true,
        "id": "r6m-v3vGH-WD",
        "outputId": "c1e7518b-2c40-4097-986d-81392b61b9ce",
        "colab": {
          "base_uri": "https://localhost:8080/",
          "height": 290
        }
      },
      "source": [
        "def plot_cnt(X,y,legend=True):\n",
        "    \n",
        "    # Compute the bin edges for the 2d histogram\n",
        "    x0val = np.array(list(set(X[:,0]))).astype(float)\n",
        "    x1val = np.array(list(set(X[:,1]))).astype(float)\n",
        "    x0, x1 = np.meshgrid(x0val,x1val)\n",
        "    x0e= np.hstack((x0val,np.max(x0val)+1))\n",
        "    x1e= np.hstack((x1val,np.max(x1val)+1))\n",
        "\n",
        "    # Make a plot for each class\n",
        "    yval = list(set(y))\n",
        "    color = ['g','r']\n",
        "    for i in range(len(yval)):\n",
        "        I = np.where(y==yval[i])[0]\n",
        "        cnt, x0e, x1e = np.histogram2d(X[I,0],X[I,1],[x0e,x1e])\n",
        "        x0, x1 = np.meshgrid(x0val,x1val)\n",
        "        plt.scatter(x0.ravel(), x1.ravel(), s=2*cnt.ravel(),alpha=0.5,\n",
        "                    c=color[i],edgecolors='none')\n",
        "    if legend:\n",
        "        plt.ylim([0,14])\n",
        "        plt.legend(['benign','malign'], loc='upper right')\n",
        "        plt.xlabel(xnames[0], fontsize=16)\n",
        "        plt.ylabel(xnames[1], fontsize=16)   \n",
        "        \n",
        "plot_cnt(X,y)"
      ],
      "execution_count": null,
      "outputs": [
        {
          "output_type": "display_data",
          "data": {
            "image/png": "[encoded data removed]",
            "text/plain": [
              "<Figure size 432x288 with 1 Axes>"
            ]
          },
          "metadata": {
            "tags": [],
            "needs_background": "light"
          }
        }
      ]
    },
    {
      "cell_type": "markdown",
      "metadata": {
        "id": "R47trdPKH-WF"
      },
      "source": [
        "## In-Class Exercise\n",
        "\n",
        "Based on the above plot, what would be a good \"classifer\" using the two features.  That is, write a function that makes a prediction `yhat` of the class label `y`.  Code up your classifier function.  Measure the accuracy of the classifier on the data.  What percentage error does your classifier get?"
      ]
    },
    {
      "cell_type": "code",
      "metadata": {
        "id": "cQEWDARsH-WG"
      },
      "source": [
        "# TODO"
      ],
      "execution_count": null,
      "outputs": []
    },
    {
      "cell_type": "markdown",
      "metadata": {
        "id": "ta9S8UEOH-WI"
      },
      "source": [
        "## Some Simple Classification Ideas"
      ]
    },
    {
      "cell_type": "markdown",
      "metadata": {
        "id": "_IkFboK4H-WI"
      },
      "source": [
        "Here are some ideas for classification that you may have already thought of.  We can see that the benign samples are located in the lower left.  So, one simple classification rule is to define the region with a line.  We plot the region for one possible line with the following code."
      ]
    },
    {
      "cell_type": "code",
      "metadata": {
        "id": "m7DxxUUWH-WI",
        "outputId": "e3fa19e1-e904-4f66-90ab-65555740bbf4"
      },
      "source": [
        "from matplotlib import patches\n",
        "plot_cnt(X,y)\n",
        "\n",
        "ax = plt.gca() \n",
        "ax.add_patch(\n",
        "    patches.Polygon([[0,0],[0,4],[6,0]],\n",
        "        color='green',\n",
        "        fill=False, hatch = '//'\n",
        "    )\n",
        ")"
      ],
      "execution_count": null,
      "outputs": [
        {
          "output_type": "execute_result",
          "data": {
            "text/plain": [
              "<matplotlib.patches.Polygon at 0x1d7a6e48548>"
            ]
          },
          "metadata": {
            "tags": []
          },
          "execution_count": 7
        },
        {
          "output_type": "display_data",
          "data": {
            "image/png": "[encoded data removed]",
            "text/plain": [
              "<Figure size 432x288 with 1 Axes>"
            ]
          },
          "metadata": {
            "tags": [],
            "needs_background": "light"
          }
        }
      ]
    },
    {
      "cell_type": "markdown",
      "metadata": {
        "id": "Wpq8y5sdH-WM"
      },
      "source": [
        "Here is an alternate classification rule based on two linear constraints."
      ]
    },
    {
      "cell_type": "code",
      "metadata": {
        "id": "3WqWX60WH-WM",
        "outputId": "dc2f0f3d-ebaa-4d16-ec05-b97ec3e5a3c4"
      },
      "source": [
        "plot_cnt(X,y)\n",
        "ax = plt.gca()\n",
        "ax.add_patch(\n",
        "    patches.Rectangle(\n",
        "        (0, 0),   # (x,y)\n",
        "        width=3.5, height=4.5,  color='green',\n",
        "        fill=False, hatch = '//'\n",
        "    )\n",
        ")"
      ],
      "execution_count": null,
      "outputs": [
        {
          "output_type": "execute_result",
          "data": {
            "text/plain": [
              "<matplotlib.patches.Rectangle at 0x1d7a6f2ac08>"
            ]
          },
          "metadata": {
            "tags": []
          },
          "execution_count": 8
        },
        {
          "output_type": "display_data",
          "data": {
            "image/png": "[encoded data removed]",
            "text/plain": [
              "<Figure size 432x288 with 1 Axes>"
            ]
          },
          "metadata": {
            "tags": [],
            "needs_background": "light"
          }
        }
      ]
    },
    {
      "cell_type": "markdown",
      "metadata": {
        "id": "SpJpUtbWH-WO"
      },
      "source": [
        "## Logistic Functions\n"
      ]
    },
    {
      "cell_type": "markdown",
      "metadata": {
        "id": "eTmEWxDYH-WP"
      },
      "source": [
        "Both the above two classification rules will work well.  But, in general, manually selecting rules from visual inspection is hard.  This demo we will show to fit a type of classifier called *logistic regression*.  In logistic regression, we do not just output an estimate of the class label, `yhat`.  Instead, we ouput a *probability*, an estimate of how likely the sample is one class or the other.  That is our output is a number from 0 to 1 representing the likelihood:\n",
        "$$\n",
        "    P(y = 1|x)\n",
        "$$\n",
        "which is our estimate of the probability that the sample is one class (in this case, a malignant sample) based on the features `x`.  This is sometimes called a *soft classifier*.  \n",
        "\n",
        "In logistic regression, we assume that likelihood is of the form\n",
        "$$\n",
        "    P(y=1|x) = f(z),  \\quad z = w_0 + w_1x_1 + \\cdots + w_kx_k,  \n",
        "$$\n",
        "where $w_0,\\ldots,w_k$ are the classifier weights and $f(z)$ is the so-called *logistic* function:\n",
        "$$\n",
        "    f(z) = \\frac{1}{1+e^{-z}}.\n",
        "$$\n",
        "\n",
        "To understand the logistic function, suppose $x$ is a scalar and samples $y$ are drawn with $P(y=1|x) = f(w_1x)$ for some scaling constant $w_1$.  We plot these samples for different $w_1$."
      ]
    },
    {
      "cell_type": "code",
      "metadata": {
        "id": "JlzVTLOpH-WP",
        "outputId": "18a8a829-b4cf-4c4b-82f4-05bbe07ce03d",
        "colab": {
          "base_uri": "https://localhost:8080/",
          "height": 281
        }
      },
      "source": [
        "nx = 100\n",
        "xm = 10\n",
        "w1s = np.array([0, 5, 1, 2, 10])\n",
        "nplot = w1s.size \n",
        "iplot = 0\n",
        "\n",
        "for w1 in w1s:\n",
        "\n",
        "    iplot += 1\n",
        "    x = np.random.uniform(-xm, xm, nx)\n",
        "    plt.subplot(1, nplot, iplot)\n",
        "    py = 1 / (1 + np.exp(-w1 * x))\n",
        "    yp = np.array(np.random.rand(nx) < py)\n",
        "    xp = np.linspace(-xm, xm, 100)\n",
        "    pyp = 1 / (1 + np.exp(-w1 * xp))\n",
        "\n",
        "    plt.scatter(x, yp, c = yp, edgecolors = 'none', marker = '+')\n",
        "    plt.plot(xp, pyp, 'b-')\n",
        "    plt.axis([-xm, xm, -0.1, 1.1])\n",
        "    plt.grid()\n",
        "\n",
        "    if iplot > 1:\n",
        "        plt.yticks([])\n",
        "    plt.xticks([-10, 0, 10])\n",
        "    plt.title('w1 = {0:.1f}'.format(w1))"
      ],
      "execution_count": null,
      "outputs": [
        {
          "output_type": "display_data",
          "data": {
            "image/png": "[encoded data removed]",
            "text/plain": [
              "<Figure size 432x288 with 5 Axes>"
            ]
          },
          "metadata": {
            "tags": [],
            "needs_background": "light"
          }
        }
      ]
    },
    {
      "cell_type": "markdown",
      "metadata": {
        "id": "Yo-E2jcUH-WR"
      },
      "source": [
        "We see that $f(w_1x)$ represents the probability that $y=1$.  The function $f(w_1x) > 0.5$ for $x>0$ meaning the samples are more likely to be $y=1$.  Similarly, for $x<0$, the samples are more likely to $y=0$.  The scaling $w_1$ determines how fast that transition is."
      ]
    },
    {
      "cell_type": "markdown",
      "metadata": {
        "id": "egfE8rrbH-WR"
      },
      "source": [
        "## Fitting the Logistic Model on Two  Variables\n",
        "\n",
        "In a logistic model, we must fit the weights `w_0,w_1,...,w_k`  in the model \n",
        "\n",
        "    P(y=1|x) = f(z)=1/(1+exp(-z)),  z = w_0 + w_1x_1 + ... + w_kx_k.\n",
        "    \n",
        "For the purpose of visualization, we will first fit the model on the two variables `size_unif` and `marg` that we were looking at earlier."
      ]
    },
    {
      "cell_type": "code",
      "metadata": {
        "id": "G7dQYay1H-WS",
        "outputId": "bde10c13-bc7a-4e1d-f21d-a91e57b92a1c",
        "colab": {
          "base_uri": "https://localhost:8080/",
          "height": 34
        }
      },
      "source": [
        "xnames =['size_unif','marg'] \n",
        "X = np.array(df[xnames])\n",
        "print(X.shape)"
      ],
      "execution_count": null,
      "outputs": [
        {
          "output_type": "stream",
          "text": [
            "(683, 2)\n"
          ],
          "name": "stdout"
        }
      ]
    },
    {
      "cell_type": "markdown",
      "metadata": {
        "id": "wWlzU2_dH-WU"
      },
      "source": [
        "Next we split the data into training and test"
      ]
    },
    {
      "cell_type": "code",
      "metadata": {
        "id": "H_z_m-rvH-WU"
      },
      "source": [
        "# Split into training and test\n",
        "from sklearn.model_selection import train_test_split\n",
        "Xtr, Xts, ytr, yts = train_test_split(X,y, test_size=0.30)"
      ],
      "execution_count": null,
      "outputs": []
    },
    {
      "cell_type": "markdown",
      "metadata": {
        "id": "RIhrDPm2H-WW"
      },
      "source": [
        "Similar to the linear regression, we generally scale the variables before fitting."
      ]
    },
    {
      "cell_type": "code",
      "metadata": {
        "id": "a-BOq-9eH-WX"
      },
      "source": [
        "from sklearn.preprocessing import StandardScaler\n",
        "\n",
        "scal = StandardScaler()\n",
        "Xtr1 = scal.fit_transform(Xtr)\n",
        "Xts1 = scal.transform(Xts)"
      ],
      "execution_count": null,
      "outputs": []
    },
    {
      "cell_type": "markdown",
      "metadata": {
        "id": "4wrZpQboH-WY"
      },
      "source": [
        "The actually fitting is now easy with the `sklearn` package.  The parameter `C` states the level of regularization with higher values meaning less regularization.  Right now, we will select a high value to minimally regularize the estimate."
      ]
    },
    {
      "cell_type": "code",
      "metadata": {
        "id": "-4O0H9AuH-WZ",
        "outputId": "c6869f30-2e78-4ba5-bfe8-f9cfbd400636",
        "colab": {
          "base_uri": "https://localhost:8080/",
          "height": 105
        }
      },
      "source": [
        "reg = linear_model.LogisticRegression(C=1e5)\n",
        "reg.fit(Xtr1, ytr)"
      ],
      "execution_count": null,
      "outputs": [
        {
          "output_type": "execute_result",
          "data": {
            "text/plain": [
              "LogisticRegression(C=100000.0, class_weight=None, dual=False,\n",
              "                   fit_intercept=True, intercept_scaling=1, l1_ratio=None,\n",
              "                   max_iter=100, multi_class='auto', n_jobs=None, penalty='l2',\n",
              "                   random_state=None, solver='lbfgs', tol=0.0001, verbose=0,\n",
              "                   warm_start=False)"
            ]
          },
          "metadata": {
            "tags": []
          },
          "execution_count": 12
        }
      ]
    },
    {
      "cell_type": "markdown",
      "metadata": {
        "id": "UV66EAT0H-Wb"
      },
      "source": [
        "Finally, we can measure the accuracy on the test data.  You should get an accuracy around 93%.  This may be similar to what you designed by hand."
      ]
    },
    {
      "cell_type": "code",
      "metadata": {
        "id": "QnPNH365H-Wb",
        "outputId": "5ca494be-1d74-4f78-87a4-2e6fd577de73",
        "colab": {
          "base_uri": "https://localhost:8080/",
          "height": 34
        }
      },
      "source": [
        "yhat = reg.predict(Xts1)\n",
        "acc = np.mean(yhat == yts)\n",
        "print(\"Accuracy on test data = %f\" % acc)"
      ],
      "execution_count": null,
      "outputs": [
        {
          "output_type": "stream",
          "text": [
            "Accuracy on test data = 0.970732\n"
          ],
          "name": "stdout"
        }
      ]
    },
    {
      "cell_type": "markdown",
      "metadata": {
        "id": "c7RbQ9v4H-Wd"
      },
      "source": [
        "It is useful to plot the probabilities as a function of the two variables.  The plot below plots the data points along with a blue color that indicates the probability that the logistic model assigns to each point that the point is malignant.  We see points in the lower left are assigned low probabilities while the upper right are assigned high probabilities."
      ]
    },
    {
      "cell_type": "code",
      "metadata": {
        "id": "yCP4qy-IH-Wd",
        "outputId": "a6df46f5-0f0a-405d-d7a4-3d2cb7078863",
        "colab": {
          "base_uri": "https://localhost:8080/",
          "height": 330
        }
      },
      "source": [
        "\n",
        "from matplotlib import cm\n",
        "from matplotlib.colors import ListedColormap, LinearSegmentedColormap\n",
        "\n",
        "blue_map = cm.get_cmap('Blues')\n",
        "light_map = ListedColormap(blue_map(np.linspace(0,0.5,100)))\n",
        "\n",
        "# Create grid of points to plot the data\n",
        "xmin = np.array([0,0])\n",
        "xmax = np.array([12,12])\n",
        "nplot = 100\n",
        "xp0 = np.linspace(xmin[0], xmax[0], nplot)\n",
        "xp1 = np.linspace(xmin[1], xmax[1], nplot)\n",
        "Xp0, Xp1 = np.meshgrid(xp0,xp1)\n",
        "Xplot = np.column_stack((Xp0.ravel(), Xp1.ravel()))\n",
        "Zplot = scal.transform(Xplot)\n",
        "\n",
        "\n",
        "prob = reg.predict_proba(Zplot)[:,1]\n",
        "prob_mat = np.fliplr(prob.reshape((nplot, nplot))).T\n",
        "\n",
        "plt.figure(figsize=(10,5))\n",
        "plt.subplot(1,2,1)\n",
        "im = plt.imshow(prob_mat, extent=[xmin[0],xmax[0],xmin[1],xmax[1]], cmap=light_map)\n",
        "plot_cnt(X,y, legend=False)\n",
        "plt.xlabel(xnames[0], fontsize=16)\n",
        "plt.ylabel(xnames[1], fontsize=16)\n",
        "plt.title('Probability')\n",
        "\n",
        "plt.subplot(1,2,2)\n",
        "yhat = (prob_mat > 0.5).astype(float)\n",
        "plt.imshow(yhat, extent=[xmin[0],xmax[0],xmin[1],xmax[1]], cmap=light_map)\n",
        "plot_cnt(X,y, legend=False)\n",
        "plt.xlabel(xnames[0], fontsize=16)\n",
        "plt.title('Class decision')\n",
        "\n",
        "\n",
        "plt.subplots_adjust(bottom=0.1, top=0.9, left=0.1, right=0.8) \n",
        "cb_ax = plt.gcf().add_axes([0.83, 0.15, 0.02, 0.7])\n",
        "plt.colorbar(im, cax=cb_ax)"
      ],
      "execution_count": null,
      "outputs": [
        {
          "output_type": "execute_result",
          "data": {
            "text/plain": [
              "<matplotlib.colorbar.Colorbar at 0x7fefba9ee908>"
            ]
          },
          "metadata": {
            "tags": []
          },
          "execution_count": 16
        },
        {
          "output_type": "display_data",
          "data": {
            "image/png": "[encoded data removed]",
            "text/plain": [
              "<Figure size 720x360 with 3 Axes>"
            ]
          },
          "metadata": {
            "tags": [],
            "needs_background": "light"
          }
        }
      ]
    },
    {
      "cell_type": "markdown",
      "metadata": {
        "id": "it7bPEX8H-Wf"
      },
      "source": [
        "## Fitting the Model on all the Variables\n",
        "\n",
        "We can now easily fit the model on all 9 variables.  First, we get the variables removing the first column (for the index) and the last column (for the target). Then, we split into train and test."
      ]
    },
    {
      "cell_type": "code",
      "metadata": {
        "id": "y1nSDal3H-Wg",
        "outputId": "238f978a-a4e8-4bcb-afd9-3487f57c0543",
        "colab": {
          "base_uri": "https://localhost:8080/",
          "height": 34
        }
      },
      "source": [
        "# Get array of all the features, except the ID (in the first column)\n",
        "# and target variable (in the last column)\n",
        "xnames = names[1:-1]\n",
        "X = np.array(df[xnames])\n",
        "print(X.shape)\n",
        "\n",
        "# Split into training and test\n",
        "Xtr, Xts, ytr, yts = train_test_split(X,y, test_size=0.30)"
      ],
      "execution_count": null,
      "outputs": [
        {
          "output_type": "stream",
          "text": [
            "(683, 9)\n"
          ],
          "name": "stdout"
        }
      ]
    },
    {
      "cell_type": "markdown",
      "metadata": {
        "id": "mSnzuSqxH-Wh"
      },
      "source": [
        "Now we repeat the above procedure used for the two variable case:  We scale the training and test, fit the model on the training data and score on the test data.  We see we get a little better accuracy.  The result will be around 97% accuracy depending on the train-test split."
      ]
    },
    {
      "cell_type": "code",
      "metadata": {
        "id": "56zSb9ZCH-Wi",
        "outputId": "377c234b-26e8-4908-af24-add89e9d1ade",
        "colab": {
          "base_uri": "https://localhost:8080/",
          "height": 34
        }
      },
      "source": [
        "# Scale the data\n",
        "scal = StandardScaler()\n",
        "Xtr1 = scal.fit_transform(Xtr)\n",
        "Xts1 = scal.transform(Xts)\n",
        "\n",
        "# Fit on the scaled trained data\n",
        "reg = linear_model.LogisticRegression(C=1e5)\n",
        "reg.fit(Xtr1, ytr)\n",
        "\n",
        "# Measure accuracy\n",
        "yhat = reg.predict(Xts1)\n",
        "acc = np.mean(yhat == yts)\n",
        "print(\"Accuracy on test data = %f\" % acc)"
      ],
      "execution_count": null,
      "outputs": [
        {
          "output_type": "stream",
          "text": [
            "Accuracy on test data = 0.960976\n"
          ],
          "name": "stdout"
        }
      ]
    },
    {
      "cell_type": "markdown",
      "metadata": {
        "id": "5DbMm0efH-Wj"
      },
      "source": [
        "It is also useful to print the weights for each feature.  We can use the `pandas` package to make a table. "
      ]
    },
    {
      "cell_type": "code",
      "metadata": {
        "id": "oDi8lctZH-Wk",
        "outputId": "d6b21b59-6d6c-4951-8db2-b60278e4813d",
        "colab": {
          "base_uri": "https://localhost:8080/",
          "height": 314
        }
      },
      "source": [
        "W=reg.coef_\n",
        "data = {'feature': xnames, 'slope': np.squeeze(W)}\n",
        "dfslope = pd.DataFrame(data=data)\n",
        "dfslope"
      ],
      "execution_count": null,
      "outputs": [
        {
          "output_type": "execute_result",
          "data": {
            "text/html": [
              "<div>\n",
              "<style scoped>\n",
              "    .dataframe tbody tr th:only-of-type {\n",
              "        vertical-align: middle;\n",
              "    }\n",
              "\n",
              "    .dataframe tbody tr th {\n",
              "        vertical-align: top;\n",
              "    }\n",
              "\n",
              "    .dataframe thead th {\n",
              "        text-align: right;\n",
              "    }\n",
              "</style>\n",
              "<table border=\"1\" class=\"dataframe\">\n",
              "  <thead>\n",
              "    <tr style=\"text-align: right;\">\n",
              "      <th></th>\n",
              "      <th>feature</th>\n",
              "      <th>slope</th>\n",
              "    </tr>\n",
              "  </thead>\n",
              "  <tbody>\n",
              "    <tr>\n",
              "      <th>0</th>\n",
              "      <td>thick</td>\n",
              "      <td>1.131383</td>\n",
              "    </tr>\n",
              "    <tr>\n",
              "      <th>1</th>\n",
              "      <td>size_unif</td>\n",
              "      <td>-0.041319</td>\n",
              "    </tr>\n",
              "    <tr>\n",
              "      <th>2</th>\n",
              "      <td>shape_unif</td>\n",
              "      <td>1.004368</td>\n",
              "    </tr>\n",
              "    <tr>\n",
              "      <th>3</th>\n",
              "      <td>marg</td>\n",
              "      <td>0.505039</td>\n",
              "    </tr>\n",
              "    <tr>\n",
              "      <th>4</th>\n",
              "      <td>cell_size</td>\n",
              "      <td>0.464831</td>\n",
              "    </tr>\n",
              "    <tr>\n",
              "      <th>5</th>\n",
              "      <td>bare</td>\n",
              "      <td>1.532188</td>\n",
              "    </tr>\n",
              "    <tr>\n",
              "      <th>6</th>\n",
              "      <td>chrom</td>\n",
              "      <td>0.563979</td>\n",
              "    </tr>\n",
              "    <tr>\n",
              "      <th>7</th>\n",
              "      <td>normal</td>\n",
              "      <td>1.046752</td>\n",
              "    </tr>\n",
              "    <tr>\n",
              "      <th>8</th>\n",
              "      <td>mit</td>\n",
              "      <td>0.953145</td>\n",
              "    </tr>\n",
              "  </tbody>\n",
              "</table>\n",
              "</div>"
            ],
            "text/plain": [
              "      feature     slope\n",
              "0       thick  1.131383\n",
              "1   size_unif -0.041319\n",
              "2  shape_unif  1.004368\n",
              "3        marg  0.505039\n",
              "4   cell_size  0.464831\n",
              "5        bare  1.532188\n",
              "6       chrom  0.563979\n",
              "7      normal  1.046752\n",
              "8         mit  0.953145"
            ]
          },
          "metadata": {
            "tags": []
          },
          "execution_count": 19
        }
      ]
    },
    {
      "cell_type": "markdown",
      "metadata": {
        "id": "FlLjyVuTH-Wl"
      },
      "source": [
        "## Cross-Validation\n",
        "\n",
        "The above code measured the one train-test split.  Since there is some variation across splits, we can use K-fold validation.  We perform 10-fold cross-validation and print average precision, recall, f1-score and accuracy.\n"
      ]
    },
    {
      "cell_type": "code",
      "metadata": {
        "id": "nJd6DzjwH-Wm",
        "outputId": "f7e97deb-c0d6-4c2f-c38b-5619e3b2e592",
        "colab": {
          "base_uri": "https://localhost:8080/",
          "height": 87
        }
      },
      "source": [
        "from sklearn.model_selection import KFold\n",
        "from sklearn.metrics import precision_recall_fscore_support\n",
        "\n",
        "nfold = 10\n",
        "kf = KFold(n_splits = nfold)\n",
        "acc = np.zeros(nfold)\n",
        "prec = np.zeros(nfold)\n",
        "rec = np.zeros(nfold)\n",
        "f1 = np.zeros(nfold)\n",
        "\n",
        "for i, I in enumerate(kf.split(X)):\n",
        "\n",
        "    # Get the training and test data\n",
        "    train, test = I\n",
        "    Xtr = X[train, :]\n",
        "    ytr = y[train]\n",
        "    Xts = X[test, :]\n",
        "    yts = y[test]\n",
        "\n",
        "    # Scale the data \n",
        "    scal = StandardScaler()\n",
        "    XtrScaled = scal.fit_transform(Xtr)\n",
        "    XtsScaled = scal.fit_transform(Xts)\n",
        "\n",
        "    # Fit a model\n",
        "    reg.fit(XtrScaled, ytr)\n",
        "\n",
        "    # Predict on test samples and measure accuracy\n",
        "    yhat = reg.predict(XtsScaled)\n",
        "    acc[i] = np.mean(yhat == yts)\n",
        "    \n",
        "    # Measure other perfomance metrics\n",
        "    prec[i], rec[i], f1[i], _ = precision_recall_fscore_support(yts, yhat, average = 'binary')\n",
        "    \n",
        "# Take average values of the metrics\n",
        "precm = np.mean(prec)\n",
        "accm = np.mean(acc)\n",
        "recm = np.mean(rec)\n",
        "f1m = np.mean(f1)\n",
        "\n",
        "# Compute the standard errors\n",
        "prec_se = np.std(prec) / np.sqrt(nfold - 1)\n",
        "rec_se = np.std(rec) / np.sqrt(nfold - 1)\n",
        "acc_se = np.std(acc) / np.sqrt(nfold - 1)\n",
        "f1_se = np.std(f1) / np.sqrt(nfold - 1)\n",
        "\n",
        "print('Precision = {0:.4f}, SE={1:.4f}'.format(precm,prec_se))\n",
        "print('Recall =    {0:.4f}, SE={1:.4f}'.format(recm, rec_se))\n",
        "print('f1 =        {0:.4f}, SE={1:.4f}'.format(f1m, f1_se))\n",
        "print('Accuracy =  {0:.4f}, SE={1:.4f}'.format(accm, acc_se))"
      ],
      "execution_count": null,
      "outputs": [
        {
          "output_type": "stream",
          "text": [
            "Precision = 0.9493, SE=0.0172\n",
            "Recall =    0.9328, SE=0.0262\n",
            "f1 =        0.9385, SE=0.0166\n",
            "Accuracy =  0.9532, SE=0.0158\n"
          ],
          "name": "stdout"
        }
      ]
    },
    {
      "cell_type": "markdown",
      "metadata": {
        "id": "3HrodfzoH-Wn"
      },
      "source": [
        "## ROC curve\n",
        "\n",
        "As discussed above, the logistic classifier outputs a *soft* classification $P(y=1|x)$.  One simple idea is to select the class label $\\hat{y}=1$ whenever $P(y=1|x) > 0.5$.  However, one can also set $\\hat{y}=1$ whenever $P(y=1|x) > t$ for some threshold $t$.  Using higher thresholds values selects $\\hat{y}=0$ more often which results in fewer *false alarms*, but also many *missed detections* (reduces sensitivity).  Similarly, lower thresholds values selects $\\hat{y}=1$ more often which results in fewer *missed detections* (increases *sensitivity*) but also more *false alarms*.  The ROC curve displays this  tradeoff by graphing the *true positive rate* vs. *false positive rate* obtained with different $t$.  \n",
        "\n",
        "The ROC curve can be plotted in the `sklearn` package with the following code."
      ]
    },
    {
      "cell_type": "code",
      "metadata": {
        "id": "G69dRw6IH-Wo",
        "outputId": "1e37e6a7-7652-4a68-9836-5ea06d8546d2",
        "colab": {
          "base_uri": "https://localhost:8080/",
          "height": 301
        }
      },
      "source": [
        "# Split into training and test\n",
        "Xtr, Xts, ytr, yts = train_test_split(X,y, test_size=0.50)\n",
        "\n",
        "\n",
        "# Scale the data\n",
        "scal = StandardScaler()\n",
        "Xtr1 = scal.fit_transform(Xtr)\n",
        "Xts1 = scal.transform(Xts)\n",
        "\n",
        "# Fit on the scaled trained data\n",
        "reg = linear_model.LogisticRegression(C=1e5)\n",
        "reg.fit(Xtr1, ytr)\n",
        "\n",
        "# Predict probability on the test data\n",
        "yprob = reg.predict_proba(Xts1)\n",
        "\n",
        "# Compute FPR and TPR\n",
        "from sklearn import metrics\n",
        "fpr, tpr, thresholds = metrics.roc_curve(yts,yprob[:,1])\n",
        "\n",
        "plt.plot(fpr,tpr)\n",
        "plt.grid()\n",
        "plt.xlabel('FPR')\n",
        "plt.ylabel('TPR')\n",
        "plt.ylim([0.5,1])\n",
        "plt.xlim([0,0.1])"
      ],
      "execution_count": null,
      "outputs": [
        {
          "output_type": "execute_result",
          "data": {
            "text/plain": [
              "(0.0, 0.1)"
            ]
          },
          "metadata": {
            "tags": []
          },
          "execution_count": 21
        },
        {
          "output_type": "display_data",
          "data": {
            "image/png": "[encoded data removed]",
            "text/plain": [
              "<Figure size 432x288 with 1 Axes>"
            ]
          },
          "metadata": {
            "tags": [],
            "needs_background": "light"
          }
        }
      ]
    },
    {
      "cell_type": "markdown",
      "metadata": {
        "id": "UHhFDveIH-Wq"
      },
      "source": [
        "Now let us see what are the relation between the threshold and the TPR and FPR."
      ]
    },
    {
      "cell_type": "code",
      "metadata": {
        "id": "DEv1eJe4H-Wr",
        "outputId": "93b127db-c8e4-41f9-ad91-e09b43cbe411",
        "colab": {
          "base_uri": "https://localhost:8080/",
          "height": 297
        }
      },
      "source": [
        "plt.plot(thresholds,tpr, thresholds,fpr)\n",
        "plt.legend(['TPR','FPR'])\n",
        "plt.xlabel('Threshold')\n",
        "plt.xlim([0,1])"
      ],
      "execution_count": null,
      "outputs": [
        {
          "output_type": "execute_result",
          "data": {
            "text/plain": [
              "(0.0, 1.0)"
            ]
          },
          "metadata": {
            "tags": []
          },
          "execution_count": 22
        },
        {
          "output_type": "display_data",
          "data": {
            "image/png": "[encoded data removed]",
            "text/plain": [
              "<Figure size 432x288 with 1 Axes>"
            ]
          },
          "metadata": {
            "tags": [],
            "needs_background": "light"
          }
        }
      ]
    },
    {
      "cell_type": "markdown",
      "metadata": {
        "id": "KU7NMGuYH-Wt"
      },
      "source": [
        "The goodness of a classification method is often measured by the area under the curve (AUC), which is independent of the threshold. A method with a higher AUC means that under the same FPR, it has higher PPR. Note that in practice, you should evalute UAC in different cross validation folds and then evaluate the mean AUC."
      ]
    },
    {
      "cell_type": "code",
      "metadata": {
        "id": "R-S6EI07H-Wt",
        "outputId": "94c70973-ba9d-4f45-856f-f0ff77b4b440",
        "colab": {
          "base_uri": "https://localhost:8080/",
          "height": 34
        }
      },
      "source": [
        "auc=metrics.roc_auc_score(yts,yprob[:,1])\n",
        "print(\"AUC=%f\" % auc)"
      ],
      "execution_count": null,
      "outputs": [
        {
          "output_type": "stream",
          "text": [
            "AUC=0.997151\n"
          ],
          "name": "stdout"
        }
      ]
    },
    {
      "cell_type": "code",
      "metadata": {
        "id": "x0tTmRHnH-Wv"
      },
      "source": [
        ""
      ],
      "execution_count": null,
      "outputs": []
    }
  ]
}