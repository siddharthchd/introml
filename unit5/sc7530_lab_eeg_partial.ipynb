{
  "nbformat": 4,
  "nbformat_minor": 0,
  "metadata": {
    "kernelspec": {
      "display_name": "Python 3",
      "language": "python",
      "name": "python3"
    },
    "language_info": {
      "codemirror_mode": {
        "name": "ipython",
        "version": 3
      },
      "file_extension": ".py",
      "mimetype": "text/x-python",
      "name": "python",
      "nbconvert_exporter": "python",
      "pygments_lexer": "ipython3",
      "version": "3.6.7"
    },
    "colab": {
      "name": "sc7530_lab_eeg_partial.ipynb",
      "provenance": [],
      "collapsed_sections": [],
      "include_colab_link": true
    }
  },
  "cells": [
    {
      "cell_type": "markdown",
      "metadata": {
        "id": "view-in-github",
        "colab_type": "text"
      },
      "source": [
        "<a href=\"https://colab.research.google.com/github/siddharthchd/introml/blob/master/unit5/sc7530_lab_eeg_partial.ipynb\" target=\"_parent\"><img src=\"https://colab.research.google.com/assets/colab-badge.svg\" alt=\"Open In Colab\"/></a>"
      ]
    },
    {
      "cell_type": "markdown",
      "metadata": {
        "id": "ZOt73W66LYb7"
      },
      "source": [
        "# Lab:  Source Localization for EEG\n",
        "\n",
        "EEG or [Electroencephalography](https://en.wikipedia.org/wiki/Electroencephalography) is a powerful tool for neuroscientists in understanding brain activity.  In EEG, a patient wears a headset with electrodes that measures voltages at a number of points on the scalp.  These voltages arise from ionic currents within the brain.  A common *inverse problem* is to estimate the which parts of the brain caused the measured response.  Source localization is useful in understanding which parts of the brain are involved in certain tasks.  A key challenge in this inverse problem is that the number of unknowns (possible locations in the brain) is much larger than the number of measurements.  In this lab, we will use LASSO regression on a real EEG dataset to overcome this problem and determine the brain region that is active under an auditory stimulus.\n",
        "\n",
        "In addition to the concepts in the [prostate LASSO demo](./demo_prostate.ipynb) you will learn to:\n",
        "* Represent responses of multi-channel time-series data, such as EEG, using linear models\n",
        "* Perform LASSO and Ridge regression\n",
        "* Select the regularization level via cross-validation\n",
        "* Visually compare the sparsity between the solutions\n",
        "\n",
        "We first download standard packages."
      ]
    },
    {
      "cell_type": "code",
      "metadata": {
        "id": "5cTMu-bgLYb8"
      },
      "source": [
        "import numpy as np\n",
        "import matplotlib.pyplot as plt\n",
        "import pickle\n",
        "\n",
        "from sklearn.linear_model import Lasso, Ridge, ElasticNet\n",
        "from sklearn.metrics import r2_score\n",
        "from sklearn.model_selection import train_test_split"
      ],
      "execution_count": 25,
      "outputs": []
    },
    {
      "cell_type": "markdown",
      "metadata": {
        "id": "YXh4Qg22LYcA"
      },
      "source": [
        "## Load the Data\n",
        "\n",
        "The data in this lab is taken from one of the sample datasets in the [MNE website](https://martinos.org/mne/stable/index.html). The sample data is a recording from one subject who experienced some auditory stimulus on the left ear.    \n",
        "\n",
        "The raw data is very large (`1.5G`) and also requires that you install the `mne` python package. To make this lab easier, I have extracted and processed a small section of the data. The following command will download a `pickle` file `eeg_dat.p` to your local machine.  If you do want to create the data yourself, the program to create the data is in this directory in the github repository."
      ]
    },
    {
      "cell_type": "code",
      "metadata": {
        "id": "sY3D-d3DLYcB",
        "outputId": "0cf7ed8a-b0fb-4b71-98f5-07b22db5f6ae",
        "colab": {
          "base_uri": "https://localhost:8080/",
          "height": 34
        }
      },
      "source": [
        "fn_src ='https://drive.google.com/uc?export=download&id=1RzQpKONOcXSMxH2ZzOI4iVMiTgD6ttSl'\n",
        "fn_dst ='eeg_dat.p'\n",
        "\n",
        "import os\n",
        "from six.moves import urllib\n",
        "\n",
        "if os.path.isfile(fn_dst):\n",
        "    print('File %s is already downloaded' % fn_dst)\n",
        "else:        \n",
        "    print('Fetching file %s [53MB].  This may take a minute..' % fn_dst)\n",
        "    urllib.request.urlretrieve(fn_src, fn_dst)\n",
        "    print('File %s downloaded' % fn_dst)"
      ],
      "execution_count": 26,
      "outputs": [
        {
          "output_type": "stream",
          "text": [
            "File eeg_dat.p is already downloaded\n"
          ],
          "name": "stdout"
        }
      ]
    },
    {
      "cell_type": "markdown",
      "metadata": {
        "id": "iKMfl8MoLYcF"
      },
      "source": [
        "Now run the following command which will get the data from the `pickle` file."
      ]
    },
    {
      "cell_type": "code",
      "metadata": {
        "id": "BZZ9L89vLYcF"
      },
      "source": [
        "import pickle\n",
        "fn = 'eeg_dat.p'\n",
        "with open(fn, 'rb') as fp:\n",
        "    [X,Y] = pickle.load(fp)"
      ],
      "execution_count": 27,
      "outputs": []
    },
    {
      "cell_type": "markdown",
      "metadata": {
        "id": "VZ7SK4f5LYcJ"
      },
      "source": [
        "To understand the data, there are three key variables:\n",
        "* `nt`    = number of time steps that we measure data\n",
        "* `nchan` = number of channels (i.e. electrodes) measured in each time step\n",
        "* `ncur`  = number of currents in the brain that we want to estimate.  \n",
        "\n",
        "Each current comes from one brain region (called a *voxel*) in either the `x`, `y` or `z` direction.  So,\n",
        "\n",
        "    nvoxels = ncur / 3\n",
        "    \n",
        "The components of the `X` and `Y` matrices are:\n",
        "*  `Y[i,k]` = electric field measurement on channel `i` at time `k`\n",
        "*  `X[i,j]` = sensitivity of channel `i` to current `j`.\n",
        "\n",
        "Using `X.shape` and `Y.shape` compute and print `nt`, `nchan`, `ncur` and `nvoxels`."
      ]
    },
    {
      "cell_type": "code",
      "metadata": {
        "id": "wbTeIaXaLYcK",
        "outputId": "06a50430-cab5-4e89-bcad-e3561d29745a",
        "colab": {
          "base_uri": "https://localhost:8080/",
          "height": 85
        }
      },
      "source": [
        "# TODO\n",
        "nt = Y.shape[1]\n",
        "ncur = X.shape[1]\n",
        "nchan = Y.shape[0]\n",
        "nvoxels = ncur / 3\n",
        "print('Number of time steps nt = {}'.format(nt))\n",
        "print('Number of currents in the brain ncur = {}'.format(ncur))\n",
        "print('Number of chennels measured in each time step nchan = {}'.format(nchan))\n",
        "print('nvoxels = {}'.format(nvoxels))"
      ],
      "execution_count": 28,
      "outputs": [
        {
          "output_type": "stream",
          "text": [
            "Number of time steps nt = 85\n",
            "Number of currents in the brain ncur = 22494\n",
            "Number of chennels measured in each time step nchan = 305\n",
            "nvoxels = 7498.0\n"
          ],
          "name": "stdout"
        }
      ]
    },
    {
      "cell_type": "markdown",
      "metadata": {
        "id": "SK6P7etiLYcN"
      },
      "source": [
        "## Ridge Regression\n",
        "\n",
        "Our goal is to estimate the currents in the brain from the measurements `Y`.  One simple linear model is:\n",
        "\n",
        "    Y[i,k]  = \\sum_j X[i,j]*W[j,k]+ b[k]\n",
        "\n",
        "where `W[j,k]` is the value of current `j` at time `k` and `b[k]` is a bias.  We can solve for the current matrix `W` via linear regression.  \n",
        "\n",
        "Howeever, there is a problem:\n",
        "*  There are `nt x ncur` unknowns in `W`\n",
        "*  There are only `nt x nchan` measurements in `Y`.\n",
        "\n",
        "In this problem, we have:\n",
        "\n",
        "    number of measurements  << number of unknowns\n",
        "    \n",
        "We need to use regularization in these circumstances.  We first try Ridge regression.\n",
        "\n",
        "First split the data into training and test.  Use the `train_test_split` function with `test_size=0.33`."
      ]
    },
    {
      "cell_type": "code",
      "metadata": {
        "id": "NkWRb4EbLYcO"
      },
      "source": [
        "# TODO\n",
        "Xtr, Xts, Ytr, Yts = train_test_split(X, Y, test_size = 0.33, shuffle = True)"
      ],
      "execution_count": 29,
      "outputs": []
    },
    {
      "cell_type": "markdown",
      "metadata": {
        "id": "qV_hgfJwLYcR"
      },
      "source": [
        "Use the `Ridge` regression object in `sklearn` to fit the model on the training data.  Use a regularization, `alpha=1`."
      ]
    },
    {
      "cell_type": "code",
      "metadata": {
        "id": "zzqjT45XLYcR",
        "outputId": "84bc146b-a47d-49ad-a8c9-377da7e968c1",
        "colab": {
          "base_uri": "https://localhost:8080/",
          "height": 51
        }
      },
      "source": [
        "# TODO\n",
        "regr = Ridge(alpha = 1)\n",
        "regr.fit(Xtr, Ytr)"
      ],
      "execution_count": 30,
      "outputs": [
        {
          "output_type": "execute_result",
          "data": {
            "text/plain": [
              "Ridge(alpha=1, copy_X=True, fit_intercept=True, max_iter=None, normalize=False,\n",
              "      random_state=None, solver='auto', tol=0.001)"
            ]
          },
          "metadata": {
            "tags": []
          },
          "execution_count": 30
        }
      ]
    },
    {
      "cell_type": "markdown",
      "metadata": {
        "id": "fJd7pLa8LYcV"
      },
      "source": [
        "Preict the values `Y` on both the training and test data.  Use the `r2_score` method to measure the `R^2` value on both the training and test.  You will see that `R^2` value is large for the training data, it is very low for the test data.  This suggest that even with regularization, the model is over-fitting the data."
      ]
    },
    {
      "cell_type": "code",
      "metadata": {
        "id": "KcOsxU60LYcV",
        "outputId": "96e9abbb-9796-4098-fff9-efb42c851f78",
        "colab": {
          "base_uri": "https://localhost:8080/",
          "height": 51
        }
      },
      "source": [
        "# TODO\n",
        "# rsq_tr = ...\n",
        "# rsq_ts = ...\n",
        "yhat_train = regr.predict(Xtr)\n",
        "r2_train = r2_score(Ytr, yhat_train)\n",
        "\n",
        "yhat_test = regr.predict(Xts)\n",
        "r2_test = r2_score(Yts, yhat_test)\n",
        "\n",
        "print('R^2 training = {}'.format(r2_train))\n",
        "print('R^2 testing = {}'.format(r2_test))"
      ],
      "execution_count": 31,
      "outputs": [
        {
          "output_type": "stream",
          "text": [
            "R^2 training = 0.6250266146610913\n",
            "R^2 testing = 0.14689103624897867\n"
          ],
          "name": "stdout"
        }
      ]
    },
    {
      "cell_type": "markdown",
      "metadata": {
        "id": "ShfuwxBhLYcY"
      },
      "source": [
        "Next, try to see if we can get a better `R^2` score using different values of `alpha`.  Use cross-validation to measure the test `R^2` for 20 `alpha` values logarithmically spaced from `10^{-2}` to `10^{2}` (use `np.logspace()`).  You can use regular cross-validation.  You do not need to do `K`-fold."
      ]
    },
    {
      "cell_type": "code",
      "metadata": {
        "id": "14DcA_eSLYcZ"
      },
      "source": [
        "# TODO\n",
        "nalpha = 20\n",
        "alphas = np.logspace(-2, 2, nalpha)\n",
        "\n",
        "rsq = []\n",
        "\n",
        "for alpha in alphas:\n",
        "\n",
        "  regr = Ridge(alpha = alpha)\n",
        "  regr.fit(Xtr, Ytr)\n",
        "  \n",
        "  yhat_test = regr.predict(Xts)\n",
        "  rsq.append(r2_score(Yts, yhat_test))"
      ],
      "execution_count": 34,
      "outputs": []
    },
    {
      "cell_type": "markdown",
      "metadata": {
        "id": "BiUltZVjLYcc"
      },
      "source": [
        "Plot the test `R^2` vs. `alpha`.  And print the maximum test `R^2`.  You should see that the maximum test `R^2` is still not very high."
      ]
    },
    {
      "cell_type": "code",
      "metadata": {
        "id": "gTv4dPC2LYcc",
        "outputId": "4e3a6e0a-e493-43e7-e57b-a1d9c049c8ac",
        "colab": {
          "base_uri": "https://localhost:8080/",
          "height": 296
        }
      },
      "source": [
        "# TODO\n",
        "plt.errorbar(np.log10(alphas), rsq)\n",
        "plt.xlabel('Alphas')\n",
        "plt.ylabel('R^2 Score')\n",
        "plt.grid()\n",
        "\n",
        "print('Maximum test R^2 = {}'.format(np.max(rsq)))"
      ],
      "execution_count": 35,
      "outputs": [
        {
          "output_type": "stream",
          "text": [
            "Maximum test R^2 = 0.15354410450932549\n"
          ],
          "name": "stdout"
        },
        {
          "output_type": "display_data",
          "data": {
            "image/png": "[encoded data removed]",
            "text/plain": [
              "<Figure size 432x288 with 1 Axes>"
            ]
          },
          "metadata": {
            "tags": [],
            "needs_background": "light"
          }
        }
      ]
    },
    {
      "cell_type": "markdown",
      "metadata": {
        "id": "O9kANwe8LYcf"
      },
      "source": [
        "Now, let's take a look at the solution. \n",
        "\n",
        "* Find the optimal regularization `alpha` from the cross-validation\n",
        "* Re-fit the model at the optimal `alpha`\n",
        "* Get the current matrix `W` from the coefficients in the linear model.  These are stored in `regr.coef_`.  You may need a transpose\n",
        "* For each current `j` compute `Wrms[j] =  sqrt( sum_k W[j,k]**2 )` which is root mean squared current.\n",
        "\n",
        "You will see that the vector `Wrms` is not sparse.  This means that the solution that is found with Ridge regression finds currents in all locations."
      ]
    },
    {
      "cell_type": "code",
      "metadata": {
        "id": "aD9_t9y3LYcf",
        "outputId": "af9d4492-05c6-4ff3-bedb-611288a7c116",
        "colab": {
          "base_uri": "https://localhost:8080/",
          "height": 51
        }
      },
      "source": [
        "# TODO\n",
        "im = np.argmax(rsq)\n",
        "optimal_alpha = alphas[im]\n",
        "print('Optimal alpha : {}'.format(optimal_alpha))\n",
        "\n",
        "regr = Ridge(alpha = optimal_alpha)\n",
        "regr.fit(Xtr, Ytr)\n",
        "\n",
        "yhat_test = regr.predict(Xts)\n",
        "rsq_test = r2_score(Yts, yhat_test)\n",
        "\n",
        "W = regr.coef_\n",
        "W = np.matrix.transpose(W)\n",
        "Wrms = np.sqrt(np.sum(np.square(W), axis = 1))\n",
        "print('Number of non zero elements in Wrms : {}'.format(np.count_nonzero(Wrms)))"
      ],
      "execution_count": 37,
      "outputs": [
        {
          "output_type": "stream",
          "text": [
            "Optimal alpha : 0.4832930238571752\n",
            "Number of non zero elements in Wrms : 22494\n"
          ],
          "name": "stdout"
        }
      ]
    },
    {
      "cell_type": "markdown",
      "metadata": {
        "id": "4xXd7zaaLYcj"
      },
      "source": [
        "## LASSO Regression\n",
        "\n",
        "We can improve the estimate by imposing sparsity.  Biologically, we know that only a limited number of brain regions should be involved in the reponse to a particular stimuli.  As a result, we would expect that the current matrix `W[j,k]` to be zero for most values `j,k`.  We can impose this constraint using LASSO regularization.\n",
        "\n",
        "Re-fit the training data using the `Lasso` model with `alpha=1e-3`.  Also set `max_iter=100` and `tol=0.01`.  The LASSO solver is much slower, so this make take a minute."
      ]
    },
    {
      "cell_type": "code",
      "metadata": {
        "id": "gX0llLDHLYcj",
        "outputId": "8975f3e8-0486-4d0d-99f6-c9858f61a036",
        "colab": {
          "base_uri": "https://localhost:8080/",
          "height": 68
        }
      },
      "source": [
        "# TODO\n",
        "reg = Lasso(alpha = 1e-3, max_iter = 100, tol = 0.01)\n",
        "reg.fit(Xtr, Ytr)"
      ],
      "execution_count": 38,
      "outputs": [
        {
          "output_type": "execute_result",
          "data": {
            "text/plain": [
              "Lasso(alpha=0.001, copy_X=True, fit_intercept=True, max_iter=100,\n",
              "      normalize=False, positive=False, precompute=False, random_state=None,\n",
              "      selection='cyclic', tol=0.01, warm_start=False)"
            ]
          },
          "metadata": {
            "tags": []
          },
          "execution_count": 38
        }
      ]
    },
    {
      "cell_type": "markdown",
      "metadata": {
        "id": "Cdgo8hGFLYcm"
      },
      "source": [
        "Now, test the model on the test data and measure the `R^2` value.  You should get a much better fit than with the Ridge regression solution.  "
      ]
    },
    {
      "cell_type": "code",
      "metadata": {
        "id": "Hx3R9LNyLYcn",
        "outputId": "b4defd78-361e-4a28-ac79-845c9ac34b77",
        "colab": {
          "base_uri": "https://localhost:8080/",
          "height": 51
        }
      },
      "source": [
        "# TODO\n",
        "yhat_train_lasso = reg.predict(Xtr)\n",
        "rsq_train_lasso = r2_score(Ytr, yhat_train_lasso)\n",
        "\n",
        "yhat_test_lasso = reg.predict(Xts)\n",
        "rsq_test_lasso = r2_score(Yts, yhat_test_lasso)\n",
        "\n",
        "print('Train R^2 : {}'.format(rsq_train_lasso))\n",
        "print('Test R^2 : {}'.format(rsq_test_lasso))"
      ],
      "execution_count": 39,
      "outputs": [
        {
          "output_type": "stream",
          "text": [
            "Train R^2 : 0.24359584812506976\n",
            "Test R^2 : 0.1234617290594266\n"
          ],
          "name": "stdout"
        }
      ]
    },
    {
      "cell_type": "markdown",
      "metadata": {
        "id": "ilzB9kOHLYcp"
      },
      "source": [
        "We can now search for the optimal `alpha`.  Use cross-validation to find the `alpha` logarithically space between `alpha=10^{-3}` and `alpha=10^{-4}`.  Each fit takes some time, so use only 5 values of `alpha`. Also for each `alpha` store the current matrix.  This way, you will not have to re-fit the model."
      ]
    },
    {
      "cell_type": "code",
      "metadata": {
        "id": "qSRLx5uOLYcp"
      },
      "source": [
        "# TODO\n",
        "nalpha = 5\n",
        "alphas = np.logspace(-3, -4, nalpha)\n",
        "\n",
        "rsq = []\n",
        "\n",
        "for alpha in alphas :\n",
        "\n",
        "  reg = Lasso(alpha = alpha, max_iter = 100, tol = 0.01)\n",
        "  reg.fit(Xtr, Ytr)\n",
        "\n",
        "  yhat_lasso = reg.predict(Xts)\n",
        "  rsq.append(r2_score(Yts, yhat_lasso))"
      ],
      "execution_count": 40,
      "outputs": []
    },
    {
      "cell_type": "markdown",
      "metadata": {
        "id": "zT8g7jscLYcs"
      },
      "source": [
        "Plot the `r^2` value vs. `alpha`.  Print the optimal `r^2`.  You should see it is much higher than with the best Ridge Regression case."
      ]
    },
    {
      "cell_type": "code",
      "metadata": {
        "id": "sQ_7COgVLYct",
        "outputId": "9d270cbf-a341-4269-d268-15fc4ec8b308",
        "colab": {
          "base_uri": "https://localhost:8080/",
          "height": 296
        }
      },
      "source": [
        "# TODO\n",
        "plt.errorbar(np.log10(alphas), rsq)\n",
        "plt.xlabel('log10(alpha)')\n",
        "plt.ylabel('R^2')\n",
        "plt.grid()\n",
        "\n",
        "print('Maximum test R^2 : {}'.format(np.max(rsq)))"
      ],
      "execution_count": 41,
      "outputs": [
        {
          "output_type": "stream",
          "text": [
            "Maximum test R^2 : 0.2706262980512173\n"
          ],
          "name": "stdout"
        },
        {
          "output_type": "display_data",
          "data": {
            "image/png": "[encoded data removed]",
            "text/plain": [
              "<Figure size 432x288 with 1 Axes>"
            ]
          },
          "metadata": {
            "tags": [],
            "needs_background": "light"
          }
        }
      ]
    },
    {
      "cell_type": "markdown",
      "metadata": {
        "id": "_ikrZvkZLYcv"
      },
      "source": [
        "Display the current matrix `W` for the optimal `alpha` as you did in the Ridge Regression case.  You will see that is much sparser."
      ]
    },
    {
      "cell_type": "code",
      "metadata": {
        "id": "5xDPrJ_lLYcw",
        "outputId": "f3495631-af0d-489a-a1c5-5090b34e4f89",
        "colab": {
          "base_uri": "https://localhost:8080/",
          "height": 51
        }
      },
      "source": [
        "# TODO\n",
        "im = np.argmax(rsq)\n",
        "optimal_alpha = alphas[im]\n",
        "print('Optimal alpha : {}'.format(optimal_alpha))\n",
        "\n",
        "regr = Lasso(alpha = optimal_alpha, max_iter = 100, tol = 0.01)\n",
        "regr.fit(Xtr, Ytr)\n",
        "\n",
        "yhat_test = regr.predict(Xts)\n",
        "rsq_test = r2_score(Yts, yhat_test)\n",
        "\n",
        "W = regr.coef_\n",
        "W = np.matrix.transpose(W)\n",
        "Wrms = np.sqrt(np.sum(np.square(W), axis = 1))\n",
        "print('Number of non zero elements in Wrms : {}'.format(np.count_nonzero(Wrms)))"
      ],
      "execution_count": 42,
      "outputs": [
        {
          "output_type": "stream",
          "text": [
            "Optimal alpha : 0.00017782794100389227\n",
            "Number of non zero elements in Wrms : 519\n"
          ],
          "name": "stdout"
        }
      ]
    },
    {
      "cell_type": "markdown",
      "metadata": {
        "id": "IRw5jjLkLYcz"
      },
      "source": [
        "## More fun\n",
        "\n",
        "If you want to more on this lab:\n",
        "* Install the [MNE python package](https://martinos.org/mne/stable/index.html).  This is an amazing package with many tools for processing EEG data.\n",
        "* In particular, you can use the above results to visualize where in the brain the currents sources are.\n",
        "* You can also improve the fitting with more regularization.  For example, we know that the currents will be non-zero in groups:  If the current is non-zero for one time, it is likely to non-zero for all time.  You can use the Group LASSO method.\n",
        "* You can combine these results to make predictions about what the patient is seeing or hearing or thinking."
      ]
    }
  ]
}