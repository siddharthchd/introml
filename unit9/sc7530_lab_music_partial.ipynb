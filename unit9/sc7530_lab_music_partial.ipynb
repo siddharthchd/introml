{
  "nbformat": 4,
  "nbformat_minor": 0,
  "metadata": {
    "anaconda-cloud": {},
    "kernelspec": {
      "display_name": "Python 3",
      "language": "python",
      "name": "python3"
    },
    "language_info": {
      "codemirror_mode": {
        "name": "ipython",
        "version": 3
      },
      "file_extension": ".py",
      "mimetype": "text/x-python",
      "name": "python",
      "nbconvert_exporter": "python",
      "pygments_lexer": "ipython3",
      "version": "3.8.3"
    },
    "colab": {
      "name": "sc7530_lab_music_partial.ipynb",
      "provenance": [],
      "toc_visible": true,
      "include_colab_link": true
    }
  },
  "cells": [
    {
      "cell_type": "markdown",
      "metadata": {
        "id": "view-in-github",
        "colab_type": "text"
      },
      "source": [
        "<a href=\"https://colab.research.google.com/github/siddharthchd/introml/blob/master/unit9/sc7530_lab_music_partial.ipynb\" target=\"_parent\"><img src=\"https://colab.research.google.com/assets/colab-badge.svg\" alt=\"Open In Colab\"/></a>"
      ]
    },
    {
      "cell_type": "markdown",
      "metadata": {
        "id": "poHemeOQ8Fbr"
      },
      "source": [
        "# Lab:  Neural Networks for Music Classification\n",
        "\n",
        "In addition to the concepts in the [MNIST neural network demo](./demo2_mnist_neural.ipynb), in this lab, you will learn to:\n",
        "* Load a file from a URL\n",
        "* Extract simple features from audio samples for machine learning tasks such as speech recognition and classification\n",
        "* Build a simple neural network for music classification using these features\n",
        "* Use a callback to store the loss and accuracy history in the training process\n",
        "* Optimize the learning rate of the neural network\n",
        "\n",
        "To illustrate the basic concepts, we will look at a relatively simple music classification problem.  Given a sample of music, we want to determine which instrument (e.g. trumpet, violin, piano) is playing.  This dataset was generously supplied by [Prof. Juan Bello](http://steinhardt.nyu.edu/faculty/Juan_Pablo_Bello) at NYU Stenihardt  and his former PhD student Eric Humphrey (now at Spotify).  They have a complete website dedicated to deep learning methods in music informatics:\n",
        "\n",
        "http://marl.smusic.nyu.edu/wordpress/projects/feature-learning-deep-architectures/deep-learning-python-tutorial/\n",
        "\n",
        "You can also check out Juan's <a href=\"http://www.nyu.edu/classes/bello/ACA.html\">course</a>.\n",
        "\n"
      ]
    },
    {
      "cell_type": "markdown",
      "metadata": {
        "id": "FLTyBER88Fbt"
      },
      "source": [
        "## Loading Tensorflow\n",
        "\n",
        "Before starting this lab, you will need to install [Tensorflow](https://www.tensorflow.org/install/).  If you are using [Google colaboratory](https://colab.research.google.com), Tensorflow is already installed.  Run the following command to ensure Tensorflow is installed."
      ]
    },
    {
      "cell_type": "code",
      "metadata": {
        "id": "taC9pE7f8Fbu"
      },
      "source": [
        "import tensorflow as tf"
      ],
      "execution_count": 1,
      "outputs": []
    },
    {
      "cell_type": "markdown",
      "metadata": {
        "id": "hLT1atTk8Fb2"
      },
      "source": [
        "Then, load the other packages."
      ]
    },
    {
      "cell_type": "code",
      "metadata": {
        "id": "j9JrUOlB8Fb3"
      },
      "source": [
        "import numpy as np\n",
        "import matplotlib\n",
        "import matplotlib.pyplot as plt"
      ],
      "execution_count": 2,
      "outputs": []
    },
    {
      "cell_type": "markdown",
      "metadata": {
        "id": "VQKR1Ipv8Fb9"
      },
      "source": [
        "## Audio Feature Extraction with Librosa\n",
        "\n",
        "The key to audio classification is to extract the correct features. In addition to `keras`, we will need the `librosa` package.  The `librosa` package in python has a rich set of methods extracting the features of audio samples commonly used in machine learning tasks such as speech recognition and sound classification. \n",
        "\n",
        "Installation instructions and complete documentation for the package are given on the [librosa main page](https://librosa.github.io/librosa/).  On most systems, you should be able to simply use:\n",
        "\n",
        "    pip install librosa\n",
        "    \n",
        "For Unix, you may need to load some additional packages:\n",
        "\n",
        "    sudo apt-get install build-essential\n",
        "    sudo apt-get install libxext-dev python-qt4 qt4-dev-tools\n",
        "    pip install librosa\n",
        "    \n",
        "After you have installed the package, try to import it."
      ]
    },
    {
      "cell_type": "code",
      "metadata": {
        "id": "g94aUG668Fb-"
      },
      "source": [
        "import librosa\n",
        "import librosa.display\n",
        "import librosa.feature"
      ],
      "execution_count": 3,
      "outputs": []
    },
    {
      "cell_type": "markdown",
      "metadata": {
        "id": "4zvo-xH38FcD"
      },
      "source": [
        "In this lab, we will use a set of music samples from the website:\n",
        "\n",
        "http://theremin.music.uiowa.edu\n",
        "\n",
        "This website has a great set of samples for audio processing.  Look on the web for how to use the `requests.get` and `file.write` commands to load the file at the URL provided into your working directory.\n",
        "\n",
        "You can play the audio sample by copying the file to your local machine and playing it on any media player.  If you listen to it you will hear a soprano saxaphone (with vibrato) playing four notes (C, C#, D, Eb)."
      ]
    },
    {
      "cell_type": "code",
      "metadata": {
        "id": "Hvoh2xAz8FcE"
      },
      "source": [
        "import requests\n",
        "fn = \"SopSax.Vib.pp.C6Eb6.aiff\"\n",
        "url = \"http://theremin.music.uiowa.edu/sound files/MIS/Woodwinds/sopranosaxophone/\"+fn\n",
        "\n",
        "# TODO:  Load the file from url and save it in a file under the name fn\n",
        "req = requests.get(url)\n",
        "with open(fn, 'wb') as file:\n",
        "  file.write(req.content)"
      ],
      "execution_count": 4,
      "outputs": []
    },
    {
      "cell_type": "markdown",
      "metadata": {
        "id": "nffnDdoW8FcJ"
      },
      "source": [
        "Next, use `librosa` command `librosa.load` to read the audio file with filename `fn` and get the samples `y` and sample rate `sr`."
      ]
    },
    {
      "cell_type": "code",
      "metadata": {
        "id": "wiJe1VFx8FcK"
      },
      "source": [
        "# TODO\n",
        "y, sr = librosa.load(fn)"
      ],
      "execution_count": 5,
      "outputs": []
    },
    {
      "cell_type": "markdown",
      "metadata": {
        "id": "iH2AKKNk8FcO"
      },
      "source": [
        "Extracting features from audio files is an entire subject on its own right.  A commonly used set of features are called the Mel Frequency Cepstral Coefficients (MFCCs).  These are derived from the so-called mel spectrogram which is something like a regular spectrogram, but the power and frequency are represented in log scale, which more naturally aligns with human perceptual processing.  You can run the code below to display the mel spectrogram from the audio sample.\n",
        "\n",
        "You can easily see the four notes played in the audio track.  You also see the 'harmonics' of each notes, which are other tones at integer multiples of the fundamental frequency of each note."
      ]
    },
    {
      "cell_type": "code",
      "metadata": {
        "id": "sEdy3L8V8FcO",
        "outputId": "473af4df-b324-4b60-b76f-4fc2f9a2f580",
        "colab": {
          "base_uri": "https://localhost:8080/",
          "height": 297
        }
      },
      "source": [
        "S = librosa.feature.melspectrogram(y=y, sr=sr, n_mels=128, fmax=8000)\n",
        "librosa.display.specshow(librosa.amplitude_to_db(S),\n",
        "                         y_axis='mel', fmax=8000, x_axis='time')\n",
        "plt.colorbar(format='%+2.0f dB')\n",
        "plt.title('Mel spectrogram')\n",
        "plt.tight_layout()"
      ],
      "execution_count": 6,
      "outputs": [
        {
          "output_type": "display_data",
          "data": {
            "image/png": "[encoded data removed]",
            "text/plain": [
              "<Figure size 432x288 with 2 Axes>"
            ]
          },
          "metadata": {
            "tags": [],
            "needs_background": "light"
          }
        }
      ]
    },
    {
      "cell_type": "markdown",
      "metadata": {
        "id": "bbNEeQGx8FcS"
      },
      "source": [
        "## Downloading the Data\n",
        "\n",
        "Using the MFCC features described above, Eric Humphrey and Juan Bellow have created a complete data set that can used for instrument classification.  Essentially, they collected a number of data files from the website above.  For each audio file, the segmented the track into notes and then extracted 120 MFCCs for each note.  The goal is to recognize the instrument from the 120 MFCCs.  The process of feature extraction is quite involved.  So, we will just use their processed data provided at:\n",
        "\n",
        "https://github.com/marl/dl4mir-tutorial/blob/master/README.md\n",
        "\n",
        "Note the password.  Load the four files into some directory, say  `instrument_dataset`.  Then, load them with the commands."
      ]
    },
    {
      "cell_type": "code",
      "metadata": {
        "id": "vDHQmSk88FcT"
      },
      "source": [
        "data_dir = 'instrument_dataset/'\n",
        "Xtr = np.load(data_dir+'uiowa_train_data.npy')\n",
        "ytr = np.load(data_dir+'uiowa_train_labels.npy')\n",
        "Xts = np.load(data_dir+'uiowa_test_data.npy')\n",
        "yts = np.load(data_dir+'uiowa_test_labels.npy')"
      ],
      "execution_count": 7,
      "outputs": []
    },
    {
      "cell_type": "markdown",
      "metadata": {
        "id": "XpBBaS4s8FcV"
      },
      "source": [
        "Looking at the data files:\n",
        "* What are the number of training and test samples?\n",
        "* What is the number of features for each sample?\n",
        "* How many classes (i.e. instruments) are there per class?\n"
      ]
    },
    {
      "cell_type": "code",
      "metadata": {
        "id": "X4SqBaJL8FcW",
        "outputId": "82ee96c9-20e6-4e13-9d74-d8147a8cc08a",
        "colab": {
          "base_uri": "https://localhost:8080/"
        }
      },
      "source": [
        "# TODO\n",
        "ntr = Xtr.shape[0]\n",
        "nts = Xts.shape[0]\n",
        "nfeatures = Xtr.shape[1]\n",
        "nclasses = np.unique(ytr).size\n",
        "\n",
        "print('Number of training samples : {}'.format(ntr))\n",
        "print('Number of testing samples : {}'.format(nts))\n",
        "print('Number of features of each samples : {}'.format(nfeatures))\n",
        "print('Number of classes in each class (i.e. instruments) : {}'.format(nclasses))"
      ],
      "execution_count": 8,
      "outputs": [
        {
          "output_type": "stream",
          "text": [
            "Number of training samples : 66247\n",
            "Number of testing samples : 14904\n",
            "Number of features of each samples : 120\n",
            "Number of classes in each class (i.e. instruments) : 10\n"
          ],
          "name": "stdout"
        }
      ]
    },
    {
      "cell_type": "markdown",
      "metadata": {
        "id": "aLuG6gwz8FcZ"
      },
      "source": [
        "Before continuing, you must scale the training and test data, `Xtr` and `Xts`.  Compute the mean and std deviation of each feature in `Xtr` and create a new training data set, `Xtr_scale`, by subtracting the mean and dividing by the std deviation.  Also compute a scaled test data set, `Xts_scale` using the mean and std deviation learned from the training data set."
      ]
    },
    {
      "cell_type": "code",
      "metadata": {
        "id": "E8gEmj2V8Fca"
      },
      "source": [
        "# TODO Scale the training and test matrices\n",
        "Xtr_scale = (Xtr - np.mean(Xtr, axis = 0)) / np.std(Xtr, axis = 0)\n",
        "Xts_scale = (Xts - np.mean(Xts, axis = 0)) / np.std(Xtr, axis = 0)"
      ],
      "execution_count": 9,
      "outputs": []
    },
    {
      "cell_type": "markdown",
      "metadata": {
        "collapsed": true,
        "id": "lPFHvOyX8Fcd"
      },
      "source": [
        "## Building a Neural Network Classifier\n",
        "\n",
        "Following the example in [MNIST neural network demo](./mnist_neural.ipynb), clear the keras session.  Then, create a neural network `model` with:\n",
        "* `nh=256` hidden units\n",
        "* `sigmoid` activation\n",
        "* select the input and output shapes correctly\n",
        "* print the model summary"
      ]
    },
    {
      "cell_type": "code",
      "metadata": {
        "id": "q9cAXb0b8Fcd"
      },
      "source": [
        "from tensorflow.keras.models import Model, Sequential\n",
        "from tensorflow.keras.layers import Dense, Activation\n",
        "import tensorflow.keras.backend as K\n"
      ],
      "execution_count": 10,
      "outputs": []
    },
    {
      "cell_type": "code",
      "metadata": {
        "id": "vQLC0K6x8Fcg"
      },
      "source": [
        "# TODO clear session\n",
        "K.clear_session()"
      ],
      "execution_count": 11,
      "outputs": []
    },
    {
      "cell_type": "code",
      "metadata": {
        "id": "EQRfCyi88Fcj"
      },
      "source": [
        "# TODO: construct the model\n",
        "nh = 256\n",
        "\n",
        "model = Sequential()\n",
        "model.add(Dense(units = nh, input_shape = (nfeatures, ), activation = 'sigmoid', name = 'hidden'))\n",
        "model.add(Dense(units = nclasses, activation = 'softmax', name = 'output'))"
      ],
      "execution_count": 12,
      "outputs": []
    },
    {
      "cell_type": "code",
      "metadata": {
        "id": "P4t0Bu3c8Fcm",
        "outputId": "dc445937-7bae-4ae6-b7f2-04a7b151a144",
        "colab": {
          "base_uri": "https://localhost:8080/"
        }
      },
      "source": [
        "# TODO:  Print the model summary\n",
        "model.summary()"
      ],
      "execution_count": 13,
      "outputs": [
        {
          "output_type": "stream",
          "text": [
            "Model: \"sequential\"\n",
            "_________________________________________________________________\n",
            "Layer (type)                 Output Shape              Param #   \n",
            "=================================================================\n",
            "hidden (Dense)               (None, 256)               30976     \n",
            "_________________________________________________________________\n",
            "output (Dense)               (None, 10)                2570      \n",
            "=================================================================\n",
            "Total params: 33,546\n",
            "Trainable params: 33,546\n",
            "Non-trainable params: 0\n",
            "_________________________________________________________________\n"
          ],
          "name": "stdout"
        }
      ]
    },
    {
      "cell_type": "markdown",
      "metadata": {
        "id": "VcHgkR1y8Fco"
      },
      "source": [
        "Create an optimizer and compile the model.  Select the appropriate loss function and metrics.  For the optimizer, use the Adam optimizer with a learning rate of 0.001"
      ]
    },
    {
      "cell_type": "code",
      "metadata": {
        "scrolled": true,
        "id": "zE3dkhrR8Fcp"
      },
      "source": [
        "# TODO\n",
        "from tensorflow.keras import optimizers\n",
        "\n",
        "opt = optimizers.Adam(lr = 0.001)\n",
        "model.compile(optimizer = opt, loss = 'sparse_categorical_crossentropy', metrics = ['accuracy'])"
      ],
      "execution_count": 14,
      "outputs": []
    },
    {
      "cell_type": "markdown",
      "metadata": {
        "id": "ufFVdmDG8Fcr"
      },
      "source": [
        "Fit the model for 10 epochs using the scaled data for both the training and validation.  Use the `validation_data` option to pass the test data.  Also, pass the callback class create above.  Use a batch size of 100.  Your final accuracy should be >99%."
      ]
    },
    {
      "cell_type": "code",
      "metadata": {
        "scrolled": true,
        "id": "5mAMut638Fcs",
        "outputId": "adbf8443-0600-4f5f-d24e-0e06472a7fb9",
        "colab": {
          "base_uri": "https://localhost:8080/"
        }
      },
      "source": [
        "# TODO\n",
        "history = model.fit(Xtr_scale, ytr, epochs = 10, batch_size = 100, validation_data = (Xts_scale, yts))"
      ],
      "execution_count": 15,
      "outputs": [
        {
          "output_type": "stream",
          "text": [
            "Epoch 1/10\n",
            "663/663 [==============================] - 2s 3ms/step - loss: 0.3703 - accuracy: 0.8996 - val_loss: 0.1966 - val_accuracy: 0.9586\n",
            "Epoch 2/10\n",
            "663/663 [==============================] - 2s 2ms/step - loss: 0.1034 - accuracy: 0.9754 - val_loss: 0.1232 - val_accuracy: 0.9661\n",
            "Epoch 3/10\n",
            "663/663 [==============================] - 2s 2ms/step - loss: 0.0609 - accuracy: 0.9854 - val_loss: 0.1008 - val_accuracy: 0.9689\n",
            "Epoch 4/10\n",
            "663/663 [==============================] - 2s 2ms/step - loss: 0.0426 - accuracy: 0.9895 - val_loss: 0.0842 - val_accuracy: 0.9728\n",
            "Epoch 5/10\n",
            "663/663 [==============================] - 2s 2ms/step - loss: 0.0329 - accuracy: 0.9916 - val_loss: 0.0714 - val_accuracy: 0.9757\n",
            "Epoch 6/10\n",
            "663/663 [==============================] - 2s 2ms/step - loss: 0.0260 - accuracy: 0.9933 - val_loss: 0.0734 - val_accuracy: 0.9736\n",
            "Epoch 7/10\n",
            "663/663 [==============================] - 2s 2ms/step - loss: 0.0210 - accuracy: 0.9946 - val_loss: 0.0913 - val_accuracy: 0.9659\n",
            "Epoch 8/10\n",
            "663/663 [==============================] - 2s 2ms/step - loss: 0.0177 - accuracy: 0.9957 - val_loss: 0.0755 - val_accuracy: 0.9720\n",
            "Epoch 9/10\n",
            "663/663 [==============================] - 2s 2ms/step - loss: 0.0153 - accuracy: 0.9958 - val_loss: 0.0768 - val_accuracy: 0.9721\n",
            "Epoch 10/10\n",
            "663/663 [==============================] - 2s 2ms/step - loss: 0.0129 - accuracy: 0.9966 - val_loss: 0.0728 - val_accuracy: 0.9735\n"
          ],
          "name": "stdout"
        }
      ]
    },
    {
      "cell_type": "markdown",
      "metadata": {
        "id": "Ai6iJ9rh8Fcu"
      },
      "source": [
        "Plot the validation accuracy saved in `hist.history` dictionary. This gives one accuracy value per epoch.  You should see that the validation accuracy saturates at a little higher than 99%.  After that it \"bounces around\" due to the noise in the stochastic gradient descent."
      ]
    },
    {
      "cell_type": "code",
      "metadata": {
        "id": "GnUe5iaa8Fcv",
        "outputId": "9e67adcd-442d-428d-ba45-139592a7ec93",
        "colab": {
          "base_uri": "https://localhost:8080/",
          "height": 351
        }
      },
      "source": [
        "# TODO\n",
        "plt.figure(figsize = (10, 5))\n",
        "plt.plot(np.arange(1, 11), history.history['val_accuracy'])\n",
        "plt.xlabel('Epochs')\n",
        "plt.ylabel('Validation Accuracy')"
      ],
      "execution_count": 16,
      "outputs": [
        {
          "output_type": "execute_result",
          "data": {
            "text/plain": [
              "Text(0, 0.5, 'Validation Accuracy')"
            ]
          },
          "metadata": {
            "tags": []
          },
          "execution_count": 16
        },
        {
          "output_type": "display_data",
          "data": {
            "image/png": "[encoded data removed]",
            "text/plain": [
              "<Figure size 720x360 with 1 Axes>"
            ]
          },
          "metadata": {
            "tags": [],
            "needs_background": "light"
          }
        }
      ]
    },
    {
      "cell_type": "markdown",
      "metadata": {
        "id": "Uzw629NN8Fcx"
      },
      "source": [
        "Plot the loss values saved in the `hist.history` dictionary.  You should see that the loss is steadily decreasing.  Use the `semilogy` plot."
      ]
    },
    {
      "cell_type": "code",
      "metadata": {
        "id": "hDD78IQ48Fcy",
        "outputId": "17281b16-4007-445e-c398-84a717cb48e7",
        "colab": {
          "base_uri": "https://localhost:8080/",
          "height": 351
        }
      },
      "source": [
        "# TODO\n",
        "loss = history.history['loss']\n",
        "\n",
        "plt.figure(figsize = (10, 5))\n",
        "plt.semilogy(loss)\n",
        "plt.xlabel('Loss')"
      ],
      "execution_count": 17,
      "outputs": [
        {
          "output_type": "execute_result",
          "data": {
            "text/plain": [
              "Text(0.5, 0, 'Loss')"
            ]
          },
          "metadata": {
            "tags": []
          },
          "execution_count": 17
        },
        {
          "output_type": "display_data",
          "data": {
            "image/png": "[encoded data removed]",
            "text/plain": [
              "<Figure size 720x360 with 1 Axes>"
            ]
          },
          "metadata": {
            "tags": [],
            "needs_background": "light"
          }
        }
      ]
    },
    {
      "cell_type": "markdown",
      "metadata": {
        "id": "nK2yXAZH8Fc0"
      },
      "source": [
        "## Optimizing the Learning Rate\n",
        "\n",
        "One challenge in training neural networks is the selection of the learning rate.  Rerun the above code, trying four learning rates as shown in the vector `rates`.  For each learning rate:\n",
        "* clear the session\n",
        "* construct the network\n",
        "* select the optimizer.  Use the Adam optimizer with the appropriate learrning rate.\n",
        "* train the model for 20 epochs\n",
        "* save the accuracy and losses"
      ]
    },
    {
      "cell_type": "code",
      "metadata": {
        "id": "4jbp-DPR8Fc1",
        "outputId": "741ca782-e9c5-488e-9e98-dbd1a486432b",
        "colab": {
          "base_uri": "https://localhost:8080/"
        }
      },
      "source": [
        "rates = [0.01,0.001,0.0001]\n",
        "batch_size = 100\n",
        "loss_hist = []\n",
        "acc_hist = []\n",
        "\n",
        "# TODO\n",
        "for lr in rates:\n",
        "\n",
        "  K.clear_session()\n",
        "\n",
        "  nh = 256\n",
        "\n",
        "  model = Sequential()\n",
        "  model.add(Dense(units = nh, input_shape = (nfeatures, ), activation = 'sigmoid', name = 'hidden'))\n",
        "  model.add(Dense(units = nclasses, activation = 'softmax', name = 'output'))\n",
        "\n",
        "  opt = optimizers.Adam(lr)\n",
        "  model.compile(optimizer = opt, loss = 'sparse_categorical_crossentropy', metrics = ['accuracy'])\n",
        "\n",
        "  hist = model.fit(Xtr_scale, ytr, epochs = 20, batch_size = 100, validation_data = (Xts_scale, yts))\n",
        "\n",
        "  loss_hist.append(hist.history['loss'])\n",
        "  acc_hist.append(hist.history['accuracy'])"
      ],
      "execution_count": 18,
      "outputs": [
        {
          "output_type": "stream",
          "text": [
            "Epoch 1/20\n",
            "663/663 [==============================] - 2s 2ms/step - loss: 0.1119 - accuracy: 0.9653 - val_loss: 0.0848 - val_accuracy: 0.9694\n",
            "Epoch 2/20\n",
            "663/663 [==============================] - 2s 2ms/step - loss: 0.0316 - accuracy: 0.9896 - val_loss: 0.0967 - val_accuracy: 0.9644\n",
            "Epoch 3/20\n",
            "663/663 [==============================] - 2s 2ms/step - loss: 0.0188 - accuracy: 0.9938 - val_loss: 0.1960 - val_accuracy: 0.9369\n",
            "Epoch 4/20\n",
            "663/663 [==============================] - 2s 2ms/step - loss: 0.0186 - accuracy: 0.9939 - val_loss: 0.2590 - val_accuracy: 0.9304\n",
            "Epoch 5/20\n",
            "663/663 [==============================] - 2s 2ms/step - loss: 0.0159 - accuracy: 0.9946 - val_loss: 0.1951 - val_accuracy: 0.9403\n",
            "Epoch 6/20\n",
            "663/663 [==============================] - 2s 2ms/step - loss: 0.0170 - accuracy: 0.9947 - val_loss: 0.2106 - val_accuracy: 0.9426\n",
            "Epoch 7/20\n",
            "663/663 [==============================] - 2s 2ms/step - loss: 0.0102 - accuracy: 0.9969 - val_loss: 0.3619 - val_accuracy: 0.9169\n",
            "Epoch 8/20\n",
            "663/663 [==============================] - 2s 2ms/step - loss: 0.0191 - accuracy: 0.9944 - val_loss: 0.2260 - val_accuracy: 0.9421\n",
            "Epoch 9/20\n",
            "663/663 [==============================] - 2s 2ms/step - loss: 0.0120 - accuracy: 0.9959 - val_loss: 0.1946 - val_accuracy: 0.9499\n",
            "Epoch 10/20\n",
            "663/663 [==============================] - 2s 2ms/step - loss: 0.0102 - accuracy: 0.9967 - val_loss: 0.3618 - val_accuracy: 0.9277\n",
            "Epoch 11/20\n",
            "663/663 [==============================] - 2s 2ms/step - loss: 0.0105 - accuracy: 0.9966 - val_loss: 0.2763 - val_accuracy: 0.9369\n",
            "Epoch 12/20\n",
            "663/663 [==============================] - 2s 2ms/step - loss: 0.0108 - accuracy: 0.9968 - val_loss: 0.3281 - val_accuracy: 0.9322\n",
            "Epoch 13/20\n",
            "663/663 [==============================] - 2s 2ms/step - loss: 0.0112 - accuracy: 0.9965 - val_loss: 0.2993 - val_accuracy: 0.9387\n",
            "Epoch 14/20\n",
            "663/663 [==============================] - 2s 2ms/step - loss: 0.0097 - accuracy: 0.9971 - val_loss: 0.2823 - val_accuracy: 0.9422\n",
            "Epoch 15/20\n",
            "663/663 [==============================] - 2s 2ms/step - loss: 0.0091 - accuracy: 0.9973 - val_loss: 0.4440 - val_accuracy: 0.9293\n",
            "Epoch 16/20\n",
            "663/663 [==============================] - 2s 2ms/step - loss: 0.0094 - accuracy: 0.9971 - val_loss: 0.4906 - val_accuracy: 0.9240\n",
            "Epoch 17/20\n",
            "663/663 [==============================] - 2s 2ms/step - loss: 0.0072 - accuracy: 0.9977 - val_loss: 0.3491 - val_accuracy: 0.9420\n",
            "Epoch 18/20\n",
            "663/663 [==============================] - 2s 2ms/step - loss: 0.0107 - accuracy: 0.9970 - val_loss: 0.3449 - val_accuracy: 0.9353\n",
            "Epoch 19/20\n",
            "663/663 [==============================] - 2s 2ms/step - loss: 0.0083 - accuracy: 0.9976 - val_loss: 0.6612 - val_accuracy: 0.9150\n",
            "Epoch 20/20\n",
            "663/663 [==============================] - 2s 2ms/step - loss: 0.0075 - accuracy: 0.9978 - val_loss: 0.7940 - val_accuracy: 0.9077\n",
            "Epoch 1/20\n",
            "663/663 [==============================] - 2s 3ms/step - loss: 0.3573 - accuracy: 0.9032 - val_loss: 0.1980 - val_accuracy: 0.9483\n",
            "Epoch 2/20\n",
            "663/663 [==============================] - 2s 2ms/step - loss: 0.1006 - accuracy: 0.9761 - val_loss: 0.1214 - val_accuracy: 0.9658\n",
            "Epoch 3/20\n",
            "663/663 [==============================] - 2s 2ms/step - loss: 0.0592 - accuracy: 0.9855 - val_loss: 0.0907 - val_accuracy: 0.9726\n",
            "Epoch 4/20\n",
            "663/663 [==============================] - 2s 2ms/step - loss: 0.0418 - accuracy: 0.9896 - val_loss: 0.0809 - val_accuracy: 0.9734\n",
            "Epoch 5/20\n",
            "663/663 [==============================] - 2s 2ms/step - loss: 0.0322 - accuracy: 0.9915 - val_loss: 0.0847 - val_accuracy: 0.9707\n",
            "Epoch 6/20\n",
            "663/663 [==============================] - 2s 2ms/step - loss: 0.0255 - accuracy: 0.9935 - val_loss: 0.0767 - val_accuracy: 0.9727\n",
            "Epoch 7/20\n",
            "663/663 [==============================] - 2s 2ms/step - loss: 0.0212 - accuracy: 0.9942 - val_loss: 0.0641 - val_accuracy: 0.9775\n",
            "Epoch 8/20\n",
            "663/663 [==============================] - 2s 2ms/step - loss: 0.0175 - accuracy: 0.9954 - val_loss: 0.0852 - val_accuracy: 0.9680\n",
            "Epoch 9/20\n",
            "663/663 [==============================] - 2s 2ms/step - loss: 0.0153 - accuracy: 0.9960 - val_loss: 0.0622 - val_accuracy: 0.9767\n",
            "Epoch 10/20\n",
            "663/663 [==============================] - 2s 2ms/step - loss: 0.0132 - accuracy: 0.9964 - val_loss: 0.0710 - val_accuracy: 0.9743\n",
            "Epoch 11/20\n",
            "663/663 [==============================] - 2s 2ms/step - loss: 0.0116 - accuracy: 0.9970 - val_loss: 0.0648 - val_accuracy: 0.9761\n",
            "Epoch 12/20\n",
            "663/663 [==============================] - 2s 2ms/step - loss: 0.0103 - accuracy: 0.9974 - val_loss: 0.0646 - val_accuracy: 0.9761\n",
            "Epoch 13/20\n",
            "663/663 [==============================] - 2s 2ms/step - loss: 0.0091 - accuracy: 0.9974 - val_loss: 0.0854 - val_accuracy: 0.9687\n",
            "Epoch 14/20\n",
            "663/663 [==============================] - 2s 2ms/step - loss: 0.0086 - accuracy: 0.9978 - val_loss: 0.0822 - val_accuracy: 0.9707\n",
            "Epoch 15/20\n",
            "663/663 [==============================] - 2s 2ms/step - loss: 0.0075 - accuracy: 0.9979 - val_loss: 0.0770 - val_accuracy: 0.9720\n",
            "Epoch 16/20\n",
            "663/663 [==============================] - 2s 2ms/step - loss: 0.0069 - accuracy: 0.9982 - val_loss: 0.1028 - val_accuracy: 0.9640\n",
            "Epoch 17/20\n",
            "663/663 [==============================] - 2s 2ms/step - loss: 0.0066 - accuracy: 0.9982 - val_loss: 0.0934 - val_accuracy: 0.9673\n",
            "Epoch 18/20\n",
            "663/663 [==============================] - 2s 2ms/step - loss: 0.0059 - accuracy: 0.9984 - val_loss: 0.0875 - val_accuracy: 0.9708\n",
            "Epoch 19/20\n",
            "663/663 [==============================] - 2s 2ms/step - loss: 0.0055 - accuracy: 0.9986 - val_loss: 0.0879 - val_accuracy: 0.9676\n",
            "Epoch 20/20\n",
            "663/663 [==============================] - 2s 2ms/step - loss: 0.0051 - accuracy: 0.9988 - val_loss: 0.0881 - val_accuracy: 0.9690\n",
            "Epoch 1/20\n",
            "663/663 [==============================] - 2s 3ms/step - loss: 1.1077 - accuracy: 0.6560 - val_loss: 0.8290 - val_accuracy: 0.6992\n",
            "Epoch 2/20\n",
            "663/663 [==============================] - 2s 2ms/step - loss: 0.5490 - accuracy: 0.8438 - val_loss: 0.5594 - val_accuracy: 0.8420\n",
            "Epoch 3/20\n",
            "663/663 [==============================] - 2s 2ms/step - loss: 0.3812 - accuracy: 0.9111 - val_loss: 0.4215 - val_accuracy: 0.9039\n",
            "Epoch 4/20\n",
            "663/663 [==============================] - 2s 2ms/step - loss: 0.2948 - accuracy: 0.9330 - val_loss: 0.3390 - val_accuracy: 0.9257\n",
            "Epoch 5/20\n",
            "663/663 [==============================] - 2s 2ms/step - loss: 0.2395 - accuracy: 0.9459 - val_loss: 0.2858 - val_accuracy: 0.9355\n",
            "Epoch 6/20\n",
            "663/663 [==============================] - 2s 2ms/step - loss: 0.2001 - accuracy: 0.9545 - val_loss: 0.2382 - val_accuracy: 0.9512\n",
            "Epoch 7/20\n",
            "663/663 [==============================] - 2s 2ms/step - loss: 0.1702 - accuracy: 0.9607 - val_loss: 0.2079 - val_accuracy: 0.9591\n",
            "Epoch 8/20\n",
            "663/663 [==============================] - 2s 2ms/step - loss: 0.1465 - accuracy: 0.9659 - val_loss: 0.1837 - val_accuracy: 0.9593\n",
            "Epoch 9/20\n",
            "663/663 [==============================] - 2s 2ms/step - loss: 0.1275 - accuracy: 0.9700 - val_loss: 0.1625 - val_accuracy: 0.9673\n",
            "Epoch 10/20\n",
            "663/663 [==============================] - 2s 2ms/step - loss: 0.1121 - accuracy: 0.9736 - val_loss: 0.1475 - val_accuracy: 0.9669\n",
            "Epoch 11/20\n",
            "663/663 [==============================] - 2s 2ms/step - loss: 0.0996 - accuracy: 0.9769 - val_loss: 0.1348 - val_accuracy: 0.9699\n",
            "Epoch 12/20\n",
            "663/663 [==============================] - 2s 2ms/step - loss: 0.0893 - accuracy: 0.9793 - val_loss: 0.1275 - val_accuracy: 0.9680\n",
            "Epoch 13/20\n",
            "663/663 [==============================] - 2s 2ms/step - loss: 0.0806 - accuracy: 0.9810 - val_loss: 0.1175 - val_accuracy: 0.9722\n",
            "Epoch 14/20\n",
            "663/663 [==============================] - 2s 2ms/step - loss: 0.0735 - accuracy: 0.9827 - val_loss: 0.1093 - val_accuracy: 0.9726\n",
            "Epoch 15/20\n",
            "663/663 [==============================] - 2s 2ms/step - loss: 0.0674 - accuracy: 0.9841 - val_loss: 0.1038 - val_accuracy: 0.9738\n",
            "Epoch 16/20\n",
            "663/663 [==============================] - 2s 2ms/step - loss: 0.0622 - accuracy: 0.9854 - val_loss: 0.1030 - val_accuracy: 0.9723\n",
            "Epoch 17/20\n",
            "663/663 [==============================] - 2s 2ms/step - loss: 0.0577 - accuracy: 0.9865 - val_loss: 0.0957 - val_accuracy: 0.9737\n",
            "Epoch 18/20\n",
            "663/663 [==============================] - 2s 2ms/step - loss: 0.0538 - accuracy: 0.9871 - val_loss: 0.0888 - val_accuracy: 0.9746\n",
            "Epoch 19/20\n",
            "663/663 [==============================] - 2s 2ms/step - loss: 0.0504 - accuracy: 0.9881 - val_loss: 0.0902 - val_accuracy: 0.9740\n",
            "Epoch 20/20\n",
            "663/663 [==============================] - 2s 2ms/step - loss: 0.0473 - accuracy: 0.9885 - val_loss: 0.0844 - val_accuracy: 0.9752\n"
          ],
          "name": "stdout"
        }
      ]
    },
    {
      "cell_type": "markdown",
      "metadata": {
        "id": "xlLsDiZs8Fc3"
      },
      "source": [
        "Plot the loss funciton vs. the epoch number for all three learning rates on one graph.  You should see that the lower learning rates are more stable, but converge slower."
      ]
    },
    {
      "cell_type": "code",
      "metadata": {
        "id": "9nHTxjZV8Fc4",
        "outputId": "f6b01d5f-aa3c-42aa-eafb-e1345cf44784",
        "colab": {
          "base_uri": "https://localhost:8080/",
          "height": 351
        }
      },
      "source": [
        "# TODO\n",
        "nepoch = np.arange(1, 21)\n",
        "losses = np.array(loss_hist)\n",
        "\n",
        "plt.figure(figsize = (10, 5))\n",
        "plt.plot(nepoch, losses[0, :])\n",
        "plt.plot(nepoch, losses[1, :])\n",
        "plt.plot(nepoch, losses[2, :])\n",
        "plt.xlabel('Epochs')\n",
        "plt.ylabel('Loss')\n",
        "plt.legend(['Step size = 0.01', 'Step size = 0.001', 'Step size = 0.0001'])"
      ],
      "execution_count": 19,
      "outputs": [
        {
          "output_type": "execute_result",
          "data": {
            "text/plain": [
              "<matplotlib.legend.Legend at 0x7f246f88c940>"
            ]
          },
          "metadata": {
            "tags": []
          },
          "execution_count": 19
        },
        {
          "output_type": "display_data",
          "data": {
            "image/png": "[encoded data removed]",
            "text/plain": [
              "<Figure size 720x360 with 1 Axes>"
            ]
          },
          "metadata": {
            "tags": [],
            "needs_background": "light"
          }
        }
      ]
    }
  ]
}