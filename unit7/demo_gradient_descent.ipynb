{
  "nbformat": 4,
  "nbformat_minor": 0,
  "metadata": {
    "colab": {
      "name": "demo_gradient_descent.ipynb",
      "provenance": [],
      "collapsed_sections": [],
      "authorship_tag": "ABX9TyNZ1xlP3Wf93u0zbhkHcTLF",
      "include_colab_link": true
    },
    "kernelspec": {
      "name": "python3",
      "display_name": "Python 3"
    }
  },
  "cells": [
    {
      "cell_type": "markdown",
      "metadata": {
        "id": "view-in-github",
        "colab_type": "text"
      },
      "source": [
        "<a href=\"https://colab.research.google.com/github/siddharthchd/introml/blob/master/unit7/demo_gradient_descent.ipynb\" target=\"_parent\"><img src=\"https://colab.research.google.com/assets/colab-badge.svg\" alt=\"Open In Colab\"/></a>"
      ]
    },
    {
      "cell_type": "markdown",
      "metadata": {
        "id": "gMOThogHsklN"
      },
      "source": [
        "### Gradient Descent Optimization"
      ]
    },
    {
      "cell_type": "code",
      "metadata": {
        "id": "ErzOsrwpuQAb"
      },
      "source": [
        "import numpy as np\n",
        "import matplotlib.pyplot as plt\n",
        "import pandas as pd\n",
        "from sklearn import preprocessing\n",
        "%matplotlib inline"
      ],
      "execution_count": 1,
      "outputs": []
    },
    {
      "cell_type": "code",
      "metadata": {
        "id": "cdb3mvQgumIq",
        "outputId": "71e48f82-a3f3-490a-bc1c-0b2e6977b0e5",
        "colab": {
          "base_uri": "https://localhost:8080/",
          "height": 215
        }
      },
      "source": [
        "names = ['id','thick','size_unif','shape_unif','marg','cell_size','bare',\n",
        "         'chrom','normal','mit','class']\n",
        "df = pd.read_csv('https://archive.ics.uci.edu/ml/machine-learning-databases/' +\n",
        "                 'breast-cancer-wisconsin/breast-cancer-wisconsin.data',\n",
        "                names=names,na_values='?',header=None)\n",
        "df = df.dropna()\n",
        "df.head()"
      ],
      "execution_count": 2,
      "outputs": [
        {
          "output_type": "execute_result",
          "data": {
            "text/html": [
              "<div>\n",
              "<style scoped>\n",
              "    .dataframe tbody tr th:only-of-type {\n",
              "        vertical-align: middle;\n",
              "    }\n",
              "\n",
              "    .dataframe tbody tr th {\n",
              "        vertical-align: top;\n",
              "    }\n",
              "\n",
              "    .dataframe thead th {\n",
              "        text-align: right;\n",
              "    }\n",
              "</style>\n",
              "<table border=\"1\" class=\"dataframe\">\n",
              "  <thead>\n",
              "    <tr style=\"text-align: right;\">\n",
              "      <th></th>\n",
              "      <th>id</th>\n",
              "      <th>thick</th>\n",
              "      <th>size_unif</th>\n",
              "      <th>shape_unif</th>\n",
              "      <th>marg</th>\n",
              "      <th>cell_size</th>\n",
              "      <th>bare</th>\n",
              "      <th>chrom</th>\n",
              "      <th>normal</th>\n",
              "      <th>mit</th>\n",
              "      <th>class</th>\n",
              "    </tr>\n",
              "  </thead>\n",
              "  <tbody>\n",
              "    <tr>\n",
              "      <th>0</th>\n",
              "      <td>1000025</td>\n",
              "      <td>5</td>\n",
              "      <td>1</td>\n",
              "      <td>1</td>\n",
              "      <td>1</td>\n",
              "      <td>2</td>\n",
              "      <td>1.0</td>\n",
              "      <td>3</td>\n",
              "      <td>1</td>\n",
              "      <td>1</td>\n",
              "      <td>2</td>\n",
              "    </tr>\n",
              "    <tr>\n",
              "      <th>1</th>\n",
              "      <td>1002945</td>\n",
              "      <td>5</td>\n",
              "      <td>4</td>\n",
              "      <td>4</td>\n",
              "      <td>5</td>\n",
              "      <td>7</td>\n",
              "      <td>10.0</td>\n",
              "      <td>3</td>\n",
              "      <td>2</td>\n",
              "      <td>1</td>\n",
              "      <td>2</td>\n",
              "    </tr>\n",
              "    <tr>\n",
              "      <th>2</th>\n",
              "      <td>1015425</td>\n",
              "      <td>3</td>\n",
              "      <td>1</td>\n",
              "      <td>1</td>\n",
              "      <td>1</td>\n",
              "      <td>2</td>\n",
              "      <td>2.0</td>\n",
              "      <td>3</td>\n",
              "      <td>1</td>\n",
              "      <td>1</td>\n",
              "      <td>2</td>\n",
              "    </tr>\n",
              "    <tr>\n",
              "      <th>3</th>\n",
              "      <td>1016277</td>\n",
              "      <td>6</td>\n",
              "      <td>8</td>\n",
              "      <td>8</td>\n",
              "      <td>1</td>\n",
              "      <td>3</td>\n",
              "      <td>4.0</td>\n",
              "      <td>3</td>\n",
              "      <td>7</td>\n",
              "      <td>1</td>\n",
              "      <td>2</td>\n",
              "    </tr>\n",
              "    <tr>\n",
              "      <th>4</th>\n",
              "      <td>1017023</td>\n",
              "      <td>4</td>\n",
              "      <td>1</td>\n",
              "      <td>1</td>\n",
              "      <td>3</td>\n",
              "      <td>2</td>\n",
              "      <td>1.0</td>\n",
              "      <td>3</td>\n",
              "      <td>1</td>\n",
              "      <td>1</td>\n",
              "      <td>2</td>\n",
              "    </tr>\n",
              "  </tbody>\n",
              "</table>\n",
              "</div>"
            ],
            "text/plain": [
              "        id  thick  size_unif  shape_unif  marg  ...  bare  chrom  normal  mit  class\n",
              "0  1000025      5          1           1     1  ...   1.0      3       1    1      2\n",
              "1  1002945      5          4           4     5  ...  10.0      3       2    1      2\n",
              "2  1015425      3          1           1     1  ...   2.0      3       1    1      2\n",
              "3  1016277      6          8           8     1  ...   4.0      3       7    1      2\n",
              "4  1017023      4          1           1     3  ...   1.0      3       1    1      2\n",
              "\n",
              "[5 rows x 11 columns]"
            ]
          },
          "metadata": {
            "tags": []
          },
          "execution_count": 2
        }
      ]
    },
    {
      "cell_type": "code",
      "metadata": {
        "id": "H6rED2nT0SyJ",
        "outputId": "9619713f-bee4-4510-9a1d-820f7a752f11",
        "colab": {
          "base_uri": "https://localhost:8080/",
          "height": 34
        }
      },
      "source": [
        "# Get the predictors\n",
        "xnames = names[1:-1]\n",
        "X = np.array(df[xnames])\n",
        "\n",
        "# Get the response. Convert to a zero-one indicator\n",
        "yraw = np.array(df['class'])\n",
        "BEN_VAL = 2     # value in the 'class' label for benign samples\n",
        "MAL_VAL = 4     # value in the 'class' label for malignant samples\n",
        "y = (yraw == MAL_VAL).astype(int)\n",
        "set(y)"
      ],
      "execution_count": 9,
      "outputs": [
        {
          "output_type": "execute_result",
          "data": {
            "text/plain": [
              "{0, 1}"
            ]
          },
          "metadata": {
            "tags": []
          },
          "execution_count": 9
        }
      ]
    },
    {
      "cell_type": "code",
      "metadata": {
        "id": "uupa8rX91ZzG"
      },
      "source": [
        "from sklearn.model_selection import train_test_split\n",
        "from sklearn.preprocessing import StandardScaler\n",
        "\n",
        "# Split into train and test\n",
        "Xtr, Xts, ytr, yts = train_test_split(X, y, test_size = 0.30)\n",
        "\n",
        "# Scale data\n",
        "scal = StandardScaler()\n",
        "Xtr1 = scal.fit_transform(Xtr)\n",
        "Xts1 = scal.fit_transform(Xts)"
      ],
      "execution_count": 7,
      "outputs": []
    },
    {
      "cell_type": "code",
      "metadata": {
        "id": "TdaPo9OX1-b5",
        "outputId": "a8f8af77-05df-4944-ae72-75e9aeb29883",
        "colab": {
          "base_uri": "https://localhost:8080/",
          "height": 34
        }
      },
      "source": [
        "# Fit the model\n",
        "from sklearn import linear_model\n",
        "\n",
        "reg = linear_model.LogisticRegression(C = 1e5)\n",
        "reg.fit(Xtr1, ytr)\n",
        "\n",
        "# Measure the test error\n",
        "yhat = reg.predict(Xts1)\n",
        "acc = np.mean(yhat == yts)\n",
        "print('Accuracy on test data = {}'.format(acc))"
      ],
      "execution_count": 11,
      "outputs": [
        {
          "output_type": "stream",
          "text": [
            "Accuracy on test data = 0.9365853658536586\n"
          ],
          "name": "stdout"
        }
      ]
    },
    {
      "cell_type": "markdown",
      "metadata": {
        "id": "WH0od1hS2q0X"
      },
      "source": [
        "#### Computing the Gradient and Loss Function\n",
        "\n",
        "Logistic function for classification is given by :\n",
        "\n",
        "\n",
        "\\begin{align*}\n",
        "P(y = 1|x, w) = \\frac{1}{e^{-z}}, \\text {   where} \\\\\n",
        "z = w[0] + w[1]x[0] + .... + w[k]x[k-1] \\\\\n",
        "\\end{align*}\n",
        "\n",
        "From the class notes in logistic regression, we saw that the wight vector can be found by minimizing the negative log likelihood. The negative log likelihood is called the loss function. For the logistic regression problem, the loss function simplifies to : \n",
        "\n",
        "\\begin{align*}\n",
        "f(w) = \\sum_i -y[i]z[i] + ln(1 + e^{z[i]}) \\\\\n",
        "z[i] = w[0] + w[1]X[i,0] + ... + w[k]X[i,k-1]\n",
        "\\end{align*}\n"
      ]
    },
    {
      "cell_type": "code",
      "metadata": {
        "id": "_w8UCfVh2-7p"
      },
      "source": [
        "# Function to compute f and its gradient feval\n",
        "\n",
        "def feval(w, X, y):\n",
        "\n",
        "    \"\"\"\n",
        "    Compute the loss and gradient given w, X, y\n",
        "    \"\"\"\n",
        "    # Construct transform matrix\n",
        "    n = X.shape[0]\n",
        "    A = np.column_stack((np.ones(n,), X))\n",
        "\n",
        "    # The loss is the binary cross entropy\n",
        "    z = A.dot(w)\n",
        "    py = 1 / (1 + np.exp(-z))\n",
        "    f = np.sum((1 - y) * z - np.log(py))\n",
        "\n",
        "    # Gradient\n",
        "    df_dz = py - y\n",
        "    fgrad = A.T.dot(df_dz)\n",
        "    \n",
        "    return f, fgrad"
      ],
      "execution_count": 12,
      "outputs": []
    },
    {
      "cell_type": "markdown",
      "metadata": {
        "id": "7wS-ByTz7uXN"
      },
      "source": [
        "One issue is that the function f(w,X,y) depends on the parameters X and y. Most numerical optimizers expect a function that only depends on w. So, we need an alternate way to pass those parameters to the function. There are two approaches.\n",
        "\n",
        "#### Method 1. Use a class method\n",
        "\n",
        "One approach to pass the parameters is to implement the function as a method in a class that contains the parameters. In the code below, we create a class LogisticFun where the constructor takes the parameters X and y. Then, the class method feval takes a variable w and computes the loss and its gradient.\n",
        "\n",
        "You can see that one benefit of using a class method is that processing that is independent of w can be performed in the contructor. For example, in the code below, constructs self.A in the constructor. Then this step does not need to be repeated every time the function is called."
      ]
    },
    {
      "cell_type": "code",
      "metadata": {
        "id": "D_i_8e0V74oT"
      },
      "source": [
        "class LogisticFun(object):\n",
        "\n",
        "    def __init__(self, X, y):\n",
        "        \n",
        "        \"\"\"\n",
        "        Class to compute the loss and gradient for a logistic regression problem.\n",
        "\n",
        "        The constructor takes the data matrix 'X' and response vector y for training.\n",
        "        \"\"\"\n",
        "        self.X = X\n",
        "        self.y = y\n",
        "        n = X.shape[0]\n",
        "        self.A = np.column_stack((np.ones(n,), X))\n",
        "\n",
        "    def feval(self, w):\n",
        "\n",
        "        \"\"\"\n",
        "        Compute the loss and gradient for a  given weight vector\n",
        "        \"\"\"\n",
        "        # The loss is the binary cross entropy\n",
        "        z = self.A.dot(w)\n",
        "        py = 1 / (1 + np.exp(-z))\n",
        "        f = np.sum((1 - self.y) * z - np.log(py))\n",
        "\n",
        "        # Gradient\n",
        "        df_dz = py - self.y\n",
        "        fgrad = self.A.T.dot(df_dz)\n",
        "\n",
        "        return f, fgrad"
      ],
      "execution_count": 13,
      "outputs": []
    },
    {
      "cell_type": "code",
      "metadata": {
        "id": "At5_cIx48w66"
      },
      "source": [
        "log_fun = LogisticFun(Xtr1, ytr)\n",
        "\n",
        "# Sompe random point\n",
        "p = X.shape[1] + 1\n",
        "w0 = np.random.randn(p)\n",
        "\n",
        "# Call the function\n",
        "f, fgrad = log_fun.feval(w0)"
      ],
      "execution_count": 15,
      "outputs": []
    },
    {
      "cell_type": "markdown",
      "metadata": {
        "id": "iHgV91Z28__v"
      },
      "source": [
        "#### Methon 2. Using lambda functions\n",
        "\n",
        "An alternative method is to use python lambda function. The code below creates and uses the lambda construction to fix the parameters X and y. A slight disadvantage of this method is that the pre-processing is less easy to separate."
      ]
    },
    {
      "cell_type": "code",
      "metadata": {
        "id": "W3zkRcPv9Wra"
      },
      "source": [
        "# Create a function with X, y fixed\n",
        "feval_param = lambda w: feval(w, Xtr1, ytr)\n",
        "\n",
        "# You can now pass a parameter like w0\n",
        "f0, fgrad0 = feval_param(w0)"
      ],
      "execution_count": 16,
      "outputs": []
    },
    {
      "cell_type": "markdown",
      "metadata": {
        "id": "2j8Fv7yh9kqy"
      },
      "source": [
        "####Testing the gradient\n",
        "\n",
        "Either way you create the function, it is very important to test if the gradient is correct. This is the number one reason people's code does not work with numerical optimizers. The simplest method is to take two points w0 and w1 that are close to one another and then verify that\n",
        "\n",
        "\\begin{align*}\n",
        "f(w1) - f(w0) \\approx fgrad(w0).dot(w1 - w0)\n",
        "\\end{align*}"
      ]
    },
    {
      "cell_type": "code",
      "metadata": {
        "id": "7VdvpXmT9vtx",
        "outputId": "8f15d1c9-f7be-45c2-8ced-f71e29413f90",
        "colab": {
          "base_uri": "https://localhost:8080/",
          "height": 52
        }
      },
      "source": [
        "# Take a random initial point\n",
        "p = X.shape[1] + 1\n",
        "w0 = np.random.randn(p)\n",
        "\n",
        "# Perturb the point\n",
        "step = 1e-6\n",
        "w1 = w0 + step * np.random.randn(p)\n",
        "\n",
        "# Measure the function and gradient at w0 and w1\n",
        "f0, fgrad0 = log_fun.feval(w0)\n",
        "f1, fgrad1 = log_fun.feval(w1)\n",
        "\n",
        "# Predict the amount the function should have changed based on the gradient\n",
        "df_est = fgrad0.dot(w1 - w0)\n",
        "\n",
        "# Print the two values to see if they are close\n",
        "print('Actual f1 - f0     = %12.4e' % (f1 - f0))\n",
        "print('Predicted f1 - f0  = %12.4e' % df_est)"
      ],
      "execution_count": 20,
      "outputs": [
        {
          "output_type": "stream",
          "text": [
            "Actual f1 - f0     =  -3.6545e-05\n",
            "Predicted f1 - f0  =  -3.6545e-05\n"
          ],
          "name": "stdout"
        }
      ]
    },
    {
      "cell_type": "markdown",
      "metadata": {
        "id": "UxpeFwwc96mq"
      },
      "source": [
        "#### A Simple Gradient Descent Optimizer"
      ]
    },
    {
      "cell_type": "code",
      "metadata": {
        "id": "ko147z60-rWm"
      },
      "source": [
        "def grad_opt_sim(feval, winit, lr = 1e-3, nit = 1000):\n",
        "\n",
        "    \"\"\"\n",
        "    Simple gradient descent optimization\n",
        "\n",
        "    feval : A function that returns f, fgradm, the objective function and its gradient\n",
        "    winit : Initial estimate\n",
        "    lr    : Learning rate\n",
        "    nit   : Number of iterations\n",
        "    \"\"\"\n",
        "    # Initialize\n",
        "    w0 = winit\n",
        "\n",
        "    # Loop over iterations\n",
        "    for it in range(nit):\n",
        "\n",
        "        # Evaluate the function and gradient\n",
        "        f0, fgrad0 = feval(w0)\n",
        "\n",
        "        # Take a gradient step\n",
        "        w0 = w0 - lr * fgrad0\n",
        "\n",
        "    return w0, f0"
      ],
      "execution_count": 21,
      "outputs": []
    },
    {
      "cell_type": "markdown",
      "metadata": {
        "id": "HCGv_GCA_Vi8"
      },
      "source": [
        "The above code will work but to get a bit more insight we can modify this code to add a history dictionary that keeps track of the loss function and values over iteration"
      ]
    },
    {
      "cell_type": "code",
      "metadata": {
        "id": "mFfiM_jU_gp6"
      },
      "source": [
        "def grad_opt_simp(feval, winit, lr = 1e-3, nit = 1000):\n",
        "\n",
        "    \"\"\"\n",
        "    Simple gradient descent optimization\n",
        "\n",
        "    feval : A function that returns f, fgradm, the objective function and its gradient\n",
        "    winit : Initial estimate\n",
        "    lr    : Learning rate\n",
        "    nit   : Number of iterations\n",
        "    \"\"\"\n",
        "    # Initialize\n",
        "    w0 = winit\n",
        "\n",
        "    # Create history dictionary for tracking progress per iteration\n",
        "    hist = {'w' : [], 'f' : []}\n",
        "\n",
        "    # Loop over iterations\n",
        "    for it in range(nit):\n",
        "\n",
        "        # Evaluate the function and gradient\n",
        "        f0, fgrad0 = feval(w0)\n",
        "\n",
        "        # Take a gradient step\n",
        "        w0 = w0 - lr * fgrad0\n",
        "\n",
        "        # Save history\n",
        "        hist['f'].append(f0)\n",
        "        hist['w'].append(w0)\n",
        "\n",
        "    # Convert to numpy arrays\n",
        "    for elem in ('f', 'w'):\n",
        "\n",
        "        hist[elem] = np.array(hist[elem])\n",
        "\n",
        "    return w0, f0, hist"
      ],
      "execution_count": 22,
      "outputs": []
    },
    {
      "cell_type": "code",
      "metadata": {
        "id": "7XCAakWRAa3O",
        "outputId": "35b96a14-6048-4e04-8b70-b5e9abe3de34",
        "colab": {
          "base_uri": "https://localhost:8080/",
          "height": 304
        }
      },
      "source": [
        "# Inital condition\n",
        "winit = np.random.randn(p)\n",
        "\n",
        "# Parameters\n",
        "feval = log_fun.feval\n",
        "nit = 1000\n",
        "lr = 1e-4\n",
        "\n",
        "# Run the gradient descent\n",
        "w, f0, hist = grad_opt_simp(feval, winit, lr = lr, nit = nit)\n",
        "\n",
        "# Plot the training loss\n",
        "t = np.arange(nit) + 1\n",
        "plt.semilogx(t, hist['f'])\n",
        "plt.grid()\n",
        "plt.xlabel('Iteration')\n",
        "plt.ylabel('Training loss')"
      ],
      "execution_count": 23,
      "outputs": [
        {
          "output_type": "execute_result",
          "data": {
            "text/plain": [
              "Text(0, 0.5, 'Training loss')"
            ]
          },
          "metadata": {
            "tags": []
          },
          "execution_count": 23
        },
        {
          "output_type": "display_data",
          "data": {
            "image/png": "[encoded data removed]",
            "text/plain": [
              "<Figure size 432x288 with 1 Axes>"
            ]
          },
          "metadata": {
            "tags": [],
            "needs_background": "light"
          }
        }
      ]
    },
    {
      "cell_type": "code",
      "metadata": {
        "id": "rY8If002A2tu",
        "outputId": "abeff9dd-6442-4a87-d2f6-14807c303bb4",
        "colab": {
          "base_uri": "https://localhost:8080/",
          "height": 34
        }
      },
      "source": [
        "def predict(X, w):\n",
        "\n",
        "    z = X.dot(w[1:]) + w[0]\n",
        "    yhat = (z > 0)\n",
        "    \n",
        "    return yhat\n",
        "\n",
        "yhat = predict(Xts1, w)\n",
        "acc = np.mean(yhat == yts)\n",
        "print('Test accuracy = %f' % acc)"
      ],
      "execution_count": 24,
      "outputs": [
        {
          "output_type": "stream",
          "text": [
            "Test accuracy = 0.960976\n"
          ],
          "name": "stdout"
        }
      ]
    },
    {
      "cell_type": "code",
      "metadata": {
        "id": "WV_SNZiuBLOT",
        "outputId": "898c866c-207b-4e31-d43c-a5ed8cb70bca",
        "colab": {
          "base_uri": "https://localhost:8080/",
          "height": 357
        }
      },
      "source": [
        "# Learning rate values to test\n",
        "lr_test = [1e-5, 1e-4, 1e-3]\n",
        "ntest = len(lr_test)\n",
        "\n",
        "# String for the legend\n",
        "leg_str = []\n",
        "losshist = []\n",
        "\n",
        "for i, lr in enumerate(lr_test):\n",
        "\n",
        "    # Run the optimizer\n",
        "    w, f0, hist = grad_opt_simp(feval, winit, lr = lr, nit = nit)\n",
        "    losshist.append(hist['f'])\n",
        "\n",
        "    # Plot the results\n",
        "    t = np.arange(nit) + 1\n",
        "    plt.semilogx(t, hist['f'])\n",
        "    leg_str.append('lr = %12.2e' % lr)\n",
        "\n",
        "    # Measure the test accuracy\n",
        "    yhat = predict(Xts1, w)\n",
        "    acc = np.mean(yhat == yts)\n",
        "    print('lr = %12.2e      Test accuracy = %f' % (lr, acc))\n",
        "\n",
        "plt.grid()\n",
        "plt.legend(leg_str, loc = 'upper right')\n",
        "plt.xlabel('Iteration')\n",
        "plt.ylabel('Training Loss')"
      ],
      "execution_count": 25,
      "outputs": [
        {
          "output_type": "stream",
          "text": [
            "lr =     1.00e-05      Test accuracy = 0.970732\n",
            "lr =     1.00e-04      Test accuracy = 0.960976\n",
            "lr =     1.00e-03      Test accuracy = 0.941463\n"
          ],
          "name": "stdout"
        },
        {
          "output_type": "execute_result",
          "data": {
            "text/plain": [
              "Text(0, 0.5, 'Training Loss')"
            ]
          },
          "metadata": {
            "tags": []
          },
          "execution_count": 25
        },
        {
          "output_type": "display_data",
          "data": {
            "image/png": "[encoded data removed]",
            "text/plain": [
              "<Figure size 432x288 with 1 Axes>"
            ]
          },
          "metadata": {
            "tags": [],
            "needs_background": "light"
          }
        }
      ]
    },
    {
      "cell_type": "markdown",
      "metadata": {
        "id": "zU6FYaEvCoIx"
      },
      "source": [
        "You can see that increase in the learning rate more to speed up the convergence time. Again, although it depends on the train-test split, generally you will also get higher test accuracy with the faster learning rate. But you cannot increase the learning rate too high as the optimization may go unstable.\n",
        "\n",
        "#### Adaptive Step Size\n",
        "\n",
        "The above example shows the gradient descent is sensitive to the step size. We now consider a slight variant of gradient descent with an adaptive step-size using the Armijo rule in class."
      ]
    },
    {
      "cell_type": "code",
      "metadata": {
        "id": "mM7oO1XJC9n1"
      },
      "source": [
        "def grad_opt_adapt(feval, winit, nit = 1000, lr_init = 1e-3, lr_min = 1e-6):\n",
        "\n",
        "    \"\"\"\n",
        "    Gradient descent optimization with adaptive step size\n",
        "\n",
        "    feval:  A function that returns f, fgrad, the objective function and its gradient\n",
        "    winit:  Initial estimate\n",
        "    nit:    Number of iterations\n",
        "    lr_init:    Initial Learning rate\n",
        "    lr_min:     Minimum Learning rate\n",
        "    \"\"\"\n",
        "\n",
        "    # Set initial point\n",
        "    w0 = winit\n",
        "    f0, fgrad0 = feval(w0)\n",
        "    lr = lr_init\n",
        "    \n",
        "    # Create history dictionary for tracking progress per iteration\n",
        "    hist = {'lr' : [], 'w' : [], 'f' : []}\n",
        "\n",
        "    for it in range(nit):\n",
        "\n",
        "        # Take a gradient step\n",
        "        w1 = w0 - lr * fgrad0\n",
        "\n",
        "        # Evaluate the test point by computing the objective function f at\n",
        "        # the test point and predicted decrease, df_est\n",
        "        f1, fgrad1 = feval(w1)\n",
        "        df_est = fgrad0.dot(w1 - w0)\n",
        "\n",
        "        # Check if test point passses the Armijo condition\n",
        "        alpha = 0.5\n",
        "        if (f1 - f0 < alpha * df_est) and (f1 < f0):\n",
        "\n",
        "            # If descent is sufficient, accept the point and increase the learning rate\n",
        "            lr = lr * 2\n",
        "            f0 = f1\n",
        "            fgrad0 = fgrad1\n",
        "            w0 = w1\n",
        "\n",
        "        else:\n",
        "\n",
        "            # Otherwise decrease the learning rate\n",
        "            lr = lr / 2\n",
        "            lr = np.maximum(lr, lr_min)\n",
        "\n",
        "        # Save history\n",
        "        hist['f'].append(f0)\n",
        "        hist['lr'].append(lr)\n",
        "        hist['w'].append(w0)\n",
        "\n",
        "    # Convert to numpy arrays\n",
        "    for elem in ('f', 'lr', 'w'):\n",
        "        hist[elem] = np.array(hist[elem])\n",
        "\n",
        "    return w0, f0, hist"
      ],
      "execution_count": 29,
      "outputs": []
    },
    {
      "cell_type": "code",
      "metadata": {
        "id": "WsZechOsFEM9",
        "outputId": "6f2e5e12-78fc-4c92-e6d8-f48c88773286",
        "colab": {
          "base_uri": "https://localhost:8080/",
          "height": 297
        }
      },
      "source": [
        "winit = np.random.randn(p)\n",
        "nit = 1000\n",
        "w, f0, hist = grad_opt_adapt(feval, winit, nit= nit)\n",
        "\n",
        "t = np.arange(nit)\n",
        "plt.subplot(2, 1, 1)\n",
        "plt.semilogx(t, hist['f'])\n",
        "plt.grid()\n",
        "plt.ylabel('Loss')\n",
        "\n",
        "plt.subplot(2, 1, 2)\n",
        "plt.loglog(t, hist['lr'])\n",
        "plt.grid()\n",
        "plt.ylabel('Learning Rate')\n",
        "plt.xlabel('Iteration')\n",
        "\n",
        "plt.tight_layout()"
      ],
      "execution_count": 30,
      "outputs": [
        {
          "output_type": "display_data",
          "data": {
            "image/png": "[encoded data removed]",
            "text/plain": [
              "<Figure size 432x288 with 2 Axes>"
            ]
          },
          "metadata": {
            "tags": [],
            "needs_background": "light"
          }
        }
      ]
    },
    {
      "cell_type": "code",
      "metadata": {
        "id": "6F-SEgqCFi_T"
      },
      "source": [
        ""
      ],
      "execution_count": null,
      "outputs": []
    }
  ]
}