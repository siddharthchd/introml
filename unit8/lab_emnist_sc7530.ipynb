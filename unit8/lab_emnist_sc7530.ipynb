{
  "nbformat": 4,
  "nbformat_minor": 0,
  "metadata": {
    "kernelspec": {
      "display_name": "Python 3",
      "language": "python",
      "name": "python3"
    },
    "language_info": {
      "codemirror_mode": {
        "name": "ipython",
        "version": 3
      },
      "file_extension": ".py",
      "mimetype": "text/x-python",
      "name": "python",
      "nbconvert_exporter": "python",
      "pygments_lexer": "ipython3",
      "version": "3.8.3"
    },
    "colab": {
      "name": "lab_emnist_sc7530.ipynb",
      "provenance": [],
      "toc_visible": true,
      "include_colab_link": true
    },
    "accelerator": "GPU"
  },
  "cells": [
    {
      "cell_type": "markdown",
      "metadata": {
        "id": "view-in-github",
        "colab_type": "text"
      },
      "source": [
        "<a href=\"https://colab.research.google.com/github/siddharthchd/introml/blob/master/unit8/lab_emnist_sc7530.ipynb\" target=\"_parent\"><img src=\"https://colab.research.google.com/assets/colab-badge.svg\" alt=\"Open In Colab\"/></a>"
      ]
    },
    {
      "cell_type": "markdown",
      "metadata": {
        "id": "HvGj8884JyOr"
      },
      "source": [
        "# Lab: SVMs on Extended MNIST\n",
        "\n",
        "In the [MNIST demo](demo_mnist_svm.ipynb), we saw how SVMs can be used for the classic MNIST problem of digit recognition. In this lab, we are going to extend the MNIST dataset by adding a number of non-digit letters and see if the classifier can distinguish the digits from the non-digits. All non-digits will be lumped as a single 11-th class. This is a highly simplified version of 'detection' problem (as opposed to 'classification' problem). Detection is vital in OCR and related problems since the non useful characters must be rejected. \n",
        "\n",
        "In addition to the concepts in the demo, you will learn:\n",
        "* Combine multiple datasets\n",
        "* Select the SVM parameters (`C` and `gamma`) via cross-validation.\n",
        "* Use the `GridSearchCV` method to search for parameters with cross-validation.\n",
        "\n",
        "Note:  An [earlier version](lab_emnist_2017_partial.ipynb) of this lab made you manually create the combined letter and digit data.  In this lab, we will download the data from NIST website.  But, the old lab is still useful to look at if you want to see how to use `skimage` package for a number of image pre-processing tasks."
      ]
    },
    {
      "cell_type": "markdown",
      "metadata": {
        "id": "6hTpgRYVJyOt"
      },
      "source": [
        "As usual, we download the standard packages"
      ]
    },
    {
      "cell_type": "code",
      "metadata": {
        "id": "94Ja14rRJyOt"
      },
      "source": [
        "import numpy as np\n",
        "import matplotlib.pyplot as plt\n",
        "%matplotlib inline\n",
        "from sklearn import linear_model, preprocessing"
      ],
      "execution_count": null,
      "outputs": []
    },
    {
      "cell_type": "markdown",
      "metadata": {
        "id": "MzMp5NHrJyOx"
      },
      "source": [
        "## Downloading the EMNIST Dataset\n",
        "\n",
        "After creating the highly popular MNIST dataset, NIST created an extended version of the dataset to include letters and digits.     The extended datase (called EMNIST) also has many more examples per class.  \n",
        "\n",
        "To download the data, first go to the [EMNIST webpage](https://www.nist.gov/itl/iad/image-group/emnist-dataset).  Near the bottom, you will see a link for `MATLAB format dataset`.  If you click on this link, you will download a `zip` file with several datasets in it.  The total file is 726M, so it may take some time and diskspace to download.  Extract two files:\n",
        "* `emnist-digits.mat`:  This is a file of digits `0` to `9`, but with more examples per class.\n",
        "* `emnist-letters.mat`:  This is a file of letters `a/A` to `z/Z`.  The lower and upper case letters are grouped into the same class.\n",
        "\n",
        "Once you get these two files, you can save yourself the diskspace and remove all the other files.\n",
        "\n",
        "You can download the files manually, or you can run the following commands which will download the files automatically.  "
      ]
    },
    {
      "cell_type": "code",
      "metadata": {
        "id": "m3RTuGInJyOx",
        "outputId": "b906cc12-fb66-44aa-80e4-b33dcedb7066",
        "colab": {
          "base_uri": "https://localhost:8080/"
        }
      },
      "source": [
        "from tqdm import tqdm\n",
        "import requests\n",
        "import os\n",
        "import zipfile\n",
        "\n",
        "def download_file(src_url, dst_fn):\n",
        "    \n",
        "    if os.path.exists(dst_fn):\n",
        "        print('File %s already exists' % dst_fn)\n",
        "        return\n",
        "    \n",
        "    print('Downloading %s' % dst_fn)\n",
        "    \n",
        "    # Streaming, so we can iterate over the response.\n",
        "    r = requests.get(src_url, stream=True)\n",
        "\n",
        "    # Total size in MB.\n",
        "    total_size = int(r.headers.get('content-length', 0)); \n",
        "    block_size = 1024\n",
        "    wrote = 0 \n",
        "    with open(dst_fn, 'wb') as f:\n",
        "        with tqdm(total=total_size//block_size, unit='kB', \n",
        "                           unit_scale=True, unit_divisor=1024) as pbar:\n",
        "            for data in r.iter_content(block_size):\n",
        "                wrote = wrote + len(data)\n",
        "                pbar.update(1)\n",
        "                f.write(data)\n",
        "    if total_size != 0 and wrote != total_size:\n",
        "        print(\"ERROR, something went wrong\") \n",
        "\n",
        "# Get file names\n",
        "matlab_dir = 'matlab'\n",
        "digits_fn =  os.path.join(matlab_dir,'emnist-digits.mat')\n",
        "letters_fn = os.path.join(matlab_dir,'emnist-letters.mat')\n",
        "\n",
        "# Check if files exists\n",
        "if os.path.exists(matlab_dir):\n",
        "    if os.path.exists(digits_fn) and os.path.exists(letters_fn):\n",
        "        print('Files already downloaded')\n",
        "        files_exists = True\n",
        "else:\n",
        "    files_exists = False\n",
        "    \n",
        "if not files_exists:\n",
        "    # First download the zip file if needed\n",
        "    src_url = \"http://www.itl.nist.gov/iaui/vip/cs_links/EMNIST/matlab.zip\"\n",
        "    dst_fn = 'matlab.zip'\n",
        "    download_file(src_url, dst_fn)\n",
        "    \n",
        "    # Then, unzip the file\n",
        "    print('Unzipping %s...' % dst_fn)\n",
        "    zip_ref = zipfile.ZipFile(dst_fn, 'r')\n",
        "    zip_ref.extractall('.')\n",
        "    zip_ref.close()\n",
        "    print('Unzip completed')"
      ],
      "execution_count": null,
      "outputs": [
        {
          "output_type": "stream",
          "text": [
            "Downloading matlab.zip\n"
          ],
          "name": "stdout"
        },
        {
          "output_type": "stream",
          "text": [
            "709kkB [01:44, 6.92kkB/s]                          \n"
          ],
          "name": "stderr"
        },
        {
          "output_type": "stream",
          "text": [
            "Unzipping matlab.zip...\n",
            "Unzip completed\n"
          ],
          "name": "stdout"
        }
      ]
    },
    {
      "cell_type": "markdown",
      "metadata": {
        "id": "dZeNoH5pJyO0"
      },
      "source": [
        "Since MATLAB files are still widely-used, Python has excellent routines for loading MATLAB files.  The function below uses the `scipy.io` package to extract the relevant fields from the MATLAB file.  Specifically, the function extracts the training and test data from MATLAB file. "
      ]
    },
    {
      "cell_type": "code",
      "metadata": {
        "id": "F3MU-tyyJyO0"
      },
      "source": [
        "import scipy.io\n",
        "def load_emnist(file_path='emnist-digits.mat'):\n",
        "    \"\"\"\n",
        "    Loads training and test data with ntr and nts training and test samples\n",
        "    The `file_path` is the location of the `eminst-balanced.mat`.\n",
        "    \"\"\"    \n",
        "    \n",
        "    # Load the MATLAB file\n",
        "    mat = scipy.io.loadmat(file_path)\n",
        "    \n",
        "    # Get the training data\n",
        "    Xtr = mat['dataset'][0][0][0][0][0][0][:]\n",
        "    ntr = Xtr.shape[0]\n",
        "    ytr = mat['dataset'][0][0][0][0][0][1][:].reshape(ntr).astype(int)\n",
        "    \n",
        "    # Get the test data\n",
        "    Xts = mat['dataset'][0][0][1][0][0][0][:]\n",
        "    nts = Xts.shape[0]\n",
        "    yts = mat['dataset'][0][0][1][0][0][1][:].reshape(nts).astype(int)\n",
        "    \n",
        "    print(\"%d training samples, %d test samples loaded\" % (ntr, nts))\n",
        "\n",
        "    return [Xtr, Xts, ytr, yts]"
      ],
      "execution_count": null,
      "outputs": []
    },
    {
      "cell_type": "markdown",
      "metadata": {
        "id": "r802F-PTJyO3"
      },
      "source": [
        "Use the function above to get all the digit images from the `emnist-digits.mat` file.  "
      ]
    },
    {
      "cell_type": "code",
      "metadata": {
        "id": "IY_OGz3ZJyO4",
        "outputId": "1c917446-029b-49ab-ee97-ccab3a53f7de",
        "colab": {
          "base_uri": "https://localhost:8080/"
        }
      },
      "source": [
        "# TODO:  Load the digit data from emnist-digits.mat\n",
        "Xtr_dig, Xts_dig, ytr_dig, yts_dig = load_emnist('matlab/emnist-digits.mat')"
      ],
      "execution_count": null,
      "outputs": [
        {
          "output_type": "stream",
          "text": [
            "240000 training samples, 40000 test samples loaded\n"
          ],
          "name": "stdout"
        }
      ]
    },
    {
      "cell_type": "markdown",
      "metadata": {
        "id": "6G3USvI8JyO8"
      },
      "source": [
        "Next, use the function above to get all the letter characters from the `emnist-letters.mat` file.  "
      ]
    },
    {
      "cell_type": "code",
      "metadata": {
        "id": "iN43dloHJyO8",
        "outputId": "f486d882-2d1e-4360-9318-f63aae378a3f",
        "colab": {
          "base_uri": "https://localhost:8080/"
        }
      },
      "source": [
        "# TODO:  Load the digit data from emnist-letters.mat\n",
        "Xtr_let, Xts_let, ytr_let, yts_let = load_emnist('matlab/emnist-letters.mat')"
      ],
      "execution_count": null,
      "outputs": [
        {
          "output_type": "stream",
          "text": [
            "124800 training samples, 20800 test samples loaded\n"
          ],
          "name": "stdout"
        }
      ]
    },
    {
      "cell_type": "markdown",
      "metadata": {
        "id": "H_RBibPlJyO_"
      },
      "source": [
        "We will use the function from the demo to plot the digits."
      ]
    },
    {
      "cell_type": "code",
      "metadata": {
        "id": "ntsWkYkRJyO_"
      },
      "source": [
        "def plt_digit(x,y=None):\n",
        "    nrow = 28\n",
        "    ncol = 28\n",
        "    xsq = x.reshape((nrow,ncol))\n",
        "    plt.imshow(xsq.T,  cmap='Greys_r')\n",
        "    plt.xticks([])\n",
        "    plt.yticks([])    \n",
        "    if y != None:\n",
        "        plt.title('%d' % y)        "
      ],
      "execution_count": null,
      "outputs": []
    },
    {
      "cell_type": "markdown",
      "metadata": {
        "id": "VITTRu3xJyPB"
      },
      "source": [
        "Plot 8 random samples from the digit training data.  You can use the `plt_digit` function above with `subplot` to create a nice display.  You may want to size your plot with the `plt.figure(figsize=(10,20))` command."
      ]
    },
    {
      "cell_type": "code",
      "metadata": {
        "id": "oONBdaUtJyPC",
        "outputId": "f071a8bb-e2d7-4500-da33-3b0f58751f43",
        "colab": {
          "base_uri": "https://localhost:8080/",
          "height": 320
        }
      },
      "source": [
        "# TODO: Plot 8 random samples from the training data of the digits\n",
        "nplt = 8\n",
        "ntr_dig = Xtr_dig.shape[0]\n",
        "ind = np.random.choice(ntr_dig, nplt)\n",
        "\n",
        "plt.figure(figsize=(10, 5))\n",
        "for i, x in enumerate(ind):\n",
        "    plt.subplot(2, 4, i+1)\n",
        "    plt_digit(Xtr_dig[x], ytr_dig[x])\n",
        "plt.show()"
      ],
      "execution_count": null,
      "outputs": [
        {
          "output_type": "display_data",
          "data": {
            "image/png": "[encoded data removed]",
            "text/plain": [
              "<Figure size 720x360 with 8 Axes>"
            ]
          },
          "metadata": {
            "tags": []
          }
        }
      ]
    },
    {
      "cell_type": "markdown",
      "metadata": {
        "id": "5wU9Z1eqJyPE"
      },
      "source": [
        "Next, plot 8 samples from the letters training data.  You should see that the labels go from 0 to 25 corresponding to `a` to `z`.  Upper and lower case letters belong to the same class."
      ]
    },
    {
      "cell_type": "code",
      "metadata": {
        "id": "xfCJsCWAJyPF",
        "outputId": "6bee47d7-2ded-4010-8b9d-ac0f812a15b5",
        "colab": {
          "base_uri": "https://localhost:8080/",
          "height": 320
        }
      },
      "source": [
        "# TODO:  Plot 8 random samples from the training data of the letters\n",
        "ntr_let = Xtr_let.shape[0]\n",
        "ind = np.random.choice(ntr_let, nplt)\n",
        "\n",
        "plt.figure(figsize=(10, 5))\n",
        "for i, x in enumerate(ind):\n",
        "    plt.subplot(2, 4, i+1)\n",
        "    plt_digit(Xtr_let[x], ytr_let[x])\n",
        "plt.show()"
      ],
      "execution_count": null,
      "outputs": [
        {
          "output_type": "display_data",
          "data": {
            "image/png": "[encoded data removed]",
            "text/plain": [
              "<Figure size 720x360 with 8 Axes>"
            ]
          },
          "metadata": {
            "tags": []
          }
        }
      ]
    },
    {
      "cell_type": "markdown",
      "metadata": {
        "id": "aMQ427IJJyPH"
      },
      "source": [
        "## Creating a Non-Digit Class\n",
        "\n",
        "SVM classifiers are VERY SLOW to train.  The training is particularly slow when there are a large number of classes, since the one classifier must be trained for each pair of labels.  To make the problem easier, we are going to lump all of the letters in one class and add that class to the digits.  \n",
        "\n",
        "Before we begin, we first need to remove all the letters corresponding to `i/I`, `l/L` and `o/O`.  The reason is that these letters would get confused with the digits `0` and `1`.  Create arrays `Xtr_let_rem` and `ytr_let_rem` from the data `Xtr_let` and `ytr_let`, where the samples `i` with `ytr_let[i] == 9, 12` or `15` are removed.   Create `Xts_let_rem` and `yts_let_rem` similarly.\n",
        "\n",
        "If you are clever, you can do this without a for-loop via python broadcasting and `np.all(..., axis=1)` command.  But, you will receive full marks if you use a `for-loop`."
      ]
    },
    {
      "cell_type": "code",
      "metadata": {
        "id": "rMbOt2YrJyPH"
      },
      "source": [
        "remove_list = np.array([9,12,15])\n",
        "\n",
        "# TODO:  Create arrays with labels 9, 12 and 15 removed\n",
        "idxtr = np.all((ytr_let != remove_list[0], ytr_let != remove_list[1], ytr_let != remove_list[2]))\n",
        "idxts = np.all((yts_let != remove_list[0], yts_let != remove_list[1], yts_let != remove_list[2]))\n",
        "\n",
        "Xtr_let_rem, ytr_let_rem = Xtr_let[idxtr], ytr_let[idxtr]\n",
        "Xts_let_rem, yts_let_rem = Xts_let[idxts], yts_let[idxts]"
      ],
      "execution_count": null,
      "outputs": []
    },
    {
      "cell_type": "markdown",
      "metadata": {
        "id": "0dfcdo3eJyPK"
      },
      "source": [
        "Since training and testing an SVM is VERY SLOW, we will use only a small subset of the training and test data.  Of course, you will not get great results with this small dataset.  But, we can at least illustrate the basic concepts.  \n",
        "\n",
        "Create arrays `Xtr1_dig` and `ytr1_dig` by selecting 5000 random training digit samples from `Xtr_dig` and `ytr_dig`.  Create arrays `Xtr1_let` and `ytr1_let` by selecting 1000 random training letter samples from `Xtr_let_rem` and `ytr_let_rem`.  Similarly, create test arrays `Xts1_dig,Xts1_let,yts1_dig,yts1_let` with 5000 digits and 1000 letters."
      ]
    },
    {
      "cell_type": "code",
      "metadata": {
        "id": "OZMCSBvJJyPL"
      },
      "source": [
        "# Number of training and test digits and letters\n",
        "ntr_dig = 5000\n",
        "ntr_let = 1000\n",
        "nts_dig = 5000\n",
        "nts_let = 1000\n",
        "\n",
        "Iperm_tr_dig = np.random.permutation(Xtr_dig.shape[0])\n",
        "Iperm_ts_dig = np.random.permutation(Xts_dig.shape[0])\n",
        "Iperm_tr_let = np.random.permutation(Xtr_let.shape[0])\n",
        "Iperm_ts_let = np.random.permutation(Xts_let.shape[0])\n",
        "\n",
        "# TODO Create sub-sampled training and test data\n",
        "Xtr1_dig, ytr1_dig = Xtr_dig[Iperm_tr_dig[:ntr_dig], :], ytr_dig[Iperm_tr_dig[:ntr_dig]]\n",
        "Xts1_dig, yts1_dig = Xts_dig[Iperm_ts_dig[:nts_dig], :], yts_dig[Iperm_ts_dig[:nts_dig]]\n",
        "Xtr1_let, ytr1_let = Xtr_let[Iperm_tr_let[:ntr_let], :], ytr_let[Iperm_tr_let[:ntr_let]]\n",
        "Xts1_let, yts1_let = Xts_let[Iperm_ts_let[:nts_let], :], yts_let[Iperm_ts_let[:nts_let]]"
      ],
      "execution_count": null,
      "outputs": []
    },
    {
      "cell_type": "markdown",
      "metadata": {
        "id": "MFw8zIgYJyPN"
      },
      "source": [
        "Next, we create data by combining the digit and letter arrays.\n",
        "* Create an array `Xtr` by stacking `Xtr1_dig`, `Xtr1_let`.  This should result in 6000 total samples.\n",
        "* Create a new label vector `ytr` where `ytr[i] = ytr1_dig[i]` for any digit sample and `ytr[i]=10` for any letter sample.  Thus, all the letters are lumped into a single class with label 11.\n",
        "\n",
        "Create test arrays `Xts` and `yts` similarly. \n",
        "\n",
        "You may wish to use the `np.hstack` and `np.vstack` methods."
      ]
    },
    {
      "cell_type": "code",
      "metadata": {
        "id": "eHAxixPXJyPN"
      },
      "source": [
        "# TODO:  Create combined letter and digit training and test data\n",
        "Xtr, ytr = np.vstack((Xtr1_dig, Xtr1_let)), np.hstack((ytr1_dig, np.repeat(10, ytr1_let.shape[0])))\n",
        "Xts, yts = np.vstack((Xts1_dig, Xts1_let)), np.hstack((yts1_dig, np.repeat(10, yts1_let.shape[0])))"
      ],
      "execution_count": null,
      "outputs": []
    },
    {
      "cell_type": "markdown",
      "metadata": {
        "id": "Tf4YCImCJyPP"
      },
      "source": [
        "The training data above takes values from 0 to 255.  Rescale the data from -1 to 1.  This will get slightly better performance on the SVM.  Save the scaled data into arrays `Xtr1` and `Xts1`."
      ]
    },
    {
      "cell_type": "code",
      "metadata": {
        "id": "IVt5kyWGJyPQ"
      },
      "source": [
        "# TODO:  Rescale the data from -1 to 1\n",
        "Xtr1 = 2 *(Xtr / 255 - 0.5)\n",
        "Xts1 = 2 *(Xts / 255 - 0.5)"
      ],
      "execution_count": null,
      "outputs": []
    },
    {
      "cell_type": "markdown",
      "metadata": {
        "id": "B5xf_4dLJyPS"
      },
      "source": [
        "## Run the SVM classifier\n",
        "\n",
        "First create the SVM classifer. Use an `rbf` classifier with `C=2.8` and `gamma=.0073`. We will look at how to select these parameters laters."
      ]
    },
    {
      "cell_type": "code",
      "metadata": {
        "id": "W40CPBCfJyPS"
      },
      "source": [
        "from sklearn import svm\n",
        "\n",
        "# TODO:  Create a classifier: a support vector classifier\n",
        "svc = svm.SVC(C = 2.8, gamma = .0073)"
      ],
      "execution_count": null,
      "outputs": []
    },
    {
      "cell_type": "markdown",
      "metadata": {
        "id": "hHB0Dw-QJyPU"
      },
      "source": [
        "Fit the classifier using the scaled training data.  SVMs are insanely slow to train.  But, in this lab, we have kept the training size very small. So, the fitting should take about a minute or two."
      ]
    },
    {
      "cell_type": "code",
      "metadata": {
        "id": "6wVu-WXqJyPV",
        "outputId": "12f814cb-de0b-4d08-e2cf-2c45a8e3ac8c",
        "colab": {
          "base_uri": "https://localhost:8080/"
        }
      },
      "source": [
        "# TODO:  Fit the classifier on the training data. \n",
        "svc.fit(Xtr1, ytr)"
      ],
      "execution_count": null,
      "outputs": [
        {
          "output_type": "execute_result",
          "data": {
            "text/plain": [
              "SVC(C=2.8, break_ties=False, cache_size=200, class_weight=None, coef0=0.0,\n",
              "    decision_function_shape='ovr', degree=3, gamma=0.0073, kernel='rbf',\n",
              "    max_iter=-1, probability=False, random_state=None, shrinking=True,\n",
              "    tol=0.001, verbose=False)"
            ]
          },
          "metadata": {
            "tags": []
          },
          "execution_count": 14
        }
      ]
    },
    {
      "cell_type": "markdown",
      "metadata": {
        "id": "PFG3mLUOJyPX"
      },
      "source": [
        "Measure the accuracy on the test data.  This too will take another huge amount of time.  Print the accuracy.  If you did everything right, you should get an accuracy of around 89%."
      ]
    },
    {
      "cell_type": "code",
      "metadata": {
        "id": "DItyWzL0JyPX",
        "outputId": "101c2c0a-6c12-4d76-c1c5-cf5c9f5673ae",
        "colab": {
          "base_uri": "https://localhost:8080/"
        }
      },
      "source": [
        "# TODO:  Measure error on the test data\n",
        "yhat = svc.predict(Xts1)\n",
        "acc = np.mean(yhat == yts)\n",
        "print('Accuracy : {}'.format(acc))"
      ],
      "execution_count": null,
      "outputs": [
        {
          "output_type": "stream",
          "text": [
            "Accuracy : 0.9005\n"
          ],
          "name": "stdout"
        }
      ]
    },
    {
      "cell_type": "markdown",
      "metadata": {
        "id": "gOyClNXfJyPZ"
      },
      "source": [
        "The error rate is quite a bit higher than what we got in the digits only case.  Actually, had we done a classifier using all 36 labels instead of collapsing the letters to a single class, the SVM classifier would have done much better.  The reason is that the \"letters\" class is now extremely complex.  \n",
        "\n",
        "Print a confusion matrix.  You should see that the error rate on the \"letters\" class is much higher."
      ]
    },
    {
      "cell_type": "code",
      "metadata": {
        "id": "CX6sVFNmJyPa",
        "outputId": "08208740-14e7-4134-d1da-170342fc42a3",
        "colab": {
          "base_uri": "https://localhost:8080/",
          "height": 656
        }
      },
      "source": [
        "# TODO:  Print a confusion matrix\n",
        "from sklearn.metrics import confusion_matrix\n",
        "\n",
        "C = confusion_matrix(yts, yhat)\n",
        "print(C)\n",
        "Csum = np.sum(C,1)\n",
        "C = C / Csum[None,:]\n",
        "\n",
        "print(np.array_str(C, precision=3, suppress_small=True))\n",
        "plt.imshow(C, interpolation='none')\n",
        "plt.colorbar()"
      ],
      "execution_count": null,
      "outputs": [
        {
          "output_type": "stream",
          "text": [
            "[[492   0   0   0   0   0   0   0   1   0  35]\n",
            " [  0 509   0   1   1   0   0   0   1   1   9]\n",
            " [  0   1 431   2   2   0   1   2   1   0  45]\n",
            " [  0   0   2 469   0   1   0   1   4   0  14]\n",
            " [  0   0   0   0 444   0   0   0   0   3  41]\n",
            " [  0   0   0   9   0 449   1   1   0   0  41]\n",
            " [  0   2   0   0   1   2 461   0   0   0  23]\n",
            " [  0   1   0   0   0   0   0 490   1   7  13]\n",
            " [  1   1   1   1   0   2   0   0 427   2  57]\n",
            " [  0   1   0   1   3   1   0   7   2 462  15]\n",
            " [ 41  59  20  18  22  24  17   5   5  20 769]]\n",
            "[[0.932 0.    0.    0.    0.    0.    0.    0.    0.002 0.    0.035]\n",
            " [0.    0.975 0.    0.002 0.002 0.    0.    0.    0.002 0.002 0.009]\n",
            " [0.    0.002 0.889 0.004 0.004 0.    0.002 0.004 0.002 0.    0.045]\n",
            " [0.    0.    0.004 0.955 0.    0.002 0.    0.002 0.008 0.    0.014]\n",
            " [0.    0.    0.    0.    0.91  0.    0.    0.    0.    0.006 0.041]\n",
            " [0.    0.    0.    0.018 0.    0.896 0.002 0.002 0.    0.    0.041]\n",
            " [0.    0.004 0.    0.    0.002 0.004 0.943 0.    0.    0.    0.023]\n",
            " [0.    0.002 0.    0.    0.    0.    0.    0.957 0.002 0.014 0.013]\n",
            " [0.002 0.002 0.002 0.002 0.    0.004 0.    0.    0.868 0.004 0.057]\n",
            " [0.    0.002 0.    0.002 0.006 0.002 0.    0.014 0.004 0.939 0.015]\n",
            " [0.078 0.113 0.041 0.037 0.045 0.048 0.035 0.01  0.01  0.041 0.769]]\n"
          ],
          "name": "stdout"
        },
        {
          "output_type": "execute_result",
          "data": {
            "text/plain": [
              "<matplotlib.colorbar.Colorbar at 0x7f465fb41b70>"
            ]
          },
          "metadata": {
            "tags": []
          },
          "execution_count": 16
        },
        {
          "output_type": "display_data",
          "data": {
            "image/png": "[encoded data removed]",
            "text/plain": [
              "<Figure size 432x288 with 2 Axes>"
            ]
          },
          "metadata": {
            "tags": [],
            "needs_background": "light"
          }
        }
      ]
    },
    {
      "cell_type": "markdown",
      "metadata": {
        "id": "ACs5ERpQJyPc"
      },
      "source": [
        "Print:\n",
        "* What fraction of digits are mislabeled as letters?  \n",
        "* What fraction of letters are mislabeled as digits?"
      ]
    },
    {
      "cell_type": "code",
      "metadata": {
        "id": "-_s0QvRqJyPc",
        "outputId": "482f6e8d-d750-40ca-bacb-ecf61e3f34e9",
        "colab": {
          "base_uri": "https://localhost:8080/"
        }
      },
      "source": [
        "# TODO:  Print above two error rates\n",
        "print('Fraction of digits mislabeled as letters : {}'.format(np.sum(C[:9, -1])))\n",
        "print('Fraction of digits mislabeled as digits : {}'.format(np.sum(C[-1, :9])))"
      ],
      "execution_count": null,
      "outputs": [
        {
          "output_type": "stream",
          "text": [
            "Fraction of digits mislabeled as letters : 0.278\n",
            "Fraction of digits mislabeled as digits : 0.4162545379091226\n"
          ],
          "name": "stdout"
        }
      ]
    },
    {
      "cell_type": "markdown",
      "metadata": {
        "id": "VMy08dCcJyPe"
      },
      "source": [
        "## Selecting gamma and C via Cross-Validation (Using For-Loops)\n",
        "\n",
        "In the above example, and in the demo, we used a given `gamma` and `C` value.  The selection of the parameters depend on the problem and decent performance of the SVM requires that you select these parameters carefully.  The best way to select the parameters is via cross validation.  Specifically, generally, one tries different values of `gamma` and `C` and selects the pair of values the lowest test error rate.\n",
        "\n",
        "In the code below, we will try to use 3 values for `C` and `gamma` as specified in the arrays `C_test` and `gam_test`.  For each `C` and `gamma` in these arrays, fit a model on the training data and measure the accuracy on the test data.  Then, print the `C` and `gamma` that result in the best accuracy.   \n",
        "\n",
        "Normally, you would try a large number of values for each of the parameters, but an SVM is very slow to train -- even with this small data set.  So, we will just do 3 values of each.  Even then, this could take 30 minutes or so to complete. \n",
        "\n",
        "In this lab, you may do the parameter search over `C` and `gamma` in one of two ways:\n",
        "* This section:  Use for loops and manually search over the parameters.  This is more direct and you will see and control exactly what is happening.\n",
        "* Next section:  Use the `GridSearchCV` method in the `sklearn` package.  This takes a little reading, but once you learn this method, you can more easily use this for complex parameter searches.\n",
        "\n",
        "**You only need to submit the solutions to one of the two sections.**  Pick whichever one you want."
      ]
    },
    {
      "cell_type": "code",
      "metadata": {
        "id": "SIL5n9sfJyPe",
        "outputId": "9c0ade1a-8415-46b1-af61-76c4d2091341",
        "colab": {
          "base_uri": "https://localhost:8080/"
        }
      },
      "source": [
        "C_test = [0.1,1,10]\n",
        "gam_test = [0.001,0.01,0.1]\n",
        "\n",
        "nC = len(C_test)\n",
        "ngam = len(gam_test)\n",
        "acc = np.zeros((nC,ngam))\n",
        "\n",
        "# TODO:  Measure and print the accuracy for each C and gamma value.  Store the results in acc\n",
        "for indc, c in enumerate(C_test):\n",
        "    for indg, g in enumerate(gam_test):\n",
        "        \n",
        "        print('C = {},     G = {}'.format(c, g))\n",
        "    \n",
        "        svc = svm.SVC(C = c, gamma = g)\n",
        "        svc.fit(Xtr1, ytr)\n",
        "        yhat = svc.predict(Xts1)\n",
        "        acc[indc, indg] = np.mean(yhat == yts)    "
      ],
      "execution_count": null,
      "outputs": [
        {
          "output_type": "stream",
          "text": [
            "C = 0.1,     G = 0.001\n",
            "C = 0.1,     G = 0.01\n",
            "C = 0.1,     G = 0.1\n",
            "C = 1,     G = 0.001\n",
            "C = 1,     G = 0.01\n",
            "C = 1,     G = 0.1\n",
            "C = 10,     G = 0.001\n",
            "C = 10,     G = 0.01\n",
            "C = 10,     G = 0.1\n"
          ],
          "name": "stdout"
        }
      ]
    },
    {
      "cell_type": "code",
      "metadata": {
        "id": "x7cuvns3JyPh",
        "outputId": "6c91c254-e350-4989-f220-22904f6e83f6",
        "colab": {
          "base_uri": "https://localhost:8080/"
        }
      },
      "source": [
        "# TODO:  Print the accuracy matrix\n",
        "acc"
      ],
      "execution_count": null,
      "outputs": [
        {
          "output_type": "execute_result",
          "data": {
            "text/plain": [
              "array([[0.7685    , 0.58266667, 0.16666667],\n",
              "       [0.85733333, 0.88533333, 0.21383333],\n",
              "       [0.88483333, 0.884     , 0.21766667]])"
            ]
          },
          "metadata": {
            "tags": []
          },
          "execution_count": 19
        }
      ]
    },
    {
      "cell_type": "code",
      "metadata": {
        "id": "O8nfuRB5JyPk",
        "outputId": "6ceeb9f1-e2b1-4e75-b4da-3fd971fc7dfd",
        "colab": {
          "base_uri": "https://localhost:8080/"
        }
      },
      "source": [
        "# TODO:  Print the maximum accuracy and the corresponding best C and gamma\n",
        "acc_max = np.max(acc)\n",
        "imax = np.argmax(acc)\n",
        "c_max = C_test[imax // nC]\n",
        "g_max = gam_test[imax % nC]\n",
        "print('Best Accuracy : {}'.format(acc_max))\n",
        "print('Best C : {}'.format(c_max))\n",
        "print('Best Gamma : {}'.format(g_max))"
      ],
      "execution_count": null,
      "outputs": [
        {
          "output_type": "stream",
          "text": [
            "Best Accuracy : 0.8853333333333333\n",
            "Best C : 1\n",
            "Best Gamma : 0.01\n"
          ],
          "name": "stdout"
        }
      ]
    },
    {
      "cell_type": "markdown",
      "metadata": {
        "collapsed": true,
        "id": "ff4bW_C9JyPm"
      },
      "source": [
        "## Using `GridSearchCV` (Optional Section)\n",
        "\n",
        "\n",
        "In the previous section, you would have likely used `for-loops` to search over the different `C` and `gamma` values.  Since this type of parameter search is so commonly used, `sklearn` has an excellent method `GridSearchCV` that can perform all the operations for you.  In this lab, `GridSearchCV` is not that useful.  But, once you get to more complex parameter searches, the `GridSearchCV` method can save you writing a lot of code.  Importantly, `GridSearchCV` supports parallelization so that fits with different parameters can be fit at the same time.  In this optional section, we will show how to use this method.  \n",
        "\n",
        "**You do not have to do this section, if you did the previous section**.  "
      ]
    },
    {
      "cell_type": "markdown",
      "metadata": {
        "id": "GiTwc_cdJyPn"
      },
      "source": [
        "The `GridSearchCV` method does the train-test split in addition to the parameter search.  In this case, you have already a fixed train-test split.  So, you first need to combine the train and test data back into a single dataset.\n",
        "\n",
        "Create arrays `X` and `y` from `Xtr1`, `Xts1`, `ytr` and `yts`.  Use `np.vstack` and `np.hstack`."
      ]
    },
    {
      "cell_type": "code",
      "metadata": {
        "id": "brNqcDKuJyPn"
      },
      "source": [
        "# TODO:  Create combined trained and test data X and y.\n",
        "# X = ...\n",
        "# y = ..."
      ],
      "execution_count": null,
      "outputs": []
    },
    {
      "cell_type": "markdown",
      "metadata": {
        "id": "Hw9M1_PRJyPq"
      },
      "source": [
        "Normally, `GridSearchCV` will do $K$-fold validation and automatically split the data into training and test in each fold.  But, in this case, we want it to perform only one fold with a specific train-test split.  To do this, we need to do the following:\n",
        "* Create a vector `test_fold` where `test_fold[i] = -1` for the samples `i` in the training data (this indicates that they should not be used as test data in any fold) and `test_fold[i] = 0` for the samples `i` in the test data (this indicates that they should be as test data in fold 0).\n",
        "* Call the method  `ps = sklearn.model_selection.PredefinedSplit(test_fold)` to create a predefined test split object."
      ]
    },
    {
      "cell_type": "code",
      "metadata": {
        "id": "YhNF736MJyPq"
      },
      "source": [
        "# TODO:  Create a pre-defined test split object \n",
        "# import sklearn.model_selection\n",
        "# test_fold = ...\n",
        "# ps = sklearn.model_selection.PredefinedSplit(test_fold)"
      ],
      "execution_count": null,
      "outputs": []
    },
    {
      "cell_type": "markdown",
      "metadata": {
        "id": "tSrcB5ZsJyPs"
      },
      "source": [
        "Next, read about the `GridSearchCV` method to set up a classifier that includes searching over the parameter grid.  \n",
        "* For the `param_grid` parameter, you will want to create a dictionary to search over `C` and `gamma`.  You will also need to select the `kernel` parameter.\n",
        "* Set `cv = ps` to use the fixed train-test split.\n",
        "* Set `verbose=10` to monitor the progress"
      ]
    },
    {
      "cell_type": "code",
      "metadata": {
        "id": "sckNtSMMJyPs"
      },
      "source": [
        "# TODO:  Create a GridSearchCV classifier\n",
        "# clf = ..."
      ],
      "execution_count": null,
      "outputs": []
    },
    {
      "cell_type": "markdown",
      "metadata": {
        "id": "6cidQ8K2JyPu"
      },
      "source": [
        "Fit the classifier using the `fit` method.  The fit method will now search over all the parameters. This will take about 30 minutes."
      ]
    },
    {
      "cell_type": "code",
      "metadata": {
        "id": "VuG9zzqcJyPu"
      },
      "source": [
        "# TODO: Fit the classifier"
      ],
      "execution_count": null,
      "outputs": []
    },
    {
      "cell_type": "markdown",
      "metadata": {
        "id": "BLQ_pdd9JyPw"
      },
      "source": [
        "Print the `best_score_` and `best_params_` attributes of the classifier to find the best score and parameters"
      ]
    },
    {
      "cell_type": "code",
      "metadata": {
        "id": "CmDIQrOIJyPx"
      },
      "source": [
        "# TODO:  Print the best parameter and score of the classifier"
      ],
      "execution_count": null,
      "outputs": []
    },
    {
      "cell_type": "markdown",
      "metadata": {
        "id": "DcSOAqO6JyPz"
      },
      "source": [
        "Finally, you can print the test and train score from the `cv_results_['mean_test_score']` and `cv_results_['mean_train_score']`."
      ]
    },
    {
      "cell_type": "code",
      "metadata": {
        "id": "NJ3Xnu6oJyPz"
      },
      "source": [
        "# TODO:  Print the mean test score for each parameter value."
      ],
      "execution_count": null,
      "outputs": []
    },
    {
      "cell_type": "code",
      "metadata": {
        "id": "ytKGn1OYJyP1"
      },
      "source": [
        ""
      ],
      "execution_count": null,
      "outputs": []
    }
  ]
}