{
  "nbformat": 4,
  "nbformat_minor": 0,
  "metadata": {
    "colab": {
      "name": "mnist_svm_demo.ipynb",
      "provenance": [],
      "authorship_tag": "ABX9TyPZoJrkBYegThHtzcGSP/kh",
      "include_colab_link": true
    },
    "kernelspec": {
      "name": "python3",
      "display_name": "Python 3"
    }
  },
  "cells": [
    {
      "cell_type": "markdown",
      "metadata": {
        "id": "view-in-github",
        "colab_type": "text"
      },
      "source": [
        "<a href=\"https://colab.research.google.com/github/siddharthchd/introml/blob/master/unit8/mnist_svm_demo.ipynb\" target=\"_parent\"><img src=\"https://colab.research.google.com/assets/colab-badge.svg\" alt=\"Open In Colab\"/></a>"
      ]
    },
    {
      "cell_type": "code",
      "metadata": {
        "id": "khoE1NhDQrDE"
      },
      "source": [
        "import numpy as np\n",
        "import matplotlib\n",
        "import matplotlib.pyplot as plt\n",
        "import tensorflow as tf"
      ],
      "execution_count": 2,
      "outputs": []
    },
    {
      "cell_type": "code",
      "metadata": {
        "id": "VSIfX3PDQ1OI",
        "outputId": "e34fc605-320b-4231-f60c-c16574e99f8e",
        "colab": {
          "base_uri": "https://localhost:8080/"
        }
      },
      "source": [
        "(Xtr, ytr), (Xts, yts) = tf.keras.datasets.mnist.load_data()\n",
        "\n",
        "print('Xtr.shape : {}'.format(Xtr.shape))\n",
        "print('Xts.shape : {}'.format(Xts.shape))\n",
        "\n",
        "ntr = Xtr.shape[0]\n",
        "nts = Xts.shape[0]\n",
        "nrow = Xtr.shape[1]\n",
        "ncol = Xts.shape[2]"
      ],
      "execution_count": 3,
      "outputs": [
        {
          "output_type": "stream",
          "text": [
            "Downloading data from https://storage.googleapis.com/tensorflow/tf-keras-datasets/mnist.npz\n",
            "11493376/11490434 [==============================] - 0s 0us/step\n",
            "Xtr.shape : (60000, 28, 28)\n",
            "Xts.shape : (10000, 28, 28)\n"
          ],
          "name": "stdout"
        }
      ]
    },
    {
      "cell_type": "code",
      "metadata": {
        "id": "T-PhYGOtRLof"
      },
      "source": [
        "npix = nrow * ncol\n",
        "Xtr = 2 * (Xtr / 255 - 0.5)\n",
        "Xtr = Xtr.reshape((ntr, npix))\n",
        "\n",
        "Xts = 2 * (Xts / 255 - 0.5)\n",
        "Xts = Xts.reshape((nts, npix))"
      ],
      "execution_count": 4,
      "outputs": []
    },
    {
      "cell_type": "code",
      "metadata": {
        "id": "c5gB6MyYRav_",
        "outputId": "c6db5512-1af8-49d1-c2de-5f3823523927",
        "colab": {
          "base_uri": "https://localhost:8080/",
          "height": 94
        }
      },
      "source": [
        "def plt_digit(ax, x):\n",
        "    \n",
        "    nrow = 28\n",
        "    ncol = 28\n",
        "    xsq = x.reshape((nrow, ncol))\n",
        "    ax.imshow(xsq, cmap = 'Greys_r')\n",
        "    ax.set_xticks([])\n",
        "    ax.set_yticks([])\n",
        "\n",
        "# Select random digits\n",
        "nplt = 8\n",
        "Iperm = np.random.permutation(ntr)\n",
        "\n",
        "# Plot the images using the subplot command\n",
        "fig, ax = plt.subplots(1, nplt, figsize = (10, 3))\n",
        "for i in range(nplt):\n",
        "\n",
        "    ind = Iperm[i]\n",
        "    plt_digit(ax[i], Xtr[ind, :])"
      ],
      "execution_count": 6,
      "outputs": [
        {
          "output_type": "display_data",
          "data": {
            "image/png": "[encoded data removed]",
            "text/plain": [
              "<Figure size 720x216 with 8 Axes>"
            ]
          },
          "metadata": {
            "tags": []
          }
        }
      ]
    },
    {
      "cell_type": "markdown",
      "metadata": {
        "id": "iukaYi6vR7dv"
      },
      "source": [
        "### Trying a Logistic Regression Classifier"
      ]
    },
    {
      "cell_type": "code",
      "metadata": {
        "id": "u47qMg8mSChI"
      },
      "source": [
        "ntr1 = 5000\n",
        "Xtr1 = Xtr[Iperm[: ntr1], :]\n",
        "ytr1 = ytr[Iperm[: ntr1]]"
      ],
      "execution_count": 7,
      "outputs": []
    },
    {
      "cell_type": "code",
      "metadata": {
        "id": "0OQYGWkLSLsY",
        "outputId": "4c82ec43-8683-4420-d81a-82f477c6e735",
        "colab": {
          "base_uri": "https://localhost:8080/"
        }
      },
      "source": [
        "from sklearn import linear_model\n",
        "\n",
        "logreg = linear_model.LogisticRegression(verbose = 10, solver = 'lbfgs', max_iter = 500)\n",
        "logreg.fit(Xtr1, ytr1)"
      ],
      "execution_count": 8,
      "outputs": [
        {
          "output_type": "stream",
          "text": [
            "[Parallel(n_jobs=1)]: Using backend SequentialBackend with 1 concurrent workers.\n",
            "/usr/local/lib/python3.6/dist-packages/sklearn/linear_model/_logistic.py:940: ConvergenceWarning: lbfgs failed to converge (status=1):\n",
            "STOP: TOTAL NO. of ITERATIONS REACHED LIMIT.\n",
            "\n",
            "Increase the number of iterations (max_iter) or scale the data as shown in:\n",
            "    https://scikit-learn.org/stable/modules/preprocessing.html\n",
            "Please also refer to the documentation for alternative solver options:\n",
            "    https://scikit-learn.org/stable/modules/linear_model.html#logistic-regression\n",
            "  extra_warning_msg=_LOGISTIC_SOLVER_CONVERGENCE_MSG)\n",
            "[Parallel(n_jobs=1)]: Done   1 out of   1 | elapsed:  1.3min remaining:    0.0s\n",
            "[Parallel(n_jobs=1)]: Done   1 out of   1 | elapsed:  1.3min finished\n"
          ],
          "name": "stderr"
        },
        {
          "output_type": "execute_result",
          "data": {
            "text/plain": [
              "LogisticRegression(C=1.0, class_weight=None, dual=False, fit_intercept=True,\n",
              "                   intercept_scaling=1, l1_ratio=None, max_iter=500,\n",
              "                   multi_class='auto', n_jobs=None, penalty='l2',\n",
              "                   random_state=None, solver='lbfgs', tol=0.0001, verbose=10,\n",
              "                   warm_start=False)"
            ]
          },
          "metadata": {
            "tags": []
          },
          "execution_count": 8
        }
      ]
    },
    {
      "cell_type": "code",
      "metadata": {
        "id": "fBqjXf0xSVZw"
      },
      "source": [
        "import pickle\n",
        "\n",
        "with open(\"mnist_logreg.p\", \"wb\") as fp:\n",
        "    pickle.dump([logreg, Xtr1, ytr1, Iperm], fp)"
      ],
      "execution_count": 10,
      "outputs": []
    },
    {
      "cell_type": "code",
      "metadata": {
        "id": "_I8qyn8cS0Zx"
      },
      "source": [
        "with open(\"mnist_logreg.p\", \"rb\") as fp:\n",
        "    logreg, Xtr1, ytr1, Iperm = pickle.load(fp)"
      ],
      "execution_count": 12,
      "outputs": []
    },
    {
      "cell_type": "code",
      "metadata": {
        "id": "2CFMluBpSg9q",
        "outputId": "686b6de5-ff6a-45cd-a148-a4c05beab9f0",
        "colab": {
          "base_uri": "https://localhost:8080/"
        }
      },
      "source": [
        "nts1 = 5000\n",
        "Iperm_ts = np.random.permutation(nts)\n",
        "Xts1 = Xts[Iperm_ts[:nts1], :]\n",
        "yts1 = yts[Iperm_ts[:nts1]]\n",
        "yhat = logreg.predict(Xts1)\n",
        "acc = np.mean(yhat == yts1)\n",
        "print('Accuracy = {0:f}'.format(acc))"
      ],
      "execution_count": 14,
      "outputs": [
        {
          "output_type": "stream",
          "text": [
            "Accuracy = 0.891600\n"
          ],
          "name": "stdout"
        }
      ]
    },
    {
      "cell_type": "code",
      "metadata": {
        "id": "dO5F4be0THxH",
        "outputId": "a3c8c5bb-ec41-4a70-adb1-e788333f8bd5",
        "colab": {
          "base_uri": "https://localhost:8080/",
          "height": 172
        }
      },
      "source": [
        "nplt = 4\n",
        "Ierr = np.where(yts1 != yhat)[0]\n",
        "\n",
        "fig, ax = plt.subplots(1, nplt, figsize = (10, 4))\n",
        "for i in range(nplt):\n",
        "\n",
        "    ind = Ierr[i]\n",
        "    plt_digit(ax[i], Xts1[ind, :])\n",
        "    title = 'true = {0:d} est = {1:d}'.format(yts1[ind].astype(int), yhat[ind].astype(int))\n",
        "    ax[i].set_title(title)"
      ],
      "execution_count": 15,
      "outputs": [
        {
          "output_type": "display_data",
          "data": {
            "image/png": "[encoded data removed]",
            "text/plain": [
              "<Figure size 720x288 with 4 Axes>"
            ]
          },
          "metadata": {
            "tags": []
          }
        }
      ]
    },
    {
      "cell_type": "code",
      "metadata": {
        "id": "gcRMY2gDTmW7",
        "outputId": "c092398d-3f0a-44ae-caef-0175bcc13534",
        "colab": {
          "base_uri": "https://localhost:8080/",
          "height": 452
        }
      },
      "source": [
        "from sklearn.metrics import confusion_matrix\n",
        "\n",
        "C = confusion_matrix(yts1, yhat)\n",
        "\n",
        "# Normalize the confusion matrix\n",
        "Csum = np.sum(C, 1)\n",
        "C = C / Csum[None, :]\n",
        "\n",
        "# Print the confusion matrix\n",
        "print(np.array_str(C, precision = 3, suppress_small = True))\n",
        "plt.imshow(C, interpolation = 'none')\n",
        "\n",
        "plt.colorbar()"
      ],
      "execution_count": 18,
      "outputs": [
        {
          "output_type": "stream",
          "text": [
            "[[0.962 0.    0.008 0.    0.002 0.017 0.008 0.002 0.    0.   ]\n",
            " [0.    0.973 0.004 0.002 0.    0.004 0.004 0.    0.016 0.   ]\n",
            " [0.011 0.014 0.862 0.012 0.006 0.01  0.019 0.015 0.051 0.004]\n",
            " [0.006 0.002 0.025 0.871 0.002 0.038 0.004 0.009 0.026 0.014]\n",
            " [0.    0.004 0.017 0.008 0.895 0.    0.015 0.004 0.01  0.043]\n",
            " [0.019 0.    0.006 0.057 0.016 0.826 0.017 0.011 0.031 0.012]\n",
            " [0.021 0.002 0.021 0.    0.019 0.019 0.909 0.002 0.004 0.   ]\n",
            " [0.004 0.011 0.033 0.016 0.014 0.    0.    0.888 0.004 0.033]\n",
            " [0.017 0.016 0.016 0.025 0.012 0.029 0.015 0.008 0.839 0.022]\n",
            " [0.008 0.007 0.004 0.01  0.041 0.01  0.    0.023 0.016 0.882]]\n"
          ],
          "name": "stdout"
        },
        {
          "output_type": "execute_result",
          "data": {
            "text/plain": [
              "<matplotlib.colorbar.Colorbar at 0x7f1b730a0b70>"
            ]
          },
          "metadata": {
            "tags": []
          },
          "execution_count": 18
        },
        {
          "output_type": "display_data",
          "data": {
            "image/png": "[encoded data removed]",
            "text/plain": [
              "<Figure size 432x288 with 2 Axes>"
            ]
          },
          "metadata": {
            "tags": [],
            "needs_background": "light"
          }
        }
      ]
    },
    {
      "cell_type": "markdown",
      "metadata": {
        "id": "Tpc0h2B9T--i"
      },
      "source": [
        "### Visualizing the weights"
      ]
    },
    {
      "cell_type": "code",
      "metadata": {
        "id": "Emqv5WdzUIBu",
        "outputId": "74bff60d-617a-4200-a47b-f393942383f1",
        "colab": {
          "base_uri": "https://localhost:8080/",
          "height": 279
        }
      },
      "source": [
        "W = logreg.coef_\n",
        "ndigit = W.shape[0]\n",
        "fig, ax = plt.subplots(2, 5, figsize = (10, 5))\n",
        "for i in range(ndigit):\n",
        "\n",
        "    irow = i // 5\n",
        "    icol = i % 5\n",
        "    plt_digit(ax[irow, icol], W[i, :])"
      ],
      "execution_count": 19,
      "outputs": [
        {
          "output_type": "display_data",
          "data": {
            "image/png": "[encoded data removed]",
            "text/plain": [
              "<Figure size 720x360 with 10 Axes>"
            ]
          },
          "metadata": {
            "tags": []
          }
        }
      ]
    },
    {
      "cell_type": "code",
      "metadata": {
        "id": "RUvxeKbiUXMo",
        "outputId": "8e86c578-ceb1-4844-d761-cea1548c4673",
        "colab": {
          "base_uri": "https://localhost:8080/",
          "height": 250
        }
      },
      "source": [
        "# Find digits with 2 and digits which are not true\n",
        "idig = 2\n",
        "Idig = np.where(ytr == idig)[0]\n",
        "Inodig = np.where(ytr != idig)[0]\n",
        "n = len(Idig)\n",
        "Idig = Idig[np.random.permutation(n)]\n",
        "n = len(Inodig)\n",
        "Inodig = Inodig[np.random.permutation(n)]\n",
        "\n",
        "# Set the weight to the first digit\n",
        "w = Xtr[Idig[0], :]\n",
        "w = w / np.sum(np.abs(w))\n",
        "\n",
        "# Find the correlation coefficient with the other digits 7\n",
        "nplot = 8\n",
        "fig, ax = plt.subplots(2, nplot, figsize = (12, 6))\n",
        "rho = np.zeros(nplot)\n",
        "\n",
        "for i in range(nplot):\n",
        "\n",
        "    # Get a true and false digit\n",
        "    j0 = Idig[i]\n",
        "    j1 = Inodig[i]\n",
        "    x0 = Xtr[j0, :]\n",
        "    x1 = Xtr[j1, :]\n",
        "\n",
        "    # Compute the correlations with the two digits\n",
        "    rho0 = w.dot(x0)\n",
        "    rho1 = w.dot(x1)\n",
        "\n",
        "    plt_digit(ax[0, i], x0)\n",
        "    ax[0, i].set_title('%5.3f' % rho0)\n",
        "    plt_digit(ax[1, i], x1)\n",
        "    ax[1, i].set_title('%5.3f' % rho1)\n",
        "\n",
        "plt.tight_layout()"
      ],
      "execution_count": 23,
      "outputs": [
        {
          "output_type": "display_data",
          "data": {
            "image/png": "[encoded data removed]",
            "text/plain": [
              "<Figure size 864x432 with 16 Axes>"
            ]
          },
          "metadata": {
            "tags": []
          }
        }
      ]
    },
    {
      "cell_type": "markdown",
      "metadata": {
        "id": "mS6410Q3WSCb"
      },
      "source": [
        "### Running SVM Classifier with linear kernel"
      ]
    },
    {
      "cell_type": "code",
      "metadata": {
        "id": "LTXCPFsKWePi"
      },
      "source": [
        "from sklearn import svm\n",
        "\n",
        "svc = svm.SVC(probability = False, kernel = 'linear', C = 2.8, gamma = .0073, verbose = 10)"
      ],
      "execution_count": 24,
      "outputs": []
    },
    {
      "cell_type": "code",
      "metadata": {
        "id": "cQbFkHOfWpo4"
      },
      "source": [
        "ntr1 = 5000\n",
        "nts1 = 5000\n",
        "Xtr1 = Xtr[Iperm[:ntr1], :]\n",
        "ytr1 = ytr[Iperm[:ntr1]]\n",
        "Xts1 = Xts[Iperm_ts[:nts1], :]\n",
        "yts1 = yts[Iperm_ts[:nts1]]"
      ],
      "execution_count": 26,
      "outputs": []
    },
    {
      "cell_type": "code",
      "metadata": {
        "id": "dH3euOAXW5Pn",
        "outputId": "cb492b48-3872-47da-d8a7-d643eac17f53",
        "colab": {
          "base_uri": "https://localhost:8080/"
        }
      },
      "source": [
        "svc.fit(Xtr, ytr)"
      ],
      "execution_count": 27,
      "outputs": [
        {
          "output_type": "stream",
          "text": [
            "[LibSVM]"
          ],
          "name": "stdout"
        },
        {
          "output_type": "execute_result",
          "data": {
            "text/plain": [
              "SVC(C=2.8, break_ties=False, cache_size=200, class_weight=None, coef0=0.0,\n",
              "    decision_function_shape='ovr', degree=3, gamma=0.0073, kernel='linear',\n",
              "    max_iter=-1, probability=False, random_state=None, shrinking=True,\n",
              "    tol=0.001, verbose=10)"
            ]
          },
          "metadata": {
            "tags": []
          },
          "execution_count": 27
        }
      ]
    },
    {
      "cell_type": "code",
      "metadata": {
        "id": "oq9tmB3FW_er"
      },
      "source": [
        "import pickle\n",
        "\n",
        "with open('mnist_svc.p', 'wb') as fp:\n",
        "    pickle.dump([svc, Xtr1, ytr1], fp)"
      ],
      "execution_count": 28,
      "outputs": []
    },
    {
      "cell_type": "code",
      "metadata": {
        "id": "gbZJgjsWXIuM"
      },
      "source": [
        "yhat_ts = svc.predict(Xts1)"
      ],
      "execution_count": 29,
      "outputs": []
    },
    {
      "cell_type": "code",
      "metadata": {
        "id": "xtSFL-mwXMeX",
        "outputId": "e69275f0-451c-499c-f7f6-2b8b91a2d6e4",
        "colab": {
          "base_uri": "https://localhost:8080/"
        }
      },
      "source": [
        "acc = np.mean(yhat_ts == yts1)\n",
        "print('Accuaracy = {0:f}'.format(acc))"
      ],
      "execution_count": 30,
      "outputs": [
        {
          "output_type": "stream",
          "text": [
            "Accuaracy = 0.928600\n"
          ],
          "name": "stdout"
        }
      ]
    },
    {
      "cell_type": "markdown",
      "metadata": {
        "id": "87xylkLQXRlx"
      },
      "source": [
        "### Looking at support vectors"
      ]
    },
    {
      "cell_type": "code",
      "metadata": {
        "id": "_TohRVSNXkul",
        "outputId": "a74e0e09-3361-490b-c873-c27f2e902bd4",
        "colab": {
          "base_uri": "https://localhost:8080/"
        }
      },
      "source": [
        "S = svc.support_vectors_\n",
        "S.shape"
      ],
      "execution_count": 31,
      "outputs": [
        {
          "output_type": "execute_result",
          "data": {
            "text/plain": [
              "(10124, 784)"
            ]
          },
          "metadata": {
            "tags": []
          },
          "execution_count": 31
        }
      ]
    },
    {
      "cell_type": "code",
      "metadata": {
        "id": "45g5eXy3XnW0",
        "outputId": "87226347-45ab-45fb-f85c-ce79654db350",
        "colab": {
          "base_uri": "https://localhost:8080/",
          "height": 156
        }
      },
      "source": [
        "nplt = 4\n",
        "nsv = S.shape[0]\n",
        "Iperms = np.random.permutation(nsv)\n",
        "fig, ax = plt.subplots(1, nplt, figsize = (10, 4))\n",
        "for i in range(nplt):\n",
        "\n",
        "    ind = Iperms[i]\n",
        "    plt_digit(ax[i], S[ind, :])"
      ],
      "execution_count": 33,
      "outputs": [
        {
          "output_type": "display_data",
          "data": {
            "image/png": "[encoded data removed]",
            "text/plain": [
              "<Figure size 720x288 with 4 Axes>"
            ]
          },
          "metadata": {
            "tags": []
          }
        }
      ]
    },
    {
      "cell_type": "markdown",
      "metadata": {
        "id": "xtYB6AJ0X05j"
      },
      "source": [
        "### SVM using RBP kernel"
      ]
    },
    {
      "cell_type": "code",
      "metadata": {
        "id": "BFeo2UUJX5JC"
      },
      "source": [
        "svcrbf = svm.SVC(probability = False, kernel = 'rbf', C = 2.8, gamma = 0.0073, verbose = 10)"
      ],
      "execution_count": 34,
      "outputs": []
    },
    {
      "cell_type": "code",
      "metadata": {
        "id": "BWt-HnxqYET1",
        "outputId": "b601fb6c-f641-45a7-b8f4-c234103e5411",
        "colab": {
          "base_uri": "https://localhost:8080/"
        }
      },
      "source": [
        "svcrbf.fit(Xtr1, ytr1)"
      ],
      "execution_count": 36,
      "outputs": [
        {
          "output_type": "stream",
          "text": [
            "[LibSVM]"
          ],
          "name": "stdout"
        },
        {
          "output_type": "execute_result",
          "data": {
            "text/plain": [
              "SVC(C=2.8, break_ties=False, cache_size=200, class_weight=None, coef0=0.0,\n",
              "    decision_function_shape='ovr', degree=3, gamma=0.0073, kernel='rbf',\n",
              "    max_iter=-1, probability=False, random_state=None, shrinking=True,\n",
              "    tol=0.001, verbose=10)"
            ]
          },
          "metadata": {
            "tags": []
          },
          "execution_count": 36
        }
      ]
    },
    {
      "cell_type": "code",
      "metadata": {
        "id": "y-TBizvCYPQU",
        "outputId": "ce816494-beb6-4abe-e03b-af7ca62856bb",
        "colab": {
          "base_uri": "https://localhost:8080/"
        }
      },
      "source": [
        "yhat_ts = svcrbf.predict(Xts1)\n",
        "acc = np.mean(yhat_ts == yts1)\n",
        "print('Accuaracy = {0:f}'.format(acc))"
      ],
      "execution_count": 37,
      "outputs": [
        {
          "output_type": "stream",
          "text": [
            "Accuaracy = 0.961400\n"
          ],
          "name": "stdout"
        }
      ]
    },
    {
      "cell_type": "code",
      "metadata": {
        "id": "Xl0FKd1uYYlf",
        "outputId": "b8c44e3d-58df-49cd-b985-d66eca46655e",
        "colab": {
          "base_uri": "https://localhost:8080/",
          "height": 172
        }
      },
      "source": [
        "Ierr = np.where((yhat_ts != yts1))[0]\n",
        "nplt = 4\n",
        "fig, ax = plt.subplots(1,nplt,figsize=(10, 4))\n",
        "for i in range(nplt):             \n",
        "    ind = Ierr[i]    \n",
        "    plt_digit(ax[i], Xts1[ind,:])        \n",
        "    title = 'true={0:d} est={1:d}'.format(yts1[ind].astype(int), yhat_ts[ind].astype(int))\n",
        "    ax[i].set_title(title)"
      ],
      "execution_count": 38,
      "outputs": [
        {
          "output_type": "display_data",
          "data": {
            "image/png": "[encoded data removed]",
            "text/plain": [
              "<Figure size 720x288 with 4 Axes>"
            ]
          },
          "metadata": {
            "tags": []
          }
        }
      ]
    },
    {
      "cell_type": "markdown",
      "metadata": {
        "id": "ZZuRHqqFYeU7"
      },
      "source": [
        "### Support Vectors"
      ]
    },
    {
      "cell_type": "code",
      "metadata": {
        "id": "BzKQ2lccYgR3",
        "outputId": "19b13696-8956-4cc5-bad6-6da0386a51ea",
        "colab": {
          "base_uri": "https://localhost:8080/"
        }
      },
      "source": [
        "S = svcrbf.support_vectors_\n",
        "S.shape"
      ],
      "execution_count": 39,
      "outputs": [
        {
          "output_type": "execute_result",
          "data": {
            "text/plain": [
              "(2965, 784)"
            ]
          },
          "metadata": {
            "tags": []
          },
          "execution_count": 39
        }
      ]
    },
    {
      "cell_type": "code",
      "metadata": {
        "id": "Bzaha308YiE-",
        "outputId": "c664cacb-a4ba-47ff-db64-2348801adf34",
        "colab": {
          "base_uri": "https://localhost:8080/",
          "height": 156
        }
      },
      "source": [
        "nplt = 4\n",
        "nsv = S.shape[0]\n",
        "Iperms = np.random.permutation(nsv)\n",
        "fig, ax = plt.subplots(1,nplt,figsize=(10, 4))\n",
        "for i in range(nplt):        \n",
        "    ind = Iperms[i]\n",
        "    plt_digit(ax[i], S[ind,:])"
      ],
      "execution_count": 40,
      "outputs": [
        {
          "output_type": "display_data",
          "data": {
            "image/png": "[encoded data removed]",
            "text/plain": [
              "<Figure size 720x288 with 4 Axes>"
            ]
          },
          "metadata": {
            "tags": []
          }
        }
      ]
    }
  ]
}