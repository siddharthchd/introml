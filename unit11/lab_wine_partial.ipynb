{
  "nbformat": 4,
  "nbformat_minor": 0,
  "metadata": {
    "kernelspec": {
      "display_name": "Python 3",
      "language": "python",
      "name": "python3"
    },
    "language_info": {
      "codemirror_mode": {
        "name": "ipython",
        "version": 3
      },
      "file_extension": ".py",
      "mimetype": "text/x-python",
      "name": "python",
      "nbconvert_exporter": "python",
      "pygments_lexer": "ipython3",
      "version": "3.6.7"
    },
    "colab": {
      "name": "lab_wine_partial.ipynb",
      "provenance": [],
      "include_colab_link": true
    }
  },
  "cells": [
    {
      "cell_type": "markdown",
      "metadata": {
        "id": "view-in-github",
        "colab_type": "text"
      },
      "source": [
        "<a href=\"https://colab.research.google.com/github/siddharthchd/introml/blob/master/unit11/lab_wine_partial.ipynb\" target=\"_parent\"><img src=\"https://colab.research.google.com/assets/colab-badge.svg\" alt=\"Open In Colab\"/></a>"
      ]
    },
    {
      "cell_type": "markdown",
      "metadata": {
        "id": "fduSNj07Vp7U"
      },
      "source": [
        "# Lab:  Hyper-Parameter Optimization with PCA\n",
        "\n",
        "PCA is often applied as a pre-processing step with classifiers.  When using PCA in this manner, one must select the number of PC components to use along with parameters in classifier.  In this lab, we will demonstrate how to performing this *hyper-parameter optimization*.  In doing the lab, you will learn to:\n",
        "\n",
        "* Combine PCA with data scaling.\n",
        "* Compute and visualize PC components\n",
        "* Select the number of PCs with K-fold cross validation\n",
        "* Implement the multi-stage classifier pipeline in sklearn\n",
        "* Perform automatic parameter search using `GridSearchCV` in combination with a pipeline.\n",
        "\n",
        "We first download the basic packages."
      ]
    },
    {
      "cell_type": "code",
      "metadata": {
        "id": "sTV8ZprfVp7V"
      },
      "source": [
        "import numpy as np\n",
        "import matplotlib\n",
        "import matplotlib.pyplot as plt"
      ],
      "execution_count": 1,
      "outputs": []
    },
    {
      "cell_type": "markdown",
      "metadata": {
        "id": "qMCZNUn6Vp7V"
      },
      "source": [
        "## Downloading the Data\n",
        "\n",
        "We will use a very simple `wine` dataset, commonly used in teaching machine learning class.  The problem is to classify the type of red wine from features of the wine such as the `alchohol` and other chemical components.  There are three possible wine types."
      ]
    },
    {
      "cell_type": "code",
      "metadata": {
        "id": "NQ6hOWzVVp7V",
        "colab": {
          "base_uri": "https://localhost:8080/"
        },
        "outputId": "f3c91f51-8e46-43cf-9348-167b5028d9ea"
      },
      "source": [
        "from sklearn.datasets import load_wine\n",
        "from sklearn.model_selection import KFold\n",
        "data = load_wine()\n",
        "\n",
        "# TODO print the features names in data.feature_names and data.target_names\n",
        "print('Feature Names : {}'.format(data.feature_names))\n",
        "print('Target Names : {}'.format(data.target_names))"
      ],
      "execution_count": 3,
      "outputs": [
        {
          "output_type": "stream",
          "text": [
            "Feature Names : ['alcohol', 'malic_acid', 'ash', 'alcalinity_of_ash', 'magnesium', 'total_phenols', 'flavanoids', 'nonflavanoid_phenols', 'proanthocyanins', 'color_intensity', 'hue', 'od280/od315_of_diluted_wines', 'proline']\n",
            "Target Names : ['class_0' 'class_1' 'class_2']\n"
          ],
          "name": "stdout"
        }
      ]
    },
    {
      "cell_type": "markdown",
      "metadata": {
        "id": "5DG6gnM-Vp7V"
      },
      "source": [
        "Get the data matrix `X` from `data.data` and the target values `y` from `data.target`.  Print the number of samples, number of features and number of classes."
      ]
    },
    {
      "cell_type": "code",
      "metadata": {
        "id": "CVB6xshSVp7V",
        "colab": {
          "base_uri": "https://localhost:8080/"
        },
        "outputId": "c8ee2138-750a-49e9-baa4-e16f3ca4e01f"
      },
      "source": [
        "# TODO\n",
        "X = data.data\n",
        "y = data.target\n",
        "\n",
        "nsamples = X.shape[0]\n",
        "nfeatures = X.shape[1]\n",
        "nclasses = len(np.unique(y))\n",
        "\n",
        "print('Number of Samples : {}'.format(nsamples))\n",
        "print('Number of Features : {}'.format(nfeatures))\n",
        "print('Number of Classes : {}'.format(nclasses))"
      ],
      "execution_count": 4,
      "outputs": [
        {
          "output_type": "stream",
          "text": [
            "Number of Samples : 178\n",
            "Number of Features : 13\n",
            "Number of Classes : 3\n"
          ],
          "name": "stdout"
        }
      ]
    },
    {
      "cell_type": "markdown",
      "metadata": {
        "id": "FgfFDKf5Vp7V"
      },
      "source": [
        "## Perform PCA for Visualization\n",
        "\n",
        "Before performing PCA, you should scale the data matrix to remove the mean and normalize the variance of the different components.  For this purpose, create a `StandardScaling` object `scaling`.  Then `fit` the scaling with the entire data `X`.  Transform the data and let `Xs` be the scaled data."
      ]
    },
    {
      "cell_type": "code",
      "metadata": {
        "id": "C7F4_SnpVp7V"
      },
      "source": [
        "from sklearn.preprocessing import StandardScaler\n",
        "\n",
        "# TODO\n",
        "scaling = StandardScaler()\n",
        "scaling.fit(X)\n",
        "Xs = scaling.transform(X)"
      ],
      "execution_count": 5,
      "outputs": []
    },
    {
      "cell_type": "markdown",
      "metadata": {
        "id": "oN-gSo-YVp7V"
      },
      "source": [
        "Now, fit a PCA on the scaled data matrix `Xs`.  You can use the `sklearn` `PCA` method.  In order that we can visualize the results set `n_components=2`.  Select `svd_solver='randomized'` and `whiten=True`.  Use the the `pca.transform` method to find, `Z`, the coefficients of `Xs` in the PCA basis."
      ]
    },
    {
      "cell_type": "code",
      "metadata": {
        "id": "Uld_36fnVp7V"
      },
      "source": [
        "from sklearn.decomposition import PCA\n",
        "\n",
        "# TODO\n",
        "ncomp = 2\n",
        "pca = PCA(n_components = ncomp, svd_solver = 'randomized', whiten = True)\n",
        "pca.fit(Xs)\n",
        "Z = pca.transform(Xs)"
      ],
      "execution_count": 6,
      "outputs": []
    },
    {
      "cell_type": "markdown",
      "metadata": {
        "id": "KlfuYocqVp7V"
      },
      "source": [
        "In the transformed basis, each data sample is represented by a two dimensional vector, `Z[i,0], Z[i,1]`.  Plot a scatter plot of the transformed data.  Use different marker colors for the different classes.  If you did everything, you should see that the classes are quite well separated with even two PCs."
      ]
    },
    {
      "cell_type": "code",
      "metadata": {
        "id": "ad2DXwkuVp7V",
        "colab": {
          "base_uri": "https://localhost:8080/",
          "height": 281
        },
        "outputId": "30c709ae-00fa-44fe-d46a-71395f22d8d0"
      },
      "source": [
        "# TODO\n",
        "plt.scatter(Z[y == 0, 0], Z[y == 0, 1], c = 'r')\n",
        "plt.scatter(Z[y == 1, 0], Z[y == 1, 1], c = 'b')\n",
        "plt.scatter(Z[y == 2, 0], Z[y == 2, 1], c = 'g')\n",
        "plt.legend(data.target_names)"
      ],
      "execution_count": 10,
      "outputs": [
        {
          "output_type": "execute_result",
          "data": {
            "text/plain": [
              "<matplotlib.legend.Legend at 0x7f0018d9c5c0>"
            ]
          },
          "metadata": {
            "tags": []
          },
          "execution_count": 10
        },
        {
          "output_type": "display_data",
          "data": {
            "image/png": "[encoded data removed]",
            "text/plain": [
              "<Figure size 432x288 with 1 Axes>"
            ]
          },
          "metadata": {
            "tags": [],
            "needs_background": "light"
          }
        }
      ]
    },
    {
      "cell_type": "markdown",
      "metadata": {
        "id": "AAcccsZIVp7V"
      },
      "source": [
        "Now, refit the scaled data `Xs` using `n_components=nfeatures` where `nfeatures` is the number of features.  This is the maximum number of PCs.  Get the singular values from `pca.singular_values_` and plot the portion of variation as a function of the number of PCs.   The PoV for using `n` PCs is:\n",
        "\n",
        "    PoV[n]  = \\sum_{i=0}^{n-1}  s[i]**2 / \\sum_{i=0}^{d-1}  s[i]**2\n",
        "    \n",
        "where `s[i]` is the `i`-th singular value and `d` is the number of features.  You should see that the 4 PCs contains more than 70% of the variance."
      ]
    },
    {
      "cell_type": "code",
      "metadata": {
        "id": "a5MXNjOLVp7V",
        "colab": {
          "base_uri": "https://localhost:8080/",
          "height": 281
        },
        "outputId": "d923056b-4ffe-431f-ee81-604cf102d91c"
      },
      "source": [
        "# TODO\n",
        "pca = PCA(n_components = nfeatures)\n",
        "pca.fit(Xs)\n",
        "s = pca.singular_values_\n",
        "\n",
        "pov = np.cumsum(s ** 2) / np.sum(s ** 2)\n",
        "plt.plot(pov)"
      ],
      "execution_count": 11,
      "outputs": [
        {
          "output_type": "execute_result",
          "data": {
            "text/plain": [
              "[<matplotlib.lines.Line2D at 0x7f0018d3e5c0>]"
            ]
          },
          "metadata": {
            "tags": []
          },
          "execution_count": 11
        },
        {
          "output_type": "display_data",
          "data": {
            "image/png": "[encoded data removed]",
            "text/plain": [
              "<Figure size 432x288 with 1 Axes>"
            ]
          },
          "metadata": {
            "tags": [],
            "needs_background": "light"
          }
        }
      ]
    },
    {
      "cell_type": "markdown",
      "metadata": {
        "id": "Ws6j9s-dVp7V"
      },
      "source": [
        "## Using PCA with Classification \n",
        "\n",
        "We will now use data scaling and PCA as a pre-processing step for logistic classification.  The number of PCs to use can be found with cross-validation.  Complete the code below which tries different number of PCs components to use and measures the test accuracy for each value."
      ]
    },
    {
      "cell_type": "code",
      "metadata": {
        "id": "ansb_sJrVp7V"
      },
      "source": [
        "from sklearn.preprocessing import StandardScaler\n",
        "from sklearn.linear_model import LogisticRegression\n",
        "nfold = 5\n",
        "\n",
        "# Create a K-fold object\n",
        "kf = KFold(n_splits=nfold)\n",
        "kf.get_n_splits(X)\n",
        "\n",
        "# Number of PCs to try\n",
        "ncomp_test = np.arange(2,12)\n",
        "num_nc = len(ncomp_test)\n",
        "\n",
        "# Accuracy:  acc[icomp,ifold]  is test accuracy when using `ncomp = ncomp_test[icomp]` in fold `ifold`.\n",
        "acc = np.zeros((num_nc,nfold))\n",
        "\n",
        "# Loop over number of components to test\n",
        "for icomp, ncomp in enumerate(ncomp_test):\n",
        "    \n",
        "    # Look over the folds\n",
        "    for ifold, I in enumerate(kf.split(X)):\n",
        "        Itr, Its = I\n",
        "\n",
        "        # TODO:  Split data into training \n",
        "        Xtr, Xts, ytr, yts = X[Itr], X[Its], y[Itr], y[Its]\n",
        "\n",
        "        # TODO:  Create a scaling object and fit the scaling on the training data\n",
        "        scaling = StandardScaler()\n",
        "        Xtrs = scaling.fit_transform(Xtr)\n",
        "\n",
        "        # TODO:  Fit the PCA on the scaled training data\n",
        "        pca = PCA(n_components = ncomp, svd_solver = 'randomized', whiten = True)\n",
        "        Xtr1 = pca.fit_transform(Xtrs)\n",
        "\n",
        "        # TODO:  Train a classifier on the transformed training data\n",
        "        # Use a logistic regression classifier\n",
        "        logreg = LogisticRegression(multi_class = 'auto', solver = 'lbfgs')\n",
        "        logreg.fit(Xtr1, ytr)\n",
        "\n",
        "        # TODO:  Transform the test data through data scaler and PCA\n",
        "        Xtss = scaling.transform(Xts)\n",
        "        Xts1 = pca.transform(Xtss)\n",
        "\n",
        "        # TODO:  Predict the labels the test data\n",
        "        yhat = logreg.predict(Xts1)\n",
        "\n",
        "        # TODO:  Measure the accuracy \n",
        "        acc[icomp, ifold] = np.mean(yhat == yts)\n"
      ],
      "execution_count": 15,
      "outputs": []
    },
    {
      "cell_type": "markdown",
      "metadata": {
        "id": "jo5tTnnlVp7V"
      },
      "source": [
        "Use the `plt.errorbar` function to plot the mean accuracy with error bars corresponding to the standard error of the accuracy as a function of the number of components.  Find the optimal number of PCs to use according to the normal rule and one SE rule.  If you did it correctly, you should get an accuracy of around 96%."
      ]
    },
    {
      "cell_type": "code",
      "metadata": {
        "id": "csqAR6FmVp7V",
        "colab": {
          "base_uri": "https://localhost:8080/",
          "height": 297
        },
        "outputId": "52156e6c-8684-45e4-953a-6c394128d4b6"
      },
      "source": [
        "# TODO:\n",
        "acc_mean = np.mean(acc, axis = 1)\n",
        "acc_se = np.std(acc, axis = 1) / np.sqrt(nfold - 1)\n",
        "plt.errorbar(ncomp_test, acc_mean, marker = 'o', yerr = acc_se, ecolor = 'r')\n",
        "\n",
        "# TODO:  Optimal order with the normal rule\n",
        "opt_normal = np.argmax(acc_mean)\n",
        "print('Optimal order with normal rule : {}'.format(opt_normal))\n",
        "\n",
        "# TODO:  Optimal order with one SE rule\n",
        "acc_target = acc_mean[opt_normal] - acc_se[opt_normal]\n",
        "opt_se = np.argmax(acc_mean > acc_target)\n",
        "print('Optimal order with one SE rule : {}'.format(opt_se + 2))"
      ],
      "execution_count": 16,
      "outputs": [
        {
          "output_type": "stream",
          "text": [
            "Optimal order with normal rule : 9\n",
            "Optimal order with one SE rule : 7\n"
          ],
          "name": "stdout"
        },
        {
          "output_type": "display_data",
          "data": {
            "image/png": "[encoded data removed]",
            "text/plain": [
              "<Figure size 432x288 with 1 Axes>"
            ]
          },
          "metadata": {
            "tags": [],
            "needs_background": "light"
          }
        }
      ]
    },
    {
      "cell_type": "markdown",
      "metadata": {
        "id": "Yr0vmJu5Vp7V"
      },
      "source": [
        "## Hyper-Parameter Optimization with GridCV.\n",
        "\n",
        "We will now try a more complex classifier -- a support vector classifier with a radial basis function.  When we use such a classifer, there will be a number of parameters to tune.  When the number of parameters to tune becomes large, writing a loop over multiple parameters as we did above becomes cumbersome.  The `sklearn` package has a very nice routine, `GridSearchCV` to perform this sort of parameter search.  \n",
        "\n",
        "Before, we do this we need to create an estimator `Pipeline`.  An estimator pipeline is a sequence of transformations followed by an estimator that will operate on the transformed data.  Create the following pipeline:\n",
        "\n",
        "*  Create a `StandardScaler()` object called `scaler` for the first transformation\n",
        "*  Create a `PCA()` object called `pca` for the second transformation\n",
        "*  Create a `SVC()` object called `svc` for the final SVM classifier.  Set the parameter `kernel='rbf'`.\n",
        "\n",
        "Once you have the three steps defined, you can create the pipeline with the command:\n",
        "    \n",
        "    pipe = Pipeline(steps=[('scaler', scaler), ('pca', pca), ('svc', svc)])"
      ]
    },
    {
      "cell_type": "code",
      "metadata": {
        "id": "i2FCI0rzVp7V"
      },
      "source": [
        "from sklearn.pipeline import Pipeline\n",
        "from sklearn.model_selection import GridSearchCV\n",
        "from sklearn.svm import SVC\n",
        "\n",
        "# TODO\n",
        "scaler = StandardScaler()\n",
        "pca = PCA()\n",
        "svc = SVC(kernel = 'rbf')\n",
        "pipe = Pipeline(steps=[('scaler', scaler), ('pca', pca), ('svc', svc)])"
      ],
      "execution_count": 17,
      "outputs": []
    },
    {
      "cell_type": "markdown",
      "metadata": {
        "id": "9zgN3yy3Vp7V"
      },
      "source": [
        "We next define all the parameters that we want to search over.  Define the following arrays:\n",
        "\n",
        "*  `ncomp_test`:  values from 3 to 10 representing number of PCs to test\n",
        "*  `C_test`:  values of `C` in the SVC to test.  Use `10^{-2}, 10^{-1}, ... ,10^{3}` \n",
        "*  `gam_test`:  values of `gamma` in the SVC to test.  Use `10^{-3}, 10^{-2}, ... ,10^{1}` "
      ]
    },
    {
      "cell_type": "code",
      "metadata": {
        "id": "tZWUpY_GVp7V"
      },
      "source": [
        "# TODO\n",
        "ncomp_test = np.arange(3, 11)\n",
        "c_test = np.logspace(-2, 3, num = 6)\n",
        "gam_test = np.logspace(-3, 1, num = 5)"
      ],
      "execution_count": 18,
      "outputs": []
    },
    {
      "cell_type": "markdown",
      "metadata": {
        "id": "WeqkzZolVp7V"
      },
      "source": [
        "Next, we create a dictionary `params` of the form:\n",
        "\n",
        "    params =  {'pca__n_components': ncomp_test, 'svc__C' : c_test, ...}\n",
        "    \n",
        "Each key in the dictionary is the of the form `estimator__param` and the value is the values to be tested."
      ]
    },
    {
      "cell_type": "code",
      "metadata": {
        "id": "GPzvxg8FVp7V"
      },
      "source": [
        "# TODO\n",
        "params = {'pca__n_components' : ncomp_test, 'svc__C' : c_test, 'svc__gamma' : gam_test}"
      ],
      "execution_count": 19,
      "outputs": []
    },
    {
      "cell_type": "markdown",
      "metadata": {
        "id": "bu97SmhMVp7V"
      },
      "source": [
        "Finally, an object `estimator = GridSearchCV(...)` from  `pipe` and `params`.  Set `cv=5`, `train_score=True` and `iid=False`.  Fit the estimator from the data `X,y`.  Then the estimator will perform the cross-validation over all the parameters.  This may take a minute since we are search over so many parameters."
      ]
    },
    {
      "cell_type": "code",
      "metadata": {
        "id": "I44GnTvdVp7V",
        "colab": {
          "base_uri": "https://localhost:8080/"
        },
        "outputId": "022f2a4e-7415-4925-bf1b-46e48c936828"
      },
      "source": [
        "# TODO\n",
        "estimator = GridSearchCV(pipe, params, cv = 5, return_train_score = True, iid = False)\n",
        "estimator.fit(X, y)"
      ],
      "execution_count": 20,
      "outputs": [
        {
          "output_type": "stream",
          "text": [
            "/usr/local/lib/python3.6/dist-packages/sklearn/model_selection/_search.py:823: FutureWarning: The parameter 'iid' is deprecated in 0.22 and will be removed in 0.24.\n",
            "  \"removed in 0.24.\", FutureWarning\n"
          ],
          "name": "stderr"
        },
        {
          "output_type": "execute_result",
          "data": {
            "text/plain": [
              "GridSearchCV(cv=5, error_score=nan,\n",
              "             estimator=Pipeline(memory=None,\n",
              "                                steps=[('scaler',\n",
              "                                        StandardScaler(copy=True,\n",
              "                                                       with_mean=True,\n",
              "                                                       with_std=True)),\n",
              "                                       ('pca',\n",
              "                                        PCA(copy=True, iterated_power='auto',\n",
              "                                            n_components=None,\n",
              "                                            random_state=None,\n",
              "                                            svd_solver='auto', tol=0.0,\n",
              "                                            whiten=False)),\n",
              "                                       ('svc',\n",
              "                                        SVC(C=1.0, break_ties=False,\n",
              "                                            cache_size=200, class_weight=None,\n",
              "                                            coef0=0.0,\n",
              "                                            decision_functi...\n",
              "                                            random_state=None, shrinking=True,\n",
              "                                            tol=0.001, verbose=False))],\n",
              "                                verbose=False),\n",
              "             iid=False, n_jobs=None,\n",
              "             param_grid={'pca__n_components': array([ 3,  4,  5,  6,  7,  8,  9, 10]),\n",
              "                         'svc__C': array([1.e-02, 1.e-01, 1.e+00, 1.e+01, 1.e+02, 1.e+03]),\n",
              "                         'svc__gamma': array([1.e-03, 1.e-02, 1.e-01, 1.e+00, 1.e+01])},\n",
              "             pre_dispatch='2*n_jobs', refit=True, return_train_score=True,\n",
              "             scoring=None, verbose=0)"
            ]
          },
          "metadata": {
            "tags": []
          },
          "execution_count": 20
        }
      ]
    },
    {
      "cell_type": "markdown",
      "metadata": {
        "id": "o62vpHW4Vp7V"
      },
      "source": [
        "Print the best test score and best parameters.  They are fields in `estimator`.  If you did it correctly, it should be a little higher than the logistic regression (about 0.97 to 0.98 accuracy)."
      ]
    },
    {
      "cell_type": "code",
      "metadata": {
        "id": "5XxXDnRIVp7V",
        "colab": {
          "base_uri": "https://localhost:8080/"
        },
        "outputId": "27d7a716-ec98-4f98-b115-30fd1bc524c1"
      },
      "source": [
        "# TODO\n",
        "print('Best score : {}'.format(estimator.best_score_))\n",
        "print('Best estimator : {}'.format(estimator.best_estimator_))"
      ],
      "execution_count": 21,
      "outputs": [
        {
          "output_type": "stream",
          "text": [
            "Best score : 0.9777777777777779\n",
            "Best estimator : Pipeline(memory=None,\n",
            "         steps=[('scaler',\n",
            "                 StandardScaler(copy=True, with_mean=True, with_std=True)),\n",
            "                ('pca',\n",
            "                 PCA(copy=True, iterated_power='auto', n_components=5,\n",
            "                     random_state=None, svd_solver='auto', tol=0.0,\n",
            "                     whiten=False)),\n",
            "                ('svc',\n",
            "                 SVC(C=1.0, break_ties=False, cache_size=200, class_weight=None,\n",
            "                     coef0=0.0, decision_function_shape='ovr', degree=3,\n",
            "                     gamma=0.1, kernel='rbf', max_iter=-1, probability=False,\n",
            "                     random_state=None, shrinking=True, tol=0.001,\n",
            "                     verbose=False))],\n",
            "         verbose=False)\n"
          ],
          "name": "stdout"
        }
      ]
    },
    {
      "cell_type": "markdown",
      "metadata": {
        "id": "e6xqjljjVp7V"
      },
      "source": [
        "Finally, you can get the test score for all the parameter choices from \n",
        "\n",
        "    test_score = estimator.cv_results_['mean_test_score']\n",
        "    \n",
        "Use the `imshow` command to plot the mean test score over `gamma` and `C` for the value `n_components=5`."
      ]
    },
    {
      "cell_type": "code",
      "metadata": {
        "id": "buYViUmmVp7V",
        "colab": {
          "base_uri": "https://localhost:8080/",
          "height": 281
        },
        "outputId": "2584118d-d117-4d6e-89ca-0a02de6d4421"
      },
      "source": [
        "# TODO\n",
        "test_score = estimator.cv_results_['mean_test_score']\n",
        "test_score = test_score.reshape((len(ncomp_test), len(c_test), len(gam_test)))\n",
        "plt.imshow(test_score[2])"
      ],
      "execution_count": 22,
      "outputs": [
        {
          "output_type": "execute_result",
          "data": {
            "text/plain": [
              "<matplotlib.image.AxesImage at 0x7f001c40f550>"
            ]
          },
          "metadata": {
            "tags": []
          },
          "execution_count": 22
        },
        {
          "output_type": "display_data",
          "data": {
            "image/png": "[encoded data removed]",
            "text/plain": [
              "<Figure size 432x288 with 1 Axes>"
            ]
          },
          "metadata": {
            "tags": [],
            "needs_background": "light"
          }
        }
      ]
    }
  ]
}